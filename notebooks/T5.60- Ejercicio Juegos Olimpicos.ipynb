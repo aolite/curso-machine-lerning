{
 "cells": [
  {
   "cell_type": "markdown",
   "source": [
    "# Ejercicio de Olympic Games (60-61-62)"
   ],
   "metadata": {
    "collapsed": false
   }
  },
  {
   "cell_type": "markdown",
   "source": [
    "## JOINS DE DATASETS"
   ],
   "metadata": {
    "collapsed": false
   }
  },
  {
   "cell_type": "code",
   "execution_count": 2,
   "outputs": [],
   "source": [
    "import pandas as pd"
   ],
   "metadata": {
    "collapsed": false
   }
  },
  {
   "cell_type": "code",
   "execution_count": 3,
   "outputs": [],
   "source": [
    "file_path = '../data/athletes/'\n",
    "main_dataset = pd.read_csv(file_path + 'Medals.csv', encoding='ISO-8859-1')"
   ],
   "metadata": {
    "collapsed": false
   }
  },
  {
   "cell_type": "code",
   "execution_count": 4,
   "outputs": [
    {
     "data": {
      "text/plain": "            Athlete   Age  Year Closing Ceremony Date  Gold Medals  \\\n0    Michael Phelps  23.0  2008            08/24/2008            8   \n1    Michael Phelps  19.0  2004            08/29/2004            6   \n2    Michael Phelps  27.0  2012            08/12/2012            4   \n3  Natalie Coughlin  25.0  2008            08/24/2008            1   \n4     Aleksey Nemov  24.0  2000            10/01/2000            2   \n\n   Silver Medals  Bronze Medals  Total Medals  \n0              0              0             8  \n1              0              2             8  \n2              2              0             6  \n3              2              3             6  \n4              1              3             6  ",
      "text/html": "<div>\n<style scoped>\n    .dataframe tbody tr th:only-of-type {\n        vertical-align: middle;\n    }\n\n    .dataframe tbody tr th {\n        vertical-align: top;\n    }\n\n    .dataframe thead th {\n        text-align: right;\n    }\n</style>\n<table border=\"1\" class=\"dataframe\">\n  <thead>\n    <tr style=\"text-align: right;\">\n      <th></th>\n      <th>Athlete</th>\n      <th>Age</th>\n      <th>Year</th>\n      <th>Closing Ceremony Date</th>\n      <th>Gold Medals</th>\n      <th>Silver Medals</th>\n      <th>Bronze Medals</th>\n      <th>Total Medals</th>\n    </tr>\n  </thead>\n  <tbody>\n    <tr>\n      <th>0</th>\n      <td>Michael Phelps</td>\n      <td>23.0</td>\n      <td>2008</td>\n      <td>08/24/2008</td>\n      <td>8</td>\n      <td>0</td>\n      <td>0</td>\n      <td>8</td>\n    </tr>\n    <tr>\n      <th>1</th>\n      <td>Michael Phelps</td>\n      <td>19.0</td>\n      <td>2004</td>\n      <td>08/29/2004</td>\n      <td>6</td>\n      <td>0</td>\n      <td>2</td>\n      <td>8</td>\n    </tr>\n    <tr>\n      <th>2</th>\n      <td>Michael Phelps</td>\n      <td>27.0</td>\n      <td>2012</td>\n      <td>08/12/2012</td>\n      <td>4</td>\n      <td>2</td>\n      <td>0</td>\n      <td>6</td>\n    </tr>\n    <tr>\n      <th>3</th>\n      <td>Natalie Coughlin</td>\n      <td>25.0</td>\n      <td>2008</td>\n      <td>08/24/2008</td>\n      <td>1</td>\n      <td>2</td>\n      <td>3</td>\n      <td>6</td>\n    </tr>\n    <tr>\n      <th>4</th>\n      <td>Aleksey Nemov</td>\n      <td>24.0</td>\n      <td>2000</td>\n      <td>10/01/2000</td>\n      <td>2</td>\n      <td>1</td>\n      <td>3</td>\n      <td>6</td>\n    </tr>\n  </tbody>\n</table>\n</div>"
     },
     "execution_count": 4,
     "metadata": {},
     "output_type": "execute_result"
    }
   ],
   "source": [
    "main_dataset.head()"
   ],
   "metadata": {
    "collapsed": false
   }
  },
  {
   "cell_type": "markdown",
   "source": [
    "Lo que vamos a hacer es seleccionar información referentes al dataset.\n",
    "\n",
    "El primer caso va a seleccionar los athletas unicos:"
   ],
   "metadata": {
    "collapsed": false
   }
  },
  {
   "cell_type": "code",
   "execution_count": 5,
   "outputs": [],
   "source": [
    "unique_athletes = main_dataset['Athlete'].unique().tolist()"
   ],
   "metadata": {
    "collapsed": false
   }
  },
  {
   "cell_type": "code",
   "execution_count": 6,
   "outputs": [
    {
     "data": {
      "text/plain": "6956"
     },
     "execution_count": 6,
     "metadata": {},
     "output_type": "execute_result"
    }
   ],
   "source": [
    "len(unique_athletes)"
   ],
   "metadata": {
    "collapsed": false
   }
  },
  {
   "cell_type": "code",
   "execution_count": 7,
   "outputs": [
    {
     "data": {
      "text/plain": "(8618, 8)"
     },
     "execution_count": 7,
     "metadata": {},
     "output_type": "execute_result"
    }
   ],
   "source": [
    "main_dataset.shape"
   ],
   "metadata": {
    "collapsed": false
   }
  },
  {
   "cell_type": "markdown",
   "source": [
    "Ahora, lo que vamos a cargar son los paises a los que representa cada athleta:"
   ],
   "metadata": {
    "collapsed": false
   }
  },
  {
   "cell_type": "code",
   "execution_count": 8,
   "outputs": [],
   "source": [
    "data_country = pd.read_csv(file_path+'Athelete_Country_Map.csv', encoding='ISO-8859-1')"
   ],
   "metadata": {
    "collapsed": false
   }
  },
  {
   "cell_type": "code",
   "execution_count": 9,
   "outputs": [
    {
     "data": {
      "text/plain": "            Athlete        Country\n0    Michael Phelps  United States\n1  Natalie Coughlin  United States\n2     Aleksey Nemov         Russia\n3     Alicia Coutts      Australia\n4    Missy Franklin  United States",
      "text/html": "<div>\n<style scoped>\n    .dataframe tbody tr th:only-of-type {\n        vertical-align: middle;\n    }\n\n    .dataframe tbody tr th {\n        vertical-align: top;\n    }\n\n    .dataframe thead th {\n        text-align: right;\n    }\n</style>\n<table border=\"1\" class=\"dataframe\">\n  <thead>\n    <tr style=\"text-align: right;\">\n      <th></th>\n      <th>Athlete</th>\n      <th>Country</th>\n    </tr>\n  </thead>\n  <tbody>\n    <tr>\n      <th>0</th>\n      <td>Michael Phelps</td>\n      <td>United States</td>\n    </tr>\n    <tr>\n      <th>1</th>\n      <td>Natalie Coughlin</td>\n      <td>United States</td>\n    </tr>\n    <tr>\n      <th>2</th>\n      <td>Aleksey Nemov</td>\n      <td>Russia</td>\n    </tr>\n    <tr>\n      <th>3</th>\n      <td>Alicia Coutts</td>\n      <td>Australia</td>\n    </tr>\n    <tr>\n      <th>4</th>\n      <td>Missy Franklin</td>\n      <td>United States</td>\n    </tr>\n  </tbody>\n</table>\n</div>"
     },
     "execution_count": 9,
     "metadata": {},
     "output_type": "execute_result"
    }
   ],
   "source": [
    "data_country.head()"
   ],
   "metadata": {
    "collapsed": false
   }
  },
  {
   "cell_type": "code",
   "execution_count": 10,
   "outputs": [
    {
     "data": {
      "text/plain": "(6970, 2)"
     },
     "execution_count": 10,
     "metadata": {},
     "output_type": "execute_result"
    }
   ],
   "source": [
    "data_country.shape"
   ],
   "metadata": {
    "collapsed": false
   }
  },
  {
   "cell_type": "code",
   "execution_count": 11,
   "outputs": [
    {
     "data": {
      "text/plain": "               Athlete                Country\n1029  Aleksandar Ciric                 Serbia\n1086  Aleksandar Ciric  Serbia and Montenegro",
      "text/html": "<div>\n<style scoped>\n    .dataframe tbody tr th:only-of-type {\n        vertical-align: middle;\n    }\n\n    .dataframe tbody tr th {\n        vertical-align: top;\n    }\n\n    .dataframe thead th {\n        text-align: right;\n    }\n</style>\n<table border=\"1\" class=\"dataframe\">\n  <thead>\n    <tr style=\"text-align: right;\">\n      <th></th>\n      <th>Athlete</th>\n      <th>Country</th>\n    </tr>\n  </thead>\n  <tbody>\n    <tr>\n      <th>1029</th>\n      <td>Aleksandar Ciric</td>\n      <td>Serbia</td>\n    </tr>\n    <tr>\n      <th>1086</th>\n      <td>Aleksandar Ciric</td>\n      <td>Serbia and Montenegro</td>\n    </tr>\n  </tbody>\n</table>\n</div>"
     },
     "execution_count": 11,
     "metadata": {},
     "output_type": "execute_result"
    }
   ],
   "source": [
    "data_country[data_country['Athlete'] == 'Aleksandar Ciric']"
   ],
   "metadata": {
    "collapsed": false
   }
  },
  {
   "cell_type": "code",
   "execution_count": 12,
   "outputs": [],
   "source": [
    "data_sports = pd.read_csv(file_path+'Athelete_Sports_Map.csv', encoding='ISO-8859-1')"
   ],
   "metadata": {
    "collapsed": false
   }
  },
  {
   "cell_type": "code",
   "execution_count": 13,
   "outputs": [
    {
     "data": {
      "text/plain": "            Athlete       Sport\n0    Michael Phelps    Swimming\n1  Natalie Coughlin    Swimming\n2     Aleksey Nemov  Gymnastics\n3     Alicia Coutts    Swimming\n4    Missy Franklin    Swimming",
      "text/html": "<div>\n<style scoped>\n    .dataframe tbody tr th:only-of-type {\n        vertical-align: middle;\n    }\n\n    .dataframe tbody tr th {\n        vertical-align: top;\n    }\n\n    .dataframe thead th {\n        text-align: right;\n    }\n</style>\n<table border=\"1\" class=\"dataframe\">\n  <thead>\n    <tr style=\"text-align: right;\">\n      <th></th>\n      <th>Athlete</th>\n      <th>Sport</th>\n    </tr>\n  </thead>\n  <tbody>\n    <tr>\n      <th>0</th>\n      <td>Michael Phelps</td>\n      <td>Swimming</td>\n    </tr>\n    <tr>\n      <th>1</th>\n      <td>Natalie Coughlin</td>\n      <td>Swimming</td>\n    </tr>\n    <tr>\n      <th>2</th>\n      <td>Aleksey Nemov</td>\n      <td>Gymnastics</td>\n    </tr>\n    <tr>\n      <th>3</th>\n      <td>Alicia Coutts</td>\n      <td>Swimming</td>\n    </tr>\n    <tr>\n      <th>4</th>\n      <td>Missy Franklin</td>\n      <td>Swimming</td>\n    </tr>\n  </tbody>\n</table>\n</div>"
     },
     "execution_count": 13,
     "metadata": {},
     "output_type": "execute_result"
    }
   ],
   "source": [
    "data_sports.head()"
   ],
   "metadata": {
    "collapsed": false
   }
  },
  {
   "cell_type": "code",
   "execution_count": 14,
   "outputs": [
    {
     "data": {
      "text/plain": "(6975, 2)"
     },
     "execution_count": 14,
     "metadata": {},
     "output_type": "execute_result"
    }
   ],
   "source": [
    "data_sports.shape"
   ],
   "metadata": {
    "collapsed": false
   }
  },
  {
   "cell_type": "code",
   "execution_count": 15,
   "outputs": [
    {
     "data": {
      "text/plain": "               Athlete         Sport\n528   Richard Thompson     Athletics\n1308         Chen Jing    Volleyball\n1419         Chen Jing  Table Tennis\n2727         Matt Ryan        Rowing\n5003         Matt Ryan    Equestrian\n5691  Richard Thompson      Baseball",
      "text/html": "<div>\n<style scoped>\n    .dataframe tbody tr th:only-of-type {\n        vertical-align: middle;\n    }\n\n    .dataframe tbody tr th {\n        vertical-align: top;\n    }\n\n    .dataframe thead th {\n        text-align: right;\n    }\n</style>\n<table border=\"1\" class=\"dataframe\">\n  <thead>\n    <tr style=\"text-align: right;\">\n      <th></th>\n      <th>Athlete</th>\n      <th>Sport</th>\n    </tr>\n  </thead>\n  <tbody>\n    <tr>\n      <th>528</th>\n      <td>Richard Thompson</td>\n      <td>Athletics</td>\n    </tr>\n    <tr>\n      <th>1308</th>\n      <td>Chen Jing</td>\n      <td>Volleyball</td>\n    </tr>\n    <tr>\n      <th>1419</th>\n      <td>Chen Jing</td>\n      <td>Table Tennis</td>\n    </tr>\n    <tr>\n      <th>2727</th>\n      <td>Matt Ryan</td>\n      <td>Rowing</td>\n    </tr>\n    <tr>\n      <th>5003</th>\n      <td>Matt Ryan</td>\n      <td>Equestrian</td>\n    </tr>\n    <tr>\n      <th>5691</th>\n      <td>Richard Thompson</td>\n      <td>Baseball</td>\n    </tr>\n  </tbody>\n</table>\n</div>"
     },
     "execution_count": 15,
     "metadata": {},
     "output_type": "execute_result"
    }
   ],
   "source": [
    "data_sports[(data_sports['Athlete'] == 'Chen Jing') | (data_sports['Athlete'] == 'Richard Thompson' )| (data_sports['Athlete'] == 'Matt Ryan')]"
   ],
   "metadata": {
    "collapsed": false
   }
  },
  {
   "cell_type": "markdown",
   "source": [
    "Ahora lo que vamos a hacer es cruzar los datasets cargados."
   ],
   "metadata": {
    "collapsed": false
   }
  },
  {
   "cell_type": "code",
   "execution_count": 16,
   "outputs": [],
   "source": [
    "data_main_country = pd.merge(left= main_dataset, right=data_country,\n",
    "                             left_on='Athlete', right_on='Athlete')"
   ],
   "metadata": {
    "collapsed": false
   }
  },
  {
   "cell_type": "code",
   "execution_count": 17,
   "outputs": [
    {
     "data": {
      "text/plain": "            Athlete   Age  Year Closing Ceremony Date  Gold Medals  \\\n0    Michael Phelps  23.0  2008            08/24/2008            8   \n1    Michael Phelps  19.0  2004            08/29/2004            6   \n2    Michael Phelps  27.0  2012            08/12/2012            4   \n3  Natalie Coughlin  25.0  2008            08/24/2008            1   \n4  Natalie Coughlin  21.0  2004            08/29/2004            2   \n\n   Silver Medals  Bronze Medals  Total Medals        Country  \n0              0              0             8  United States  \n1              0              2             8  United States  \n2              2              0             6  United States  \n3              2              3             6  United States  \n4              2              1             5  United States  ",
      "text/html": "<div>\n<style scoped>\n    .dataframe tbody tr th:only-of-type {\n        vertical-align: middle;\n    }\n\n    .dataframe tbody tr th {\n        vertical-align: top;\n    }\n\n    .dataframe thead th {\n        text-align: right;\n    }\n</style>\n<table border=\"1\" class=\"dataframe\">\n  <thead>\n    <tr style=\"text-align: right;\">\n      <th></th>\n      <th>Athlete</th>\n      <th>Age</th>\n      <th>Year</th>\n      <th>Closing Ceremony Date</th>\n      <th>Gold Medals</th>\n      <th>Silver Medals</th>\n      <th>Bronze Medals</th>\n      <th>Total Medals</th>\n      <th>Country</th>\n    </tr>\n  </thead>\n  <tbody>\n    <tr>\n      <th>0</th>\n      <td>Michael Phelps</td>\n      <td>23.0</td>\n      <td>2008</td>\n      <td>08/24/2008</td>\n      <td>8</td>\n      <td>0</td>\n      <td>0</td>\n      <td>8</td>\n      <td>United States</td>\n    </tr>\n    <tr>\n      <th>1</th>\n      <td>Michael Phelps</td>\n      <td>19.0</td>\n      <td>2004</td>\n      <td>08/29/2004</td>\n      <td>6</td>\n      <td>0</td>\n      <td>2</td>\n      <td>8</td>\n      <td>United States</td>\n    </tr>\n    <tr>\n      <th>2</th>\n      <td>Michael Phelps</td>\n      <td>27.0</td>\n      <td>2012</td>\n      <td>08/12/2012</td>\n      <td>4</td>\n      <td>2</td>\n      <td>0</td>\n      <td>6</td>\n      <td>United States</td>\n    </tr>\n    <tr>\n      <th>3</th>\n      <td>Natalie Coughlin</td>\n      <td>25.0</td>\n      <td>2008</td>\n      <td>08/24/2008</td>\n      <td>1</td>\n      <td>2</td>\n      <td>3</td>\n      <td>6</td>\n      <td>United States</td>\n    </tr>\n    <tr>\n      <th>4</th>\n      <td>Natalie Coughlin</td>\n      <td>21.0</td>\n      <td>2004</td>\n      <td>08/29/2004</td>\n      <td>2</td>\n      <td>2</td>\n      <td>1</td>\n      <td>5</td>\n      <td>United States</td>\n    </tr>\n  </tbody>\n</table>\n</div>"
     },
     "execution_count": 17,
     "metadata": {},
     "output_type": "execute_result"
    }
   ],
   "source": [
    "data_main_country.head()"
   ],
   "metadata": {
    "collapsed": false
   }
  },
  {
   "cell_type": "code",
   "execution_count": 18,
   "outputs": [
    {
     "data": {
      "text/plain": "(8657, 9)"
     },
     "execution_count": 18,
     "metadata": {},
     "output_type": "execute_result"
    }
   ],
   "source": [
    "data_main_country.shape"
   ],
   "metadata": {
    "collapsed": false
   }
  },
  {
   "cell_type": "code",
   "execution_count": 19,
   "outputs": [
    {
     "data": {
      "text/plain": "               Athlete   Age  Year Closing Ceremony Date  Gold Medals  \\\n1503  Aleksandar Ciric  30.0  2008            08/24/2008            0   \n1504  Aleksandar Ciric  30.0  2008            08/24/2008            0   \n1505  Aleksandar Ciric  26.0  2004            08/29/2004            0   \n1506  Aleksandar Ciric  26.0  2004            08/29/2004            0   \n1507  Aleksandar Ciric  22.0  2000            10/01/2000            0   \n1508  Aleksandar Ciric  22.0  2000            10/01/2000            0   \n\n      Silver Medals  Bronze Medals  Total Medals                Country  \n1503              0              1             1                 Serbia  \n1504              0              1             1  Serbia and Montenegro  \n1505              1              0             1                 Serbia  \n1506              1              0             1  Serbia and Montenegro  \n1507              0              1             1                 Serbia  \n1508              0              1             1  Serbia and Montenegro  ",
      "text/html": "<div>\n<style scoped>\n    .dataframe tbody tr th:only-of-type {\n        vertical-align: middle;\n    }\n\n    .dataframe tbody tr th {\n        vertical-align: top;\n    }\n\n    .dataframe thead th {\n        text-align: right;\n    }\n</style>\n<table border=\"1\" class=\"dataframe\">\n  <thead>\n    <tr style=\"text-align: right;\">\n      <th></th>\n      <th>Athlete</th>\n      <th>Age</th>\n      <th>Year</th>\n      <th>Closing Ceremony Date</th>\n      <th>Gold Medals</th>\n      <th>Silver Medals</th>\n      <th>Bronze Medals</th>\n      <th>Total Medals</th>\n      <th>Country</th>\n    </tr>\n  </thead>\n  <tbody>\n    <tr>\n      <th>1503</th>\n      <td>Aleksandar Ciric</td>\n      <td>30.0</td>\n      <td>2008</td>\n      <td>08/24/2008</td>\n      <td>0</td>\n      <td>0</td>\n      <td>1</td>\n      <td>1</td>\n      <td>Serbia</td>\n    </tr>\n    <tr>\n      <th>1504</th>\n      <td>Aleksandar Ciric</td>\n      <td>30.0</td>\n      <td>2008</td>\n      <td>08/24/2008</td>\n      <td>0</td>\n      <td>0</td>\n      <td>1</td>\n      <td>1</td>\n      <td>Serbia and Montenegro</td>\n    </tr>\n    <tr>\n      <th>1505</th>\n      <td>Aleksandar Ciric</td>\n      <td>26.0</td>\n      <td>2004</td>\n      <td>08/29/2004</td>\n      <td>0</td>\n      <td>1</td>\n      <td>0</td>\n      <td>1</td>\n      <td>Serbia</td>\n    </tr>\n    <tr>\n      <th>1506</th>\n      <td>Aleksandar Ciric</td>\n      <td>26.0</td>\n      <td>2004</td>\n      <td>08/29/2004</td>\n      <td>0</td>\n      <td>1</td>\n      <td>0</td>\n      <td>1</td>\n      <td>Serbia and Montenegro</td>\n    </tr>\n    <tr>\n      <th>1507</th>\n      <td>Aleksandar Ciric</td>\n      <td>22.0</td>\n      <td>2000</td>\n      <td>10/01/2000</td>\n      <td>0</td>\n      <td>0</td>\n      <td>1</td>\n      <td>1</td>\n      <td>Serbia</td>\n    </tr>\n    <tr>\n      <th>1508</th>\n      <td>Aleksandar Ciric</td>\n      <td>22.0</td>\n      <td>2000</td>\n      <td>10/01/2000</td>\n      <td>0</td>\n      <td>0</td>\n      <td>1</td>\n      <td>1</td>\n      <td>Serbia and Montenegro</td>\n    </tr>\n  </tbody>\n</table>\n</div>"
     },
     "execution_count": 19,
     "metadata": {},
     "output_type": "execute_result"
    }
   ],
   "source": [
    "data_main_country[data_main_country['Athlete'] == 'Aleksandar Ciric']"
   ],
   "metadata": {
    "collapsed": false
   }
  },
  {
   "cell_type": "markdown",
   "source": [
    "Se ha duplicado la información debido a la realización de un INNER-JOIN. Por lo tanto, antes de llevar a cabo el merge, debemos eliminar los duplicados:"
   ],
   "metadata": {
    "collapsed": false
   }
  },
  {
   "cell_type": "code",
   "execution_count": 20,
   "outputs": [],
   "source": [
    "data_country_non_dp = data_country.drop_duplicates(subset='Athlete')"
   ],
   "metadata": {
    "collapsed": false
   }
  },
  {
   "cell_type": "code",
   "execution_count": 21,
   "outputs": [
    {
     "data": {
      "text/plain": "                   Athlete        Country\n0           Michael Phelps  United States\n1         Natalie Coughlin  United States\n2            Aleksey Nemov         Russia\n3            Alicia Coutts      Australia\n4           Missy Franklin  United States\n...                    ...            ...\n6965      Olena Sadovnycha        Ukraine\n6966      Kateryna Serdiuk        Ukraine\n6967      Wietse van Alten    Netherlands\n6968  Sandra Wagner-Sachse        Germany\n6969             Rod White  United States\n\n[6956 rows x 2 columns]",
      "text/html": "<div>\n<style scoped>\n    .dataframe tbody tr th:only-of-type {\n        vertical-align: middle;\n    }\n\n    .dataframe tbody tr th {\n        vertical-align: top;\n    }\n\n    .dataframe thead th {\n        text-align: right;\n    }\n</style>\n<table border=\"1\" class=\"dataframe\">\n  <thead>\n    <tr style=\"text-align: right;\">\n      <th></th>\n      <th>Athlete</th>\n      <th>Country</th>\n    </tr>\n  </thead>\n  <tbody>\n    <tr>\n      <th>0</th>\n      <td>Michael Phelps</td>\n      <td>United States</td>\n    </tr>\n    <tr>\n      <th>1</th>\n      <td>Natalie Coughlin</td>\n      <td>United States</td>\n    </tr>\n    <tr>\n      <th>2</th>\n      <td>Aleksey Nemov</td>\n      <td>Russia</td>\n    </tr>\n    <tr>\n      <th>3</th>\n      <td>Alicia Coutts</td>\n      <td>Australia</td>\n    </tr>\n    <tr>\n      <th>4</th>\n      <td>Missy Franklin</td>\n      <td>United States</td>\n    </tr>\n    <tr>\n      <th>...</th>\n      <td>...</td>\n      <td>...</td>\n    </tr>\n    <tr>\n      <th>6965</th>\n      <td>Olena Sadovnycha</td>\n      <td>Ukraine</td>\n    </tr>\n    <tr>\n      <th>6966</th>\n      <td>Kateryna Serdiuk</td>\n      <td>Ukraine</td>\n    </tr>\n    <tr>\n      <th>6967</th>\n      <td>Wietse van Alten</td>\n      <td>Netherlands</td>\n    </tr>\n    <tr>\n      <th>6968</th>\n      <td>Sandra Wagner-Sachse</td>\n      <td>Germany</td>\n    </tr>\n    <tr>\n      <th>6969</th>\n      <td>Rod White</td>\n      <td>United States</td>\n    </tr>\n  </tbody>\n</table>\n<p>6956 rows × 2 columns</p>\n</div>"
     },
     "execution_count": 21,
     "metadata": {},
     "output_type": "execute_result"
    }
   ],
   "source": [
    "data_country_non_dp"
   ],
   "metadata": {
    "collapsed": false
   }
  },
  {
   "cell_type": "code",
   "execution_count": 22,
   "outputs": [
    {
     "data": {
      "text/plain": "True"
     },
     "execution_count": 22,
     "metadata": {},
     "output_type": "execute_result"
    }
   ],
   "source": [
    "len(data_country_non_dp) == len(unique_athletes)"
   ],
   "metadata": {
    "collapsed": false
   }
  },
  {
   "cell_type": "code",
   "execution_count": 23,
   "outputs": [],
   "source": [
    "data_main_country = pd.merge(left= main_dataset, right=data_country_non_dp,\n",
    "                             left_on='Athlete', right_on='Athlete')"
   ],
   "metadata": {
    "collapsed": false
   }
  },
  {
   "cell_type": "code",
   "execution_count": 24,
   "outputs": [
    {
     "data": {
      "text/plain": "(8618, 9)"
     },
     "execution_count": 24,
     "metadata": {},
     "output_type": "execute_result"
    }
   ],
   "source": [
    "data_main_country.shape"
   ],
   "metadata": {
    "collapsed": false
   }
  },
  {
   "cell_type": "code",
   "execution_count": 25,
   "outputs": [],
   "source": [
    "data_sport_non_dp = data_sports.drop_duplicates(subset='Athlete')"
   ],
   "metadata": {
    "collapsed": false
   }
  },
  {
   "cell_type": "code",
   "execution_count": 26,
   "outputs": [
    {
     "data": {
      "text/plain": "(6956, 2)"
     },
     "execution_count": 26,
     "metadata": {},
     "output_type": "execute_result"
    }
   ],
   "source": [
    "data_sport_non_dp.shape"
   ],
   "metadata": {
    "collapsed": false
   }
  },
  {
   "cell_type": "code",
   "execution_count": 27,
   "outputs": [],
   "source": [
    "data_final = pd.merge(left= data_main_country, right=data_sport_non_dp,\n",
    "                             left_on='Athlete', right_on='Athlete')"
   ],
   "metadata": {
    "collapsed": false
   }
  },
  {
   "cell_type": "code",
   "execution_count": 28,
   "outputs": [
    {
     "data": {
      "text/plain": "(8618, 10)"
     },
     "execution_count": 28,
     "metadata": {},
     "output_type": "execute_result"
    }
   ],
   "source": [
    "data_final.shape"
   ],
   "metadata": {
    "collapsed": false
   }
  },
  {
   "cell_type": "code",
   "execution_count": 29,
   "outputs": [
    {
     "data": {
      "text/plain": "            Athlete   Age  Year Closing Ceremony Date  Gold Medals  \\\n0    Michael Phelps  23.0  2008            08/24/2008            8   \n1    Michael Phelps  19.0  2004            08/29/2004            6   \n2    Michael Phelps  27.0  2012            08/12/2012            4   \n3  Natalie Coughlin  25.0  2008            08/24/2008            1   \n4  Natalie Coughlin  21.0  2004            08/29/2004            2   \n\n   Silver Medals  Bronze Medals  Total Medals        Country     Sport  \n0              0              0             8  United States  Swimming  \n1              0              2             8  United States  Swimming  \n2              2              0             6  United States  Swimming  \n3              2              3             6  United States  Swimming  \n4              2              1             5  United States  Swimming  ",
      "text/html": "<div>\n<style scoped>\n    .dataframe tbody tr th:only-of-type {\n        vertical-align: middle;\n    }\n\n    .dataframe tbody tr th {\n        vertical-align: top;\n    }\n\n    .dataframe thead th {\n        text-align: right;\n    }\n</style>\n<table border=\"1\" class=\"dataframe\">\n  <thead>\n    <tr style=\"text-align: right;\">\n      <th></th>\n      <th>Athlete</th>\n      <th>Age</th>\n      <th>Year</th>\n      <th>Closing Ceremony Date</th>\n      <th>Gold Medals</th>\n      <th>Silver Medals</th>\n      <th>Bronze Medals</th>\n      <th>Total Medals</th>\n      <th>Country</th>\n      <th>Sport</th>\n    </tr>\n  </thead>\n  <tbody>\n    <tr>\n      <th>0</th>\n      <td>Michael Phelps</td>\n      <td>23.0</td>\n      <td>2008</td>\n      <td>08/24/2008</td>\n      <td>8</td>\n      <td>0</td>\n      <td>0</td>\n      <td>8</td>\n      <td>United States</td>\n      <td>Swimming</td>\n    </tr>\n    <tr>\n      <th>1</th>\n      <td>Michael Phelps</td>\n      <td>19.0</td>\n      <td>2004</td>\n      <td>08/29/2004</td>\n      <td>6</td>\n      <td>0</td>\n      <td>2</td>\n      <td>8</td>\n      <td>United States</td>\n      <td>Swimming</td>\n    </tr>\n    <tr>\n      <th>2</th>\n      <td>Michael Phelps</td>\n      <td>27.0</td>\n      <td>2012</td>\n      <td>08/12/2012</td>\n      <td>4</td>\n      <td>2</td>\n      <td>0</td>\n      <td>6</td>\n      <td>United States</td>\n      <td>Swimming</td>\n    </tr>\n    <tr>\n      <th>3</th>\n      <td>Natalie Coughlin</td>\n      <td>25.0</td>\n      <td>2008</td>\n      <td>08/24/2008</td>\n      <td>1</td>\n      <td>2</td>\n      <td>3</td>\n      <td>6</td>\n      <td>United States</td>\n      <td>Swimming</td>\n    </tr>\n    <tr>\n      <th>4</th>\n      <td>Natalie Coughlin</td>\n      <td>21.0</td>\n      <td>2004</td>\n      <td>08/29/2004</td>\n      <td>2</td>\n      <td>2</td>\n      <td>1</td>\n      <td>5</td>\n      <td>United States</td>\n      <td>Swimming</td>\n    </tr>\n  </tbody>\n</table>\n</div>"
     },
     "execution_count": 29,
     "metadata": {},
     "output_type": "execute_result"
    }
   ],
   "source": [
    "data_final.head()"
   ],
   "metadata": {
    "collapsed": false
   }
  },
  {
   "cell_type": "markdown",
   "source": [
    "## Cruzar datos usando JOINS"
   ],
   "metadata": {
    "collapsed": false
   }
  },
  {
   "cell_type": "markdown",
   "source": [
    "### Tipos de Joins"
   ],
   "metadata": {
    "collapsed": false
   }
  },
  {
   "cell_type": "markdown",
   "source": [
    "#### Inner Join\n",
    "\n",
    "- Devuelve un data frame con las filas que tienen valor tanto en el primero como en el segundo data frame que estamos uniendo\n",
    "- El número de filas será igual al número de filas comunes que tengas ambos data sets\n",
    "- Data Set A tiene 60 filas\n",
    "- Data Set B tiene 50 filas\n",
    "- Ambos comparten 30 filas\n",
    "- Entonces A Inner Join B tendrá 30 filas\n",
    "- En términos de teoría de conjuntos, se trata de la intersección de los dos conjuntos"
   ],
   "metadata": {
    "collapsed": false
   }
  },
  {
   "cell_type": "code",
   "execution_count": 30,
   "outputs": [],
   "source": [
    "from IPython.display import Image"
   ],
   "metadata": {
    "collapsed": false
   }
  },
  {
   "cell_type": "code",
   "execution_count": 31,
   "outputs": [
    {
     "data": {
      "image/png": "[encoded data removed]",
      "text/plain": "<IPython.core.display.Image object>"
     },
     "execution_count": 31,
     "metadata": {},
     "output_type": "execute_result"
    }
   ],
   "source": [
    "Image (filename='resources/inner-join.png')"
   ],
   "metadata": {
    "collapsed": false
   }
  },
  {
   "cell_type": "code",
   "execution_count": null,
   "outputs": [],
   "source": [],
   "metadata": {
    "collapsed": false
   }
  },
  {
   "cell_type": "markdown",
   "source": [
    "#### Left Join\n",
    "\n",
    "Devuelve un data frame con las filas que tuvieran valor en el dataset de la izquierda, sin importar si tienen correspondencia en el de la derecha o no.\n",
    "Las filas del data frame final que no correspondan a ninguna fila del data frame derecho, tendrán NAs (valores no definidos) en las columnas del data frame derecho.\n",
    "- El número de filas será igual al número de filas del data frame izquierdo\n",
    "- Data Set A tiene 60 filas\n",
    "- Data Set B tiene 50 filas\n",
    "- Entonces A Left Join B tendrá 60 filas\n",
    "En términos de teoría de conjuntos, se trata del propio data set de la izquierda quien, además tiene la intersección en su interior."
   ],
   "metadata": {
    "collapsed": false
   }
  },
  {
   "cell_type": "code",
   "execution_count": 32,
   "outputs": [
    {
     "data": {
      "image/png": "[encoded data removed]",
      "text/plain": "<IPython.core.display.Image object>"
     },
     "execution_count": 32,
     "metadata": {},
     "output_type": "execute_result"
    }
   ],
   "source": [
    "Image (filename='resources/left-join.png')"
   ],
   "metadata": {
    "collapsed": false
   }
  },
  {
   "cell_type": "code",
   "execution_count": null,
   "outputs": [],
   "source": [],
   "metadata": {
    "collapsed": false
   }
  },
  {
   "cell_type": "markdown",
   "source": [
    "#### Right Join\n",
    "Devuelve un data frame con las filas que tuvieran valor en el dataset de la derecha, sin importar si tienen correspondencia en el de la izquierda o no.\n",
    "Las filas del data frame final que no correspondan a ninguna fila del data frame izquierdo, tendrán NAs en las columnas del data frame izquierdo.\n",
    "- El número de filas será igual al número de filas del data frame derecho\n",
    "- Data Set A tiene 60 filas\n",
    "- Data Set B tiene 50 filas\n",
    "- Entonces A Right Join B tendrá 50 filas\n",
    "En términos de teoría de conjuntos, se trata del propio data set de la derecha quien, además tiene la intersección en su interior."
   ],
   "metadata": {
    "collapsed": false
   }
  },
  {
   "cell_type": "code",
   "execution_count": null,
   "outputs": [],
   "source": [],
   "metadata": {
    "collapsed": false
   }
  },
  {
   "cell_type": "code",
   "execution_count": null,
   "outputs": [],
   "source": [],
   "metadata": {
    "collapsed": false
   }
  },
  {
   "cell_type": "markdown",
   "source": [
    "#### Outer Join\n",
    "Devuelve un data frame con todas las filas de ambos, reemplazando las ausencias de uno o de otro con NAs en la región específica..\n",
    "Las filas del data frame final que no correspondan a ninguna fila del data frame derecho (o izquierdo), tendrán NAs en las columnas del data frame derecho (o izquierdo).\n",
    "- El número de filas será igual al máximo número de filas de ambos data frames\n",
    "- Data Set A tiene 60 filas\n",
    "- Data Set B tiene 50 filas\n",
    "- Ambos comparten 30 filas\n",
    "- Entonces A Outer Join B tendrá 60 + 50 - 30 = 80 filas\n",
    "En términos de teoría de conjuntos, se trata de la unión de conjuntos."
   ],
   "metadata": {
    "collapsed": false
   }
  },
  {
   "cell_type": "code",
   "execution_count": null,
   "outputs": [],
   "source": [],
   "metadata": {
    "collapsed": false
   }
  }
 ],
 "metadata": {
  "kernelspec": {
   "display_name": "Python 3",
   "language": "python",
   "name": "python3"
  },
  "language_info": {
   "codemirror_mode": {
    "name": "ipython",
    "version": 2
   },
   "file_extension": ".py",
   "mimetype": "text/x-python",
   "name": "python",
   "nbconvert_exporter": "python",
   "pygments_lexer": "ipython2",
   "version": "2.7.6"
  }
 },
 "nbformat": 4,
 "nbformat_minor": 0
}
