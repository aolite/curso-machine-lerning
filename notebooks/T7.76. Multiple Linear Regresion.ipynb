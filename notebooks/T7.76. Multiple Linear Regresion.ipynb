{
 "cells": [
  {
   "cell_type": "markdown",
   "source": [
    "# Multilpe Linear Regression Session"
   ],
   "metadata": {
    "collapsed": false
   },
   "id": "b54f3a422e40b7a7"
  },
  {
   "cell_type": "markdown",
   "source": [
    "Como tenemos multiples predictores, tendremos un calculo más refinado de los mismos y, por lo tanto, podemos llegar a tener un modelo más refinado. En base al dataset de la venta de periodicos, tendrúamos las siguientes variables predictoras:\n",
    "- Ventas vs TV\n",
    "- Ventas vs Newspaper\n",
    "- Ventas vs Radio\n",
    "- Ventas vs TV+Newspaper\n",
    "- ventas vs TV+Radio\n",
    "- Ventas vs Newspaper+Radio\n",
    "- Ventas vs VS+Nwespaper+Radio "
   ],
   "metadata": {
    "collapsed": false
   },
   "id": "2e7fb9460b43907a"
  },
  {
   "cell_type": "code",
   "execution_count": 7,
   "outputs": [],
   "source": [
    "import pandas as pd\n",
    "import numpy as np\n",
    "import matplotlib.pyplot as plt\n",
    "import statsmodels.formula.api as smf\n"
   ],
   "metadata": {
    "collapsed": false,
    "ExecuteTime": {
     "end_time": "2023-10-09T20:17:32.816146Z",
     "start_time": "2023-10-09T20:17:31.975499Z"
    }
   },
   "id": "5a580a006f4802b9"
  },
  {
   "cell_type": "markdown",
   "source": [
    "El conseejo antes de empezar con un modelo lineal con todas variables predictoras e ir quedandonos con aquellas que tienen un p-valor bajo. "
   ],
   "metadata": {
    "collapsed": false
   },
   "id": "4d949d15ccfdc06b"
  },
  {
   "cell_type": "code",
   "execution_count": 4,
   "outputs": [],
   "source": [
    "data_pub = pd.read_csv('../data/ads/advertising.csv')"
   ],
   "metadata": {
    "collapsed": false,
    "ExecuteTime": {
     "end_time": "2023-10-09T20:17:03.807383Z",
     "start_time": "2023-10-09T20:17:03.785163Z"
    }
   },
   "id": "22ca70584a6e97fe"
  },
  {
   "cell_type": "code",
   "execution_count": 5,
   "outputs": [
    {
     "data": {
      "text/plain": "      TV  Radio  Newspaper  Sales\n0  230.1   37.8       69.2   22.1\n1   44.5   39.3       45.1   10.4\n2   17.2   45.9       69.3    9.3\n3  151.5   41.3       58.5   18.5\n4  180.8   10.8       58.4   12.9",
      "text/html": "<div>\n<style scoped>\n    .dataframe tbody tr th:only-of-type {\n        vertical-align: middle;\n    }\n\n    .dataframe tbody tr th {\n        vertical-align: top;\n    }\n\n    .dataframe thead th {\n        text-align: right;\n    }\n</style>\n<table border=\"1\" class=\"dataframe\">\n  <thead>\n    <tr style=\"text-align: right;\">\n      <th></th>\n      <th>TV</th>\n      <th>Radio</th>\n      <th>Newspaper</th>\n      <th>Sales</th>\n    </tr>\n  </thead>\n  <tbody>\n    <tr>\n      <th>0</th>\n      <td>230.1</td>\n      <td>37.8</td>\n      <td>69.2</td>\n      <td>22.1</td>\n    </tr>\n    <tr>\n      <th>1</th>\n      <td>44.5</td>\n      <td>39.3</td>\n      <td>45.1</td>\n      <td>10.4</td>\n    </tr>\n    <tr>\n      <th>2</th>\n      <td>17.2</td>\n      <td>45.9</td>\n      <td>69.3</td>\n      <td>9.3</td>\n    </tr>\n    <tr>\n      <th>3</th>\n      <td>151.5</td>\n      <td>41.3</td>\n      <td>58.5</td>\n      <td>18.5</td>\n    </tr>\n    <tr>\n      <th>4</th>\n      <td>180.8</td>\n      <td>10.8</td>\n      <td>58.4</td>\n      <td>12.9</td>\n    </tr>\n  </tbody>\n</table>\n</div>"
     },
     "execution_count": 5,
     "metadata": {},
     "output_type": "execute_result"
    }
   ],
   "source": [
    "data_pub.head()"
   ],
   "metadata": {
    "collapsed": false,
    "ExecuteTime": {
     "end_time": "2023-10-09T20:17:11.115994Z",
     "start_time": "2023-10-09T20:17:11.098830Z"
    }
   },
   "id": "80819f61ae90baf0"
  },
  {
   "cell_type": "code",
   "execution_count": 49,
   "outputs": [
    {
     "data": {
      "text/plain": "                 TV     Radio  Newspaper     Sales  RSE\nTV         1.000000  0.054809   0.056648  0.782224  NaN\nRadio      0.054809  1.000000   0.354104  0.576223  NaN\nNewspaper  0.056648  0.354104   1.000000  0.228299  NaN\nSales      0.782224  0.576223   0.228299  1.000000  NaN\nRSE             NaN       NaN        NaN       NaN  NaN",
      "text/html": "<div>\n<style scoped>\n    .dataframe tbody tr th:only-of-type {\n        vertical-align: middle;\n    }\n\n    .dataframe tbody tr th {\n        vertical-align: top;\n    }\n\n    .dataframe thead th {\n        text-align: right;\n    }\n</style>\n<table border=\"1\" class=\"dataframe\">\n  <thead>\n    <tr style=\"text-align: right;\">\n      <th></th>\n      <th>TV</th>\n      <th>Radio</th>\n      <th>Newspaper</th>\n      <th>Sales</th>\n      <th>RSE</th>\n    </tr>\n  </thead>\n  <tbody>\n    <tr>\n      <th>TV</th>\n      <td>1.000000</td>\n      <td>0.054809</td>\n      <td>0.056648</td>\n      <td>0.782224</td>\n      <td>NaN</td>\n    </tr>\n    <tr>\n      <th>Radio</th>\n      <td>0.054809</td>\n      <td>1.000000</td>\n      <td>0.354104</td>\n      <td>0.576223</td>\n      <td>NaN</td>\n    </tr>\n    <tr>\n      <th>Newspaper</th>\n      <td>0.056648</td>\n      <td>0.354104</td>\n      <td>1.000000</td>\n      <td>0.228299</td>\n      <td>NaN</td>\n    </tr>\n    <tr>\n      <th>Sales</th>\n      <td>0.782224</td>\n      <td>0.576223</td>\n      <td>0.228299</td>\n      <td>1.000000</td>\n      <td>NaN</td>\n    </tr>\n    <tr>\n      <th>RSE</th>\n      <td>NaN</td>\n      <td>NaN</td>\n      <td>NaN</td>\n      <td>NaN</td>\n      <td>NaN</td>\n    </tr>\n  </tbody>\n</table>\n</div>"
     },
     "execution_count": 49,
     "metadata": {},
     "output_type": "execute_result"
    }
   ],
   "source": [
    "correlation_matrix = data_pub.corr()\n",
    "correlation_matrix"
   ],
   "metadata": {
    "collapsed": false,
    "ExecuteTime": {
     "end_time": "2023-10-10T19:52:17.138739Z",
     "start_time": "2023-10-10T19:52:17.128498Z"
    }
   },
   "id": "439a371c90f70da4"
  },
  {
   "cell_type": "markdown",
   "source": [],
   "metadata": {
    "collapsed": false
   },
   "id": "cbeb9ac0547ebcf5"
  },
  {
   "cell_type": "markdown",
   "source": [
    "Vamos a empezar con añadir el newspaper al modelo inicial de Sales vs TV: "
   ],
   "metadata": {
    "collapsed": false
   },
   "id": "cf354ec8d3e2f530"
  },
  {
   "cell_type": "code",
   "execution_count": 11,
   "outputs": [],
   "source": [
    "lm = smf.ols(formula=\"Sales~TV\", data= data_pub).fit()"
   ],
   "metadata": {
    "collapsed": false,
    "ExecuteTime": {
     "end_time": "2023-10-09T20:41:13.855942Z",
     "start_time": "2023-10-09T20:41:13.848933Z"
    }
   },
   "id": "d1d7c21fa6a51125"
  },
  {
   "cell_type": "code",
   "execution_count": 12,
   "outputs": [
    {
     "data": {
      "text/plain": "Intercept    7.032594\nTV           0.047537\ndtype: float64"
     },
     "execution_count": 12,
     "metadata": {},
     "output_type": "execute_result"
    }
   ],
   "source": [
    "lm.params"
   ],
   "metadata": {
    "collapsed": false,
    "ExecuteTime": {
     "end_time": "2023-10-09T20:41:15.537355Z",
     "start_time": "2023-10-09T20:41:15.532762Z"
    }
   },
   "id": "cf84ac67bf17ccad"
  },
  {
   "cell_type": "code",
   "execution_count": 13,
   "outputs": [],
   "source": [
    "lm2 = smf.ols(formula=\"Sales~TV+Newspaper\", data= data_pub).fit()"
   ],
   "metadata": {
    "collapsed": false,
    "ExecuteTime": {
     "end_time": "2023-10-09T20:41:18.941460Z",
     "start_time": "2023-10-09T20:41:18.934407Z"
    }
   },
   "id": "7100d11feceb3e0b"
  },
  {
   "cell_type": "code",
   "execution_count": 14,
   "outputs": [
    {
     "data": {
      "text/plain": "Intercept    5.774948\nTV           0.046901\nNewspaper    0.044219\ndtype: float64"
     },
     "execution_count": 14,
     "metadata": {},
     "output_type": "execute_result"
    }
   ],
   "source": [
    "lm2.params"
   ],
   "metadata": {
    "collapsed": false,
    "ExecuteTime": {
     "end_time": "2023-10-09T20:41:26.210663Z",
     "start_time": "2023-10-09T20:41:26.194036Z"
    }
   },
   "id": "6fbe120070d2b595"
  },
  {
   "cell_type": "code",
   "execution_count": 15,
   "outputs": [
    {
     "data": {
      "text/plain": "Intercept    3.145860e-22\nTV           5.507584e-44\nNewspaper    2.217084e-05\ndtype: float64"
     },
     "execution_count": 15,
     "metadata": {},
     "output_type": "execute_result"
    }
   ],
   "source": [
    "lm2.pvalues"
   ],
   "metadata": {
    "collapsed": false,
    "ExecuteTime": {
     "end_time": "2023-10-09T20:42:02.743949Z",
     "start_time": "2023-10-09T20:42:02.734971Z"
    }
   },
   "id": "7ec8dc28b28eccf"
  },
  {
   "cell_type": "code",
   "execution_count": 17,
   "outputs": [
    {
     "data": {
      "text/plain": "Intercept    1.406300e-35\nTV           1.467390e-42\ndtype: float64"
     },
     "execution_count": 17,
     "metadata": {},
     "output_type": "execute_result"
    }
   ],
   "source": [
    "lm.pvalues"
   ],
   "metadata": {
    "collapsed": false,
    "ExecuteTime": {
     "end_time": "2023-10-09T20:42:14.118912Z",
     "start_time": "2023-10-09T20:42:14.108110Z"
    }
   },
   "id": "e0071c92c9cfa7b3"
  },
  {
   "cell_type": "code",
   "execution_count": 18,
   "outputs": [
    {
     "data": {
      "text/plain": "0.6118750508500712"
     },
     "execution_count": 18,
     "metadata": {},
     "output_type": "execute_result"
    }
   ],
   "source": [
    "lm.rsquared"
   ],
   "metadata": {
    "collapsed": false,
    "ExecuteTime": {
     "end_time": "2023-10-09T20:43:32.381226Z",
     "start_time": "2023-10-09T20:43:32.356814Z"
    }
   },
   "id": "f6307c370250e2eb"
  },
  {
   "cell_type": "code",
   "execution_count": 19,
   "outputs": [
    {
     "data": {
      "text/plain": "0.645835493829327"
     },
     "execution_count": 19,
     "metadata": {},
     "output_type": "execute_result"
    }
   ],
   "source": [
    "lm2.rsquared"
   ],
   "metadata": {
    "collapsed": false,
    "ExecuteTime": {
     "end_time": "2023-10-09T20:43:39.294126Z",
     "start_time": "2023-10-09T20:43:39.273145Z"
    }
   },
   "id": "2f28981ad4a524ce"
  },
  {
   "cell_type": "code",
   "execution_count": 21,
   "outputs": [],
   "source": [
    "sales_pred = lm2.predict (data_pub [[\"TV\", 'Newspaper']])"
   ],
   "metadata": {
    "collapsed": false,
    "ExecuteTime": {
     "end_time": "2023-10-09T20:45:25.760004Z",
     "start_time": "2023-10-09T20:45:25.754487Z"
    }
   },
   "id": "90e2bffab3350f3d"
  },
  {
   "cell_type": "code",
   "execution_count": 22,
   "outputs": [
    {
     "data": {
      "text/plain": "0      19.626901\n1       9.856348\n2       9.646055\n3      15.467318\n4      16.837102\n         ...    \n195     8.176802\n196    10.551220\n197    14.359467\n198    22.003458\n199    17.045429\nLength: 200, dtype: float64"
     },
     "execution_count": 22,
     "metadata": {},
     "output_type": "execute_result"
    }
   ],
   "source": [
    "sales_pred"
   ],
   "metadata": {
    "collapsed": false,
    "ExecuteTime": {
     "end_time": "2023-10-09T20:45:31.341842Z",
     "start_time": "2023-10-09T20:45:31.324795Z"
    }
   },
   "id": "71bae4cbc9e8eeb2"
  },
  {
   "cell_type": "code",
   "execution_count": 23,
   "outputs": [],
   "source": [
    "results_lm2 = data_pub"
   ],
   "metadata": {
    "collapsed": false,
    "ExecuteTime": {
     "end_time": "2023-10-09T20:46:16.974446Z",
     "start_time": "2023-10-09T20:46:16.957047Z"
    }
   },
   "id": "dc412e8636e12315"
  },
  {
   "cell_type": "code",
   "execution_count": 24,
   "outputs": [],
   "source": [
    "SSE = sum((results_lm2['Sales']- sales_pred)**2)"
   ],
   "metadata": {
    "collapsed": false,
    "ExecuteTime": {
     "end_time": "2023-10-09T20:47:30.100726Z",
     "start_time": "2023-10-09T20:47:30.082389Z"
    }
   },
   "id": "4af394dbc4ec0f95"
  },
  {
   "cell_type": "code",
   "execution_count": 27,
   "outputs": [],
   "source": [
    "RSE= np.sqrt(SSE/(len(results_lm2)-2-1))"
   ],
   "metadata": {
    "collapsed": false,
    "ExecuteTime": {
     "end_time": "2023-10-09T20:49:08.629871Z",
     "start_time": "2023-10-09T20:49:08.625977Z"
    }
   },
   "id": "1a18348286181cc0"
  },
  {
   "cell_type": "code",
   "execution_count": 28,
   "outputs": [
    {
     "data": {
      "text/plain": "3.120719860252885"
     },
     "execution_count": 28,
     "metadata": {},
     "output_type": "execute_result"
    }
   ],
   "source": [
    "RSE"
   ],
   "metadata": {
    "collapsed": false,
    "ExecuteTime": {
     "end_time": "2023-10-09T20:49:12.240005Z",
     "start_time": "2023-10-09T20:49:12.218231Z"
    }
   },
   "id": "622fb85a3dd5e3d6"
  },
  {
   "cell_type": "code",
   "execution_count": 29,
   "outputs": [],
   "source": [
    "sales_m = np.mean(data_pub['Sales'])"
   ],
   "metadata": {
    "collapsed": false,
    "ExecuteTime": {
     "end_time": "2023-10-09T20:50:01.178814Z",
     "start_time": "2023-10-09T20:50:01.150370Z"
    }
   },
   "id": "cd23862f3bed2230"
  },
  {
   "cell_type": "code",
   "execution_count": 30,
   "outputs": [],
   "source": [
    "error_prom = RSE/sales_m"
   ],
   "metadata": {
    "collapsed": false,
    "ExecuteTime": {
     "end_time": "2023-10-09T20:50:19.417270Z",
     "start_time": "2023-10-09T20:50:19.396983Z"
    }
   },
   "id": "cdf5c5f95f1f918f"
  },
  {
   "cell_type": "code",
   "execution_count": 31,
   "outputs": [
    {
     "data": {
      "text/plain": "0.2225508903728212"
     },
     "execution_count": 31,
     "metadata": {},
     "output_type": "execute_result"
    }
   ],
   "source": [
    "error_prom"
   ],
   "metadata": {
    "collapsed": false,
    "ExecuteTime": {
     "end_time": "2023-10-09T20:50:26.234086Z",
     "start_time": "2023-10-09T20:50:26.207019Z"
    }
   },
   "id": "e737235b0da4dcd1"
  },
  {
   "cell_type": "code",
   "execution_count": 33,
   "outputs": [
    {
     "data": {
      "text/plain": "<class 'statsmodels.iolib.summary.Summary'>\n\"\"\"\n                            OLS Regression Results                            \n==============================================================================\nDep. Variable:                  Sales   R-squared:                       0.646\nModel:                            OLS   Adj. R-squared:                  0.642\nMethod:                 Least Squares   F-statistic:                     179.6\nDate:                Mon, 09 Oct 2023   Prob (F-statistic):           3.95e-45\nTime:                        22:50:50   Log-Likelihood:                -509.89\nNo. Observations:                 200   AIC:                             1026.\nDf Residuals:                     197   BIC:                             1036.\nDf Model:                           2                                         \nCovariance Type:            nonrobust                                         \n==============================================================================\n                 coef    std err          t      P>|t|      [0.025      0.975]\n------------------------------------------------------------------------------\nIntercept      5.7749      0.525     10.993      0.000       4.739       6.811\nTV             0.0469      0.003     18.173      0.000       0.042       0.052\nNewspaper      0.0442      0.010      4.346      0.000       0.024       0.064\n==============================================================================\nOmnibus:                        0.658   Durbin-Watson:                   1.969\nProb(Omnibus):                  0.720   Jarque-Bera (JB):                0.415\nSkew:                          -0.093   Prob(JB):                        0.813\nKurtosis:                       3.122   Cond. No.                         410.\n==============================================================================\n\nNotes:\n[1] Standard Errors assume that the covariance matrix of the errors is correctly specified.\n\"\"\"",
      "text/html": "<table class=\"simpletable\">\n<caption>OLS Regression Results</caption>\n<tr>\n  <th>Dep. Variable:</th>          <td>Sales</td>      <th>  R-squared:         </th> <td>   0.646</td>\n</tr>\n<tr>\n  <th>Model:</th>                   <td>OLS</td>       <th>  Adj. R-squared:    </th> <td>   0.642</td>\n</tr>\n<tr>\n  <th>Method:</th>             <td>Least Squares</td>  <th>  F-statistic:       </th> <td>   179.6</td>\n</tr>\n<tr>\n  <th>Date:</th>             <td>Mon, 09 Oct 2023</td> <th>  Prob (F-statistic):</th> <td>3.95e-45</td>\n</tr>\n<tr>\n  <th>Time:</th>                 <td>22:50:50</td>     <th>  Log-Likelihood:    </th> <td> -509.89</td>\n</tr>\n<tr>\n  <th>No. Observations:</th>      <td>   200</td>      <th>  AIC:               </th> <td>   1026.</td>\n</tr>\n<tr>\n  <th>Df Residuals:</th>          <td>   197</td>      <th>  BIC:               </th> <td>   1036.</td>\n</tr>\n<tr>\n  <th>Df Model:</th>              <td>     2</td>      <th>                     </th>     <td> </td>   \n</tr>\n<tr>\n  <th>Covariance Type:</th>      <td>nonrobust</td>    <th>                     </th>     <td> </td>   \n</tr>\n</table>\n<table class=\"simpletable\">\n<tr>\n      <td></td>         <th>coef</th>     <th>std err</th>      <th>t</th>      <th>P>|t|</th>  <th>[0.025</th>    <th>0.975]</th>  \n</tr>\n<tr>\n  <th>Intercept</th> <td>    5.7749</td> <td>    0.525</td> <td>   10.993</td> <td> 0.000</td> <td>    4.739</td> <td>    6.811</td>\n</tr>\n<tr>\n  <th>TV</th>        <td>    0.0469</td> <td>    0.003</td> <td>   18.173</td> <td> 0.000</td> <td>    0.042</td> <td>    0.052</td>\n</tr>\n<tr>\n  <th>Newspaper</th> <td>    0.0442</td> <td>    0.010</td> <td>    4.346</td> <td> 0.000</td> <td>    0.024</td> <td>    0.064</td>\n</tr>\n</table>\n<table class=\"simpletable\">\n<tr>\n  <th>Omnibus:</th>       <td> 0.658</td> <th>  Durbin-Watson:     </th> <td>   1.969</td>\n</tr>\n<tr>\n  <th>Prob(Omnibus):</th> <td> 0.720</td> <th>  Jarque-Bera (JB):  </th> <td>   0.415</td>\n</tr>\n<tr>\n  <th>Skew:</th>          <td>-0.093</td> <th>  Prob(JB):          </th> <td>   0.813</td>\n</tr>\n<tr>\n  <th>Kurtosis:</th>      <td> 3.122</td> <th>  Cond. No.          </th> <td>    410.</td>\n</tr>\n</table><br/><br/>Notes:<br/>[1] Standard Errors assume that the covariance matrix of the errors is correctly specified."
     },
     "execution_count": 33,
     "metadata": {},
     "output_type": "execute_result"
    }
   ],
   "source": [
    "lm2.summary()"
   ],
   "metadata": {
    "collapsed": false,
    "ExecuteTime": {
     "end_time": "2023-10-09T20:50:50.792474Z",
     "start_time": "2023-10-09T20:50:50.771112Z"
    }
   },
   "id": "4218491a689a3075"
  },
  {
   "cell_type": "markdown",
   "source": [
    "Como conclusion, añadir el periodico, no nos ha aportado nada. Ahora vamos a aportar la Radio."
   ],
   "metadata": {
    "collapsed": false
   },
   "id": "8037591ac367b22a"
  },
  {
   "cell_type": "code",
   "execution_count": 34,
   "outputs": [],
   "source": [
    "lm3 = smf.ols(formula=\"Sales~TV+Radio\", data= data_pub).fit()"
   ],
   "metadata": {
    "collapsed": false,
    "ExecuteTime": {
     "end_time": "2023-10-09T20:52:26.784303Z",
     "start_time": "2023-10-09T20:52:26.775177Z"
    }
   },
   "id": "928fa014f5354e8c"
  },
  {
   "cell_type": "code",
   "execution_count": 35,
   "outputs": [
    {
     "data": {
      "text/plain": "Intercept    4.565557e-19\nTV           5.436980e-82\nRadio        9.776972e-59\ndtype: float64"
     },
     "execution_count": 35,
     "metadata": {},
     "output_type": "execute_result"
    }
   ],
   "source": [
    "lm3.pvalues"
   ],
   "metadata": {
    "collapsed": false,
    "ExecuteTime": {
     "end_time": "2023-10-09T20:52:32.778343Z",
     "start_time": "2023-10-09T20:52:32.750290Z"
    }
   },
   "id": "ea7d764309d2e63"
  },
  {
   "cell_type": "code",
   "execution_count": 37,
   "outputs": [
    {
     "data": {
      "text/plain": "<class 'statsmodels.iolib.summary.Summary'>\n\"\"\"\n                            OLS Regression Results                            \n==============================================================================\nDep. Variable:                  Sales   R-squared:                       0.897\nModel:                            OLS   Adj. R-squared:                  0.896\nMethod:                 Least Squares   F-statistic:                     859.6\nDate:                Mon, 09 Oct 2023   Prob (F-statistic):           4.83e-98\nTime:                        22:52:55   Log-Likelihood:                -386.20\nNo. Observations:                 200   AIC:                             778.4\nDf Residuals:                     197   BIC:                             788.3\nDf Model:                           2                                         \nCovariance Type:            nonrobust                                         \n==============================================================================\n                 coef    std err          t      P>|t|      [0.025      0.975]\n------------------------------------------------------------------------------\nIntercept      2.9211      0.294      9.919      0.000       2.340       3.502\nTV             0.0458      0.001     32.909      0.000       0.043       0.048\nRadio          0.1880      0.008     23.382      0.000       0.172       0.204\n==============================================================================\nOmnibus:                       60.022   Durbin-Watson:                   2.081\nProb(Omnibus):                  0.000   Jarque-Bera (JB):              148.679\nSkew:                          -1.323   Prob(JB):                     5.19e-33\nKurtosis:                       6.292   Cond. No.                         425.\n==============================================================================\n\nNotes:\n[1] Standard Errors assume that the covariance matrix of the errors is correctly specified.\n\"\"\"",
      "text/html": "<table class=\"simpletable\">\n<caption>OLS Regression Results</caption>\n<tr>\n  <th>Dep. Variable:</th>          <td>Sales</td>      <th>  R-squared:         </th> <td>   0.897</td>\n</tr>\n<tr>\n  <th>Model:</th>                   <td>OLS</td>       <th>  Adj. R-squared:    </th> <td>   0.896</td>\n</tr>\n<tr>\n  <th>Method:</th>             <td>Least Squares</td>  <th>  F-statistic:       </th> <td>   859.6</td>\n</tr>\n<tr>\n  <th>Date:</th>             <td>Mon, 09 Oct 2023</td> <th>  Prob (F-statistic):</th> <td>4.83e-98</td>\n</tr>\n<tr>\n  <th>Time:</th>                 <td>22:52:55</td>     <th>  Log-Likelihood:    </th> <td> -386.20</td>\n</tr>\n<tr>\n  <th>No. Observations:</th>      <td>   200</td>      <th>  AIC:               </th> <td>   778.4</td>\n</tr>\n<tr>\n  <th>Df Residuals:</th>          <td>   197</td>      <th>  BIC:               </th> <td>   788.3</td>\n</tr>\n<tr>\n  <th>Df Model:</th>              <td>     2</td>      <th>                     </th>     <td> </td>   \n</tr>\n<tr>\n  <th>Covariance Type:</th>      <td>nonrobust</td>    <th>                     </th>     <td> </td>   \n</tr>\n</table>\n<table class=\"simpletable\">\n<tr>\n      <td></td>         <th>coef</th>     <th>std err</th>      <th>t</th>      <th>P>|t|</th>  <th>[0.025</th>    <th>0.975]</th>  \n</tr>\n<tr>\n  <th>Intercept</th> <td>    2.9211</td> <td>    0.294</td> <td>    9.919</td> <td> 0.000</td> <td>    2.340</td> <td>    3.502</td>\n</tr>\n<tr>\n  <th>TV</th>        <td>    0.0458</td> <td>    0.001</td> <td>   32.909</td> <td> 0.000</td> <td>    0.043</td> <td>    0.048</td>\n</tr>\n<tr>\n  <th>Radio</th>     <td>    0.1880</td> <td>    0.008</td> <td>   23.382</td> <td> 0.000</td> <td>    0.172</td> <td>    0.204</td>\n</tr>\n</table>\n<table class=\"simpletable\">\n<tr>\n  <th>Omnibus:</th>       <td>60.022</td> <th>  Durbin-Watson:     </th> <td>   2.081</td>\n</tr>\n<tr>\n  <th>Prob(Omnibus):</th> <td> 0.000</td> <th>  Jarque-Bera (JB):  </th> <td> 148.679</td>\n</tr>\n<tr>\n  <th>Skew:</th>          <td>-1.323</td> <th>  Prob(JB):          </th> <td>5.19e-33</td>\n</tr>\n<tr>\n  <th>Kurtosis:</th>      <td> 6.292</td> <th>  Cond. No.          </th> <td>    425.</td>\n</tr>\n</table><br/><br/>Notes:<br/>[1] Standard Errors assume that the covariance matrix of the errors is correctly specified."
     },
     "execution_count": 37,
     "metadata": {},
     "output_type": "execute_result"
    }
   ],
   "source": [
    "lm3.summary()"
   ],
   "metadata": {
    "collapsed": false,
    "ExecuteTime": {
     "end_time": "2023-10-09T20:52:55.594229Z",
     "start_time": "2023-10-09T20:52:55.565226Z"
    }
   },
   "id": "dd5d5ae410113e75"
  },
  {
   "cell_type": "code",
   "execution_count": 39,
   "outputs": [],
   "source": [
    "sales_pred = lm3.predict (data_pub [[\"TV\", 'Radio']])"
   ],
   "metadata": {
    "collapsed": false,
    "ExecuteTime": {
     "end_time": "2023-10-09T20:53:57.926735Z",
     "start_time": "2023-10-09T20:53:57.902777Z"
    }
   },
   "id": "39b73a102e9c09f5"
  },
  {
   "cell_type": "code",
   "execution_count": 40,
   "outputs": [],
   "source": [
    "SSE_3 = sum((results_lm2['Sales']- sales_pred)**2)"
   ],
   "metadata": {
    "collapsed": false,
    "ExecuteTime": {
     "end_time": "2023-10-09T20:54:30.902406Z",
     "start_time": "2023-10-09T20:54:30.852240Z"
    }
   },
   "id": "28b24e4d3f0f9cf0"
  },
  {
   "cell_type": "code",
   "execution_count": 42,
   "outputs": [],
   "source": [
    "RSE_3= np.sqrt(SSE_3/(len(results_lm2)-2-1))"
   ],
   "metadata": {
    "collapsed": false,
    "ExecuteTime": {
     "end_time": "2023-10-09T20:55:17.981245Z",
     "start_time": "2023-10-09T20:55:17.970636Z"
    }
   },
   "id": "37919b4d6bb653f"
  },
  {
   "cell_type": "code",
   "execution_count": 43,
   "outputs": [],
   "source": [
    "error_prom = RSE_3/sales_m"
   ],
   "metadata": {
    "collapsed": false,
    "ExecuteTime": {
     "end_time": "2023-10-09T20:55:22.598767Z",
     "start_time": "2023-10-09T20:55:22.557354Z"
    }
   },
   "id": "33f8f222914ccc3"
  },
  {
   "cell_type": "code",
   "execution_count": 44,
   "outputs": [
    {
     "data": {
      "text/plain": "0.1199045043685506"
     },
     "execution_count": 44,
     "metadata": {},
     "output_type": "execute_result"
    }
   ],
   "source": [
    "error_prom"
   ],
   "metadata": {
    "collapsed": false,
    "ExecuteTime": {
     "end_time": "2023-10-09T20:55:28.124647Z",
     "start_time": "2023-10-09T20:55:28.081131Z"
    }
   },
   "id": "33ffac89c6fccda7"
  },
  {
   "cell_type": "markdown",
   "source": [
    "Y si añadimos los 3? Que ocurrira? Debería ser el mejor? "
   ],
   "metadata": {
    "collapsed": false
   },
   "id": "9f45b7b4a08b68dd"
  },
  {
   "cell_type": "code",
   "execution_count": 45,
   "outputs": [],
   "source": [
    "lm4 = lm3 = smf.ols(formula=\"Sales~TV+Radio+Newspaper\", data= data_pub).fit()"
   ],
   "metadata": {
    "collapsed": false,
    "ExecuteTime": {
     "end_time": "2023-10-09T20:56:11.767868Z",
     "start_time": "2023-10-09T20:56:11.718981Z"
    }
   },
   "id": "aebacf841a82a777"
  },
  {
   "cell_type": "code",
   "execution_count": 46,
   "outputs": [
    {
     "data": {
      "text/plain": "Intercept    1.267295e-17\nTV           1.509960e-81\nRadio        1.505339e-54\nNewspaper    8.599151e-01\ndtype: float64"
     },
     "execution_count": 46,
     "metadata": {},
     "output_type": "execute_result"
    }
   ],
   "source": [
    "lm4.pvalues"
   ],
   "metadata": {
    "collapsed": false,
    "ExecuteTime": {
     "end_time": "2023-10-09T20:56:25.092980Z",
     "start_time": "2023-10-09T20:56:25.064151Z"
    }
   },
   "id": "9355caa51b84d135"
  },
  {
   "cell_type": "code",
   "execution_count": 47,
   "outputs": [
    {
     "data": {
      "text/plain": "<class 'statsmodels.iolib.summary.Summary'>\n\"\"\"\n                            OLS Regression Results                            \n==============================================================================\nDep. Variable:                  Sales   R-squared:                       0.897\nModel:                            OLS   Adj. R-squared:                  0.896\nMethod:                 Least Squares   F-statistic:                     570.3\nDate:                Mon, 09 Oct 2023   Prob (F-statistic):           1.58e-96\nTime:                        22:56:37   Log-Likelihood:                -386.18\nNo. Observations:                 200   AIC:                             780.4\nDf Residuals:                     196   BIC:                             793.6\nDf Model:                           3                                         \nCovariance Type:            nonrobust                                         \n==============================================================================\n                 coef    std err          t      P>|t|      [0.025      0.975]\n------------------------------------------------------------------------------\nIntercept      2.9389      0.312      9.422      0.000       2.324       3.554\nTV             0.0458      0.001     32.809      0.000       0.043       0.049\nRadio          0.1885      0.009     21.893      0.000       0.172       0.206\nNewspaper     -0.0010      0.006     -0.177      0.860      -0.013       0.011\n==============================================================================\nOmnibus:                       60.414   Durbin-Watson:                   2.084\nProb(Omnibus):                  0.000   Jarque-Bera (JB):              151.241\nSkew:                          -1.327   Prob(JB):                     1.44e-33\nKurtosis:                       6.332   Cond. No.                         454.\n==============================================================================\n\nNotes:\n[1] Standard Errors assume that the covariance matrix of the errors is correctly specified.\n\"\"\"",
      "text/html": "<table class=\"simpletable\">\n<caption>OLS Regression Results</caption>\n<tr>\n  <th>Dep. Variable:</th>          <td>Sales</td>      <th>  R-squared:         </th> <td>   0.897</td>\n</tr>\n<tr>\n  <th>Model:</th>                   <td>OLS</td>       <th>  Adj. R-squared:    </th> <td>   0.896</td>\n</tr>\n<tr>\n  <th>Method:</th>             <td>Least Squares</td>  <th>  F-statistic:       </th> <td>   570.3</td>\n</tr>\n<tr>\n  <th>Date:</th>             <td>Mon, 09 Oct 2023</td> <th>  Prob (F-statistic):</th> <td>1.58e-96</td>\n</tr>\n<tr>\n  <th>Time:</th>                 <td>22:56:37</td>     <th>  Log-Likelihood:    </th> <td> -386.18</td>\n</tr>\n<tr>\n  <th>No. Observations:</th>      <td>   200</td>      <th>  AIC:               </th> <td>   780.4</td>\n</tr>\n<tr>\n  <th>Df Residuals:</th>          <td>   196</td>      <th>  BIC:               </th> <td>   793.6</td>\n</tr>\n<tr>\n  <th>Df Model:</th>              <td>     3</td>      <th>                     </th>     <td> </td>   \n</tr>\n<tr>\n  <th>Covariance Type:</th>      <td>nonrobust</td>    <th>                     </th>     <td> </td>   \n</tr>\n</table>\n<table class=\"simpletable\">\n<tr>\n      <td></td>         <th>coef</th>     <th>std err</th>      <th>t</th>      <th>P>|t|</th>  <th>[0.025</th>    <th>0.975]</th>  \n</tr>\n<tr>\n  <th>Intercept</th> <td>    2.9389</td> <td>    0.312</td> <td>    9.422</td> <td> 0.000</td> <td>    2.324</td> <td>    3.554</td>\n</tr>\n<tr>\n  <th>TV</th>        <td>    0.0458</td> <td>    0.001</td> <td>   32.809</td> <td> 0.000</td> <td>    0.043</td> <td>    0.049</td>\n</tr>\n<tr>\n  <th>Radio</th>     <td>    0.1885</td> <td>    0.009</td> <td>   21.893</td> <td> 0.000</td> <td>    0.172</td> <td>    0.206</td>\n</tr>\n<tr>\n  <th>Newspaper</th> <td>   -0.0010</td> <td>    0.006</td> <td>   -0.177</td> <td> 0.860</td> <td>   -0.013</td> <td>    0.011</td>\n</tr>\n</table>\n<table class=\"simpletable\">\n<tr>\n  <th>Omnibus:</th>       <td>60.414</td> <th>  Durbin-Watson:     </th> <td>   2.084</td>\n</tr>\n<tr>\n  <th>Prob(Omnibus):</th> <td> 0.000</td> <th>  Jarque-Bera (JB):  </th> <td> 151.241</td>\n</tr>\n<tr>\n  <th>Skew:</th>          <td>-1.327</td> <th>  Prob(JB):          </th> <td>1.44e-33</td>\n</tr>\n<tr>\n  <th>Kurtosis:</th>      <td> 6.332</td> <th>  Cond. No.          </th> <td>    454.</td>\n</tr>\n</table><br/><br/>Notes:<br/>[1] Standard Errors assume that the covariance matrix of the errors is correctly specified."
     },
     "execution_count": 47,
     "metadata": {},
     "output_type": "execute_result"
    }
   ],
   "source": [
    "lm4.summary()"
   ],
   "metadata": {
    "collapsed": false,
    "ExecuteTime": {
     "end_time": "2023-10-09T20:56:37.350223Z",
     "start_time": "2023-10-09T20:56:37.335970Z"
    }
   },
   "id": "325d4ddc13a28d3e"
  },
  {
   "cell_type": "markdown",
   "source": [
    "El p-valor del periodico es muy alto y, por lo tanto, no aporta nada al modelo. Y por tanto se puede aceptar la hipotesis nula para este parámetro."
   ],
   "metadata": {
    "collapsed": false
   },
   "id": "77eb66abf35bf7bc"
  },
  {
   "cell_type": "markdown",
   "source": [
    "## Multicolinealidad"
   ],
   "metadata": {
    "collapsed": false
   },
   "id": "efe0440a62398da3"
  },
  {
   "cell_type": "code",
   "execution_count": 50,
   "outputs": [
    {
     "data": {
      "text/plain": "<matplotlib.image.AxesImage at 0x117fb6220>"
     },
     "execution_count": 50,
     "metadata": {},
     "output_type": "execute_result"
    },
    {
     "data": {
      "text/plain": "<Figure size 480x480 with 1 Axes>",
      "image/png": "[encoded data removed]"
     },
     "metadata": {},
     "output_type": "display_data"
    }
   ],
   "source": [
    "plt.matshow(correlation_matrix)"
   ],
   "metadata": {
    "collapsed": false,
    "ExecuteTime": {
     "end_time": "2023-10-10T19:52:56.882769Z",
     "start_time": "2023-10-10T19:52:56.568231Z"
    }
   },
   "id": "5aa689810d1b487c"
  },
  {
   "cell_type": "markdown",
   "source": [
    "correlation_matrix"
   ],
   "metadata": {
    "collapsed": false
   },
   "id": "b0f9f37a91c76582"
  },
  {
   "cell_type": "markdown",
   "source": [
    "Al mirar otra vez la matriz de la correlación, se puede observar que el periodico esta relacionado con la radio, lo que aumenta la variablidad del coeficiente estimado. Cuando encontramos esta colinealidad, tenemos que borrar una de las vairables. Para ello, deberemos hacer una prueba de varianza:"
   ],
   "metadata": {
    "collapsed": false
   },
   "id": "a64ea47fefd342cc"
  },
  {
   "cell_type": "markdown",
   "source": [
    "$$VIF = 1/(1-R^2)$$"
   ],
   "metadata": {
    "collapsed": false
   },
   "id": "cfd71d6ca8dfba3b"
  },
  {
   "cell_type": "markdown",
   "source": [
    "Ahora lo qye vamos a calcular los VIFs para las tres variables: "
   ],
   "metadata": {
    "collapsed": false
   },
   "id": "b39136b025fe8aed"
  },
  {
   "cell_type": "markdown",
   "source": [
    "Si VIF = 1 las variables no estan correlacionadas. \n",
    "Si VIF < 5 las variables tienen una correlación moderada y se pueden mantener\n",
    "Si VIF > 5 las variablees  estan altamente correlacionadas y deben desaparecer del modelo"
   ],
   "metadata": {
    "collapsed": false
   },
   "id": "c183a26b81c361dc"
  },
  {
   "cell_type": "code",
   "execution_count": 54,
   "outputs": [
    {
     "data": {
      "text/plain": "1.145187378723929"
     },
     "execution_count": 54,
     "metadata": {},
     "output_type": "execute_result"
    }
   ],
   "source": [
    "lm_newspaper = smf.ols(formula='Newspaper~TV+Radio', data=data_pub).fit()\n",
    "VIF_n = 1/(1-lm_newspaper.rsquared)\n",
    "VIF_n"
   ],
   "metadata": {
    "collapsed": false,
    "ExecuteTime": {
     "end_time": "2023-10-10T20:06:26.423183Z",
     "start_time": "2023-10-10T20:06:26.414423Z"
    }
   },
   "id": "2804ec9218977eb9"
  },
  {
   "cell_type": "code",
   "execution_count": 55,
   "outputs": [
    {
     "data": {
      "text/plain": "1.1449519171055356"
     },
     "execution_count": 55,
     "metadata": {},
     "output_type": "execute_result"
    }
   ],
   "source": [
    "lm_radio = smf.ols(formula='Radio~TV+Newspaper', data=data_pub).fit()\n",
    "VIF_r = 1/(1-lm_radio.rsquared)\n",
    "VIF_r"
   ],
   "metadata": {
    "collapsed": false,
    "ExecuteTime": {
     "end_time": "2023-10-10T20:06:57.208611Z",
     "start_time": "2023-10-10T20:06:57.169434Z"
    }
   },
   "id": "465913923c52434"
  },
  {
   "cell_type": "code",
   "execution_count": 56,
   "outputs": [
    {
     "data": {
      "text/plain": "1.00461078493965"
     },
     "execution_count": 56,
     "metadata": {},
     "output_type": "execute_result"
    }
   ],
   "source": [
    "lm_tv = smf.ols(formula='TV~Radio+Newspaper', data=data_pub).fit()\n",
    "VIF_tv = 1/(1-lm_tv.rsquared)\n",
    "VIF_tv"
   ],
   "metadata": {
    "collapsed": false,
    "ExecuteTime": {
     "end_time": "2023-10-10T20:07:31.508506Z",
     "start_time": "2023-10-10T20:07:31.456271Z"
    }
   },
   "id": "1d712d6436574c9c"
  },
  {
   "cell_type": "markdown",
   "source": [
    "En vista de los resultados, nos quedamos con el modelo de Sales ~ TV + Radio ya que es la que mejor conjunto de VIF tienen."
   ],
   "metadata": {
    "collapsed": false
   },
   "id": "b2cc05ac5f3fbc3d"
  },
  {
   "cell_type": "code",
   "execution_count": 57,
   "outputs": [
    {
     "data": {
      "text/plain": "<class 'statsmodels.iolib.summary.Summary'>\n\"\"\"\n                            OLS Regression Results                            \n==============================================================================\nDep. Variable:                  Sales   R-squared:                       0.897\nModel:                            OLS   Adj. R-squared:                  0.896\nMethod:                 Least Squares   F-statistic:                     570.3\nDate:                Tue, 10 Oct 2023   Prob (F-statistic):           1.58e-96\nTime:                        22:12:02   Log-Likelihood:                -386.18\nNo. Observations:                 200   AIC:                             780.4\nDf Residuals:                     196   BIC:                             793.6\nDf Model:                           3                                         \nCovariance Type:            nonrobust                                         \n==============================================================================\n                 coef    std err          t      P>|t|      [0.025      0.975]\n------------------------------------------------------------------------------\nIntercept      2.9389      0.312      9.422      0.000       2.324       3.554\nTV             0.0458      0.001     32.809      0.000       0.043       0.049\nRadio          0.1885      0.009     21.893      0.000       0.172       0.206\nNewspaper     -0.0010      0.006     -0.177      0.860      -0.013       0.011\n==============================================================================\nOmnibus:                       60.414   Durbin-Watson:                   2.084\nProb(Omnibus):                  0.000   Jarque-Bera (JB):              151.241\nSkew:                          -1.327   Prob(JB):                     1.44e-33\nKurtosis:                       6.332   Cond. No.                         454.\n==============================================================================\n\nNotes:\n[1] Standard Errors assume that the covariance matrix of the errors is correctly specified.\n\"\"\"",
      "text/html": "<table class=\"simpletable\">\n<caption>OLS Regression Results</caption>\n<tr>\n  <th>Dep. Variable:</th>          <td>Sales</td>      <th>  R-squared:         </th> <td>   0.897</td>\n</tr>\n<tr>\n  <th>Model:</th>                   <td>OLS</td>       <th>  Adj. R-squared:    </th> <td>   0.896</td>\n</tr>\n<tr>\n  <th>Method:</th>             <td>Least Squares</td>  <th>  F-statistic:       </th> <td>   570.3</td>\n</tr>\n<tr>\n  <th>Date:</th>             <td>Tue, 10 Oct 2023</td> <th>  Prob (F-statistic):</th> <td>1.58e-96</td>\n</tr>\n<tr>\n  <th>Time:</th>                 <td>22:12:02</td>     <th>  Log-Likelihood:    </th> <td> -386.18</td>\n</tr>\n<tr>\n  <th>No. Observations:</th>      <td>   200</td>      <th>  AIC:               </th> <td>   780.4</td>\n</tr>\n<tr>\n  <th>Df Residuals:</th>          <td>   196</td>      <th>  BIC:               </th> <td>   793.6</td>\n</tr>\n<tr>\n  <th>Df Model:</th>              <td>     3</td>      <th>                     </th>     <td> </td>   \n</tr>\n<tr>\n  <th>Covariance Type:</th>      <td>nonrobust</td>    <th>                     </th>     <td> </td>   \n</tr>\n</table>\n<table class=\"simpletable\">\n<tr>\n      <td></td>         <th>coef</th>     <th>std err</th>      <th>t</th>      <th>P>|t|</th>  <th>[0.025</th>    <th>0.975]</th>  \n</tr>\n<tr>\n  <th>Intercept</th> <td>    2.9389</td> <td>    0.312</td> <td>    9.422</td> <td> 0.000</td> <td>    2.324</td> <td>    3.554</td>\n</tr>\n<tr>\n  <th>TV</th>        <td>    0.0458</td> <td>    0.001</td> <td>   32.809</td> <td> 0.000</td> <td>    0.043</td> <td>    0.049</td>\n</tr>\n<tr>\n  <th>Radio</th>     <td>    0.1885</td> <td>    0.009</td> <td>   21.893</td> <td> 0.000</td> <td>    0.172</td> <td>    0.206</td>\n</tr>\n<tr>\n  <th>Newspaper</th> <td>   -0.0010</td> <td>    0.006</td> <td>   -0.177</td> <td> 0.860</td> <td>   -0.013</td> <td>    0.011</td>\n</tr>\n</table>\n<table class=\"simpletable\">\n<tr>\n  <th>Omnibus:</th>       <td>60.414</td> <th>  Durbin-Watson:     </th> <td>   2.084</td>\n</tr>\n<tr>\n  <th>Prob(Omnibus):</th> <td> 0.000</td> <th>  Jarque-Bera (JB):  </th> <td> 151.241</td>\n</tr>\n<tr>\n  <th>Skew:</th>          <td>-1.327</td> <th>  Prob(JB):          </th> <td>1.44e-33</td>\n</tr>\n<tr>\n  <th>Kurtosis:</th>      <td> 6.332</td> <th>  Cond. No.          </th> <td>    454.</td>\n</tr>\n</table><br/><br/>Notes:<br/>[1] Standard Errors assume that the covariance matrix of the errors is correctly specified."
     },
     "execution_count": 57,
     "metadata": {},
     "output_type": "execute_result"
    }
   ],
   "source": [
    "lm3.summary()"
   ],
   "metadata": {
    "collapsed": false,
    "ExecuteTime": {
     "end_time": "2023-10-10T20:12:02.198664Z",
     "start_time": "2023-10-10T20:12:02.180520Z"
    }
   },
   "id": "9cd00970deeecbb0"
  },
  {
   "cell_type": "code",
   "execution_count": null,
   "outputs": [],
   "source": [],
   "metadata": {
    "collapsed": false
   },
   "id": "9edc4ea9fa8c981e"
  }
 ],
 "metadata": {
  "kernelspec": {
   "display_name": "Python 3",
   "language": "python",
   "name": "python3"
  },
  "language_info": {
   "codemirror_mode": {
    "name": "ipython",
    "version": 2
   },
   "file_extension": ".py",
   "mimetype": "text/x-python",
   "name": "python",
   "nbconvert_exporter": "python",
   "pygments_lexer": "ipython2",
   "version": "2.7.6"
  }
 },
 "nbformat": 4,
 "nbformat_minor": 5
}
