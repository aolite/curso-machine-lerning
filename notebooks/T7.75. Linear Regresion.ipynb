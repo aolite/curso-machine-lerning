{
 "cells": [
  {
   "cell_type": "markdown",
   "source": [
    " # Linear Regression"
   ],
   "metadata": {
    "collapsed": false
   }
  },
  {
   "cell_type": "markdown",
   "source": [
    "## Las matemáticas detrás de una regresión lineal\n",
    "\n",
    "Con lo que vamos a trabajar es con el precio de pisos según la superficie. En este sentido, tenemos la siguiente tabla de valores a predecir:\n",
    "\n",
    "| Superficie (m2) | Alquiler Mensual (€) |\n",
    "|-----------------|----------------------|\n",
    "| 150             | 450                  |\n",
    "| 120             | 380                  |\n",
    "| 170             | 480                  |\n",
    "| 80              | 270                  |\n",
    "\n",
    "Considerando esta tabla, la intención es en base a una variable observada (x -> Superficie), predecir una variable objetivo (y -> alquiler mensual).\n",
    "\n",
    "Para el caso de la regresión, asumimos que el coste es una función lineal sobre el coste. Entonces, el modelo, desde un punto de vista matemático, se construye en base a la siguiente ecuación:\n",
    "\n",
    "$$\n",
    " y_e = \\alpha + \\beta * x\n",
    "$$\n",
    "\n",
    "Es por ello, por lo que hay que buscar unos valores para $\\alpha$ y para $\\beta$. En un mundo ideal, estos valores de los parámetros, podrían permitir estimar unos valores exactos de y en consideración de los valores observados x.\n",
    "\n",
    "En base a unos métodos que luego veremos e implementaremos, tenemos los siguientes valores estimados para $alpha$ y $beta$:\n",
    "\n",
    "$$\n",
    " \\alpha = 86.96\n",
    " \\beta = 2.37\n",
    "$$\n",
    "\n",
    "De este modo, el modelo queda de la siguiente forma:\n",
    "\n",
    "$$\n",
    " Y_e = 86.96 + 2.37x\n",
    "$$\n",
    "\n",
    "Si usamos esta ecuación y queremos calcular un piso de 110m2, el valor estimado sería:\n",
    "\n",
    "$$\n",
    "Y_e = 86.96 + 2.37 * 110 = 347.66\n",
    "\n",
    "$$\n",
    "\n"
   ],
   "metadata": {
    "collapsed": false
   }
  },
  {
   "cell_type": "markdown",
   "source": [
    "Teniendo en cuenta el modelo anterior, la estimación de los valores de $\\alpha$ y $\\beta$ se realiza en base a la minimización de los errores entre el valor de $y$ real y el valor de $y$ estimada. Es decir:\n",
    "$$\n",
    "e_i = (y_i - Y_e(x_i))\n",
    "$$\n",
    "\n",
    "Como el objetivo es minimizar el error, las ecuaciones nos quedan:\n",
    "\n",
    "$$\n",
    " min \\sum_{i=1}^{n} e_i^2 = \\sum_{i=1}^{n} (y_i - Y_e(x_i))^2 = \\sum_{i=1}^{n} (y_i - (\\alpha + \\beta x_i))^2\n",
    "$$\n"
   ],
   "metadata": {
    "collapsed": false
   }
  },
  {
   "cell_type": "markdown",
   "source": [
    "Considerando el cálculo diferencial, las variables de $\\alpha$ y de $\\beta$ quedarían de la siguiente forma:\n",
    "\n",
    "$$\n",
    " \\beta = \\dfrac {(\\sum_{i=1}^{n} (x_i - \\bar x) (y_i - \\bar y)}{\\sum_{i=1}^{n} (x_i - \\bar x)^2} = \\dfrac {Cov(x,y)}{var(y)}\n",
    "$$\n",
    "\n",
    "$$\n",
    " \\alpha = \\bar y - \\beta \\bar x\n",
    "$$"
   ],
   "metadata": {
    "collapsed": false
   }
  },
  {
   "cell_type": "markdown",
   "source": [
    "### Demostración teórica de los resultados anteriores\n",
    "\n",
    "Para comenzar, empezaremos con la ecuación de minimización con la que queremos comenzar para demostrar el modelo:\n",
    "\n",
    "$$\n",
    " min \\sum_{i=1}^{n} e_i^2 = \\sum_{i=1}^{n} (y_i - Y_e(x_i))^2 = \\sum_{i=1}^{n} (y_i - (\\alpha + \\beta x_i))^2\n",
    "$$\n",
    "\n",
    "Es por ello, que si llamamos a esta función anterior $S (\\alpha, \\beta)$. Si existe un mínimo, las derivadas de la función, son 0. Si hacemos la derivada respecto a $\\alpha$ y $\\beta$ igualando a cero queda:\n",
    "\n",
    "$$\n",
    "  \\frac{\\partial S (\\alpha, \\beta)}{ \\partial \\alpha} = 0 \\rightarrow -2 \\sum_{i=1}^{n} (y_i - (\\alpha + \\beta x_i))= 0\n",
    "$$\n",
    "\n",
    "$$\n",
    "\\frac{\\partial S (\\alpha, \\beta)}{ \\partial \\beta} = 0 \\rightarrow -2  \\sum_{i=1}^{n} x_i(y_i - (\\alpha + \\beta x_i))= 0\n",
    "$$\n",
    "\n",
    "Ahora, lo que hay que resolver un sistema de dos ecuaciones con dos incognitas:\n",
    "\n",
    "$$\n",
    "\\begin{cases}\n",
    "-2 \\sum_{i=1}^{n} (y_i - (\\alpha + \\beta x_i))= 0 \\\\\n",
    "-2  \\sum_{i=1}^{n} x_i(y_i - (\\alpha + \\beta x_i))= 0\n",
    "\\end{cases}\n",
    "\\rightarrow\n",
    "\\begin{cases}\n",
    "\\sum_{i=1}^{n} (y_i - \\alpha - \\beta x_i)= 0 \\\\\n",
    "\\sum_{i=1}^{n} (x_iy_i - x_i\\alpha - \\beta x_i^2)= 0\n",
    "\\end{cases}\n",
    "\\rightarrow\n",
    "\\begin{cases}\n",
    "\\sum_{i=1}^{n} (y_i - \\alpha - \\beta x_i)= 0 \\\\\n",
    "\\sum_{i=1}^{n} x_iy_i - \\alpha\\sum_{i=1}^{n}x_i - \\beta \\sum_{i=1}^{n}x_i^2= 0\n",
    "\\end{cases}\n",
    "\\rightarrow\n",
    "$$\n",
    "\n",
    "$$\n",
    "\\begin{cases}\n",
    "\\sum_{i=1}^{n} (y_i - \\alpha - \\beta x_i)= 0 \\\\\n",
    "\\beta \\sum_{i=1}^{n}x_i^2 + \\alpha\\sum_{i=1}^{n}x_i = \\sum_{i=1}^{n} x_iy_i\n",
    "\\end{cases}\n",
    "\\rightarrow\n",
    "\\begin{cases}\n",
    "\\sum_{i=1}^{n} y_i - n * \\alpha - \\beta \\sum_{i=1}^{n}x_i= 0 \\\\\n",
    "\\beta \\sum_{i=1}^{n}x_i^2 + \\alpha\\sum_{i=1}^{n}x_i = \\sum_{i=1}^{n} x_iy_i\n",
    "\\end{cases}\n",
    "\\rightarrow\n",
    "\\begin{cases}\n",
    "\\sum_{i=1}^{n} y_i = n * \\alpha + \\beta \\sum_{i=1}^{n}x_i  \\\\\n",
    "\\beta \\sum_{i=1}^{n}x_i^2 + \\alpha\\sum_{i=1}^{n}x_i = \\sum_{i=1}^{n} x_iy_i\n",
    "\\end{cases}\n",
    "$$\n",
    "\n",
    "$$\n",
    "\\begin{cases}\n",
    "\\frac{\\sum_{i=1}^{n} y_i}{n} = \\alpha + \\beta \\frac{\\sum_{i=1}^{n}x_i}{n}  \\\\\n",
    "\\beta \\sum_{i=1}^{n}x_i^2 + \\alpha\\sum_{i=1}^{n}x_i = \\sum_{i=1}^{n} x_iy_i\n",
    "\\end{cases}\n",
    "\\rightarrow\n",
    "\\begin{cases}\n",
    "\\bar y = \\alpha + \\beta \\bar x  \\\\\n",
    "\\beta \\sum_{i=1}^{n}x_i^2 + \\alpha\\sum_{i=1}^{n}x_i = \\sum_{i=1}^{n} x_iy_i\n",
    "\\end{cases}\n",
    "$$\n"
   ],
   "metadata": {
    "collapsed": false
   }
  },
  {
   "cell_type": "markdown",
   "source": [
    "Llegados a este punto, podemos determinar lo siguiente:\n",
    "\n",
    "$$\n",
    " \\alpha = \\bar y - \\beta \\bar x\n",
    "$$"
   ],
   "metadata": {
    "collapsed": false
   }
  },
  {
   "cell_type": "markdown",
   "source": [
    "Despejando sobre la segunda ecuación nos queda:\n",
    "\n",
    "$$\n",
    "\\sum_{i=1}^{n} x_iy_i - (\\bar y - \\beta \\bar x) x_i - \\beta x_i^2 = 0 \\rightarrow \\sum_{i=1}^{n} x_iy_i - \\bar y x_i + \\beta \\bar x x_i - \\beta x_i^2 = 0 \\rightarrow \\sum_{i=1}^{n} (x_iy_i - \\bar y x_i) - \\sum_{i=1}^{n} \\beta x_i^2 - \\beta \\bar x x_i = 0\n",
    "$$"
   ],
   "metadata": {
    "collapsed": false
   }
  },
  {
   "cell_type": "markdown",
   "source": [
    "Teniendo en cuenta esto, al final $\\beta$ queda como:\n",
    "\n",
    "$$\n",
    " \\beta = \\frac{\\sum_{i=1}^{n} (x_iy_i - \\bar y x_i)}{\\sum_{i=1}^{n} x_i^2 - \\bar x x_i}\n",
    "$$"
   ],
   "metadata": {
    "collapsed": false
   }
  },
  {
   "cell_type": "markdown",
   "source": [
    "## Modelos y ejemplos prácticos\n",
    "\n",
    "### Modelos con datos simulados"
   ],
   "metadata": {
    "collapsed": false
   }
  },
  {
   "cell_type": "markdown",
   "source": [
    "Lo que pretendemos buscar es lo siguiente $y = a + bx$. Para ello, lo que vamos a generar son los siguientes valores:\n",
    "- X: 100 valores distribuidos segun la $N(1.5, 2.5)$\n",
    "- Y: 11 + 0.26 X + $\\epsilon$\n",
    "- $\\epsilon$ estará distribuida segun una $N(0, 0.8)$"
   ],
   "metadata": {
    "collapsed": false
   }
  },
  {
   "cell_type": "code",
   "execution_count": 340,
   "outputs": [],
   "source": [
    "import pandas as pd\n",
    "import numpy as np\n",
    "import matplotlib.pyplot as plt"
   ],
   "metadata": {
    "collapsed": false
   }
  },
  {
   "cell_type": "code",
   "execution_count": 341,
   "outputs": [],
   "source": [
    "x= 1.5 + 2.5 * np.random.randn(100)"
   ],
   "metadata": {
    "collapsed": false
   }
  },
  {
   "cell_type": "code",
   "execution_count": 342,
   "outputs": [],
   "source": [
    "epsilon = 0 + 0.8 * np.random.randn(100)"
   ],
   "metadata": {
    "collapsed": false
   }
  },
  {
   "cell_type": "code",
   "execution_count": 343,
   "outputs": [],
   "source": [
    "Y_pred = 11 + 2.6 * x"
   ],
   "metadata": {
    "collapsed": false
   }
  },
  {
   "cell_type": "code",
   "execution_count": 344,
   "outputs": [],
   "source": [
    "Y_real = 11 + 2.6 * x + epsilon"
   ],
   "metadata": {
    "collapsed": false
   }
  },
  {
   "cell_type": "code",
   "execution_count": 345,
   "outputs": [],
   "source": [
    "x_list = x.tolist()\n",
    "y_pred = Y_pred.tolist()\n",
    "y_real = Y_real.tolist()\n",
    "\n",
    "data = pd.DataFrame({\n",
    "    'x': x_list,\n",
    "    'y': y_real,\n",
    "    'y_pred': y_pred\n",
    "})"
   ],
   "metadata": {
    "collapsed": false
   }
  },
  {
   "cell_type": "code",
   "execution_count": 346,
   "outputs": [
    {
     "data": {
      "text/plain": "          x          y     y_pred\n0  2.610529  18.003007  17.787375\n1  5.212090  23.400018  24.551435\n2  2.111405  16.625879  16.489652\n3  3.918880  20.685693  21.189089\n4 -0.556996   9.388775   9.551809\n5 -0.245273  10.533396  10.362291\n6  4.609861  22.440848  22.985638\n7  0.980961  13.559912  13.550498\n8 -1.811745   6.007890   6.289462\n9  7.644472  30.654304  30.875627",
      "text/html": "<div>\n<style scoped>\n    .dataframe tbody tr th:only-of-type {\n        vertical-align: middle;\n    }\n\n    .dataframe tbody tr th {\n        vertical-align: top;\n    }\n\n    .dataframe thead th {\n        text-align: right;\n    }\n</style>\n<table border=\"1\" class=\"dataframe\">\n  <thead>\n    <tr style=\"text-align: right;\">\n      <th></th>\n      <th>x</th>\n      <th>y</th>\n      <th>y_pred</th>\n    </tr>\n  </thead>\n  <tbody>\n    <tr>\n      <th>0</th>\n      <td>2.610529</td>\n      <td>18.003007</td>\n      <td>17.787375</td>\n    </tr>\n    <tr>\n      <th>1</th>\n      <td>5.212090</td>\n      <td>23.400018</td>\n      <td>24.551435</td>\n    </tr>\n    <tr>\n      <th>2</th>\n      <td>2.111405</td>\n      <td>16.625879</td>\n      <td>16.489652</td>\n    </tr>\n    <tr>\n      <th>3</th>\n      <td>3.918880</td>\n      <td>20.685693</td>\n      <td>21.189089</td>\n    </tr>\n    <tr>\n      <th>4</th>\n      <td>-0.556996</td>\n      <td>9.388775</td>\n      <td>9.551809</td>\n    </tr>\n    <tr>\n      <th>5</th>\n      <td>-0.245273</td>\n      <td>10.533396</td>\n      <td>10.362291</td>\n    </tr>\n    <tr>\n      <th>6</th>\n      <td>4.609861</td>\n      <td>22.440848</td>\n      <td>22.985638</td>\n    </tr>\n    <tr>\n      <th>7</th>\n      <td>0.980961</td>\n      <td>13.559912</td>\n      <td>13.550498</td>\n    </tr>\n    <tr>\n      <th>8</th>\n      <td>-1.811745</td>\n      <td>6.007890</td>\n      <td>6.289462</td>\n    </tr>\n    <tr>\n      <th>9</th>\n      <td>7.644472</td>\n      <td>30.654304</td>\n      <td>30.875627</td>\n    </tr>\n  </tbody>\n</table>\n</div>"
     },
     "execution_count": 346,
     "metadata": {},
     "output_type": "execute_result"
    }
   ],
   "source": [
    "data.head(10)"
   ],
   "metadata": {
    "collapsed": false
   }
  },
  {
   "cell_type": "code",
   "execution_count": 347,
   "outputs": [],
   "source": [
    "y_mean_arr = [np.mean(data['y']) for _ in range (1, len (x_list)+1)]"
   ],
   "metadata": {
    "collapsed": false
   }
  },
  {
   "cell_type": "code",
   "execution_count": 348,
   "outputs": [
    {
     "data": {
      "text/plain": "Text(0.5, 1.0, 'Valor Actual vs Prediccion')"
     },
     "execution_count": 348,
     "metadata": {},
     "output_type": "execute_result"
    },
    {
     "data": {
      "text/plain": "<Figure size 640x480 with 1 Axes>",
      "image/png": "[encoded data removed]"
     },
     "metadata": {},
     "output_type": "display_data"
    }
   ],
   "source": [
    "%matplotlib inline\n",
    "plt.plot(data['x'], data['y_pred'])\n",
    "plt.plot(data['x'], data['y'], \"ro\")\n",
    "plt.plot(data['x'], y_mean_arr, 'g')\n",
    "plt.title('Valor Actual vs Prediccion')"
   ],
   "metadata": {
    "collapsed": false
   }
  },
  {
   "cell_type": "code",
   "execution_count": 349,
   "outputs": [],
   "source": [
    "data ['SSR'] = (data['y_pred'] - np.mean (data['y']))**2\n",
    "data ['SSD'] = (data ['y_pred']- data ['y'])**2\n",
    "data ['SST'] = (data ['y']- np.mean(data ['y']))** 2"
   ],
   "metadata": {
    "collapsed": false
   }
  },
  {
   "cell_type": "code",
   "execution_count": 350,
   "outputs": [
    {
     "data": {
      "text/plain": "          x          y     y_pred        SSR       SSD        SST\n0  2.610529  18.003007  17.787375   6.508209  0.046497   7.654915\n1  5.212090  23.400018  24.551435  86.772562  1.325760  66.647019\n2  2.111405  16.625879  16.489652   1.571003  0.018558   1.931054\n3  3.918880  20.685693  21.189089  35.436220  0.253407  29.696367\n4 -0.556996   9.388775   9.551809  32.312928  0.026580  34.193032",
      "text/html": "<div>\n<style scoped>\n    .dataframe tbody tr th:only-of-type {\n        vertical-align: middle;\n    }\n\n    .dataframe tbody tr th {\n        vertical-align: top;\n    }\n\n    .dataframe thead th {\n        text-align: right;\n    }\n</style>\n<table border=\"1\" class=\"dataframe\">\n  <thead>\n    <tr style=\"text-align: right;\">\n      <th></th>\n      <th>x</th>\n      <th>y</th>\n      <th>y_pred</th>\n      <th>SSR</th>\n      <th>SSD</th>\n      <th>SST</th>\n    </tr>\n  </thead>\n  <tbody>\n    <tr>\n      <th>0</th>\n      <td>2.610529</td>\n      <td>18.003007</td>\n      <td>17.787375</td>\n      <td>6.508209</td>\n      <td>0.046497</td>\n      <td>7.654915</td>\n    </tr>\n    <tr>\n      <th>1</th>\n      <td>5.212090</td>\n      <td>23.400018</td>\n      <td>24.551435</td>\n      <td>86.772562</td>\n      <td>1.325760</td>\n      <td>66.647019</td>\n    </tr>\n    <tr>\n      <th>2</th>\n      <td>2.111405</td>\n      <td>16.625879</td>\n      <td>16.489652</td>\n      <td>1.571003</td>\n      <td>0.018558</td>\n      <td>1.931054</td>\n    </tr>\n    <tr>\n      <th>3</th>\n      <td>3.918880</td>\n      <td>20.685693</td>\n      <td>21.189089</td>\n      <td>35.436220</td>\n      <td>0.253407</td>\n      <td>29.696367</td>\n    </tr>\n    <tr>\n      <th>4</th>\n      <td>-0.556996</td>\n      <td>9.388775</td>\n      <td>9.551809</td>\n      <td>32.312928</td>\n      <td>0.026580</td>\n      <td>34.193032</td>\n    </tr>\n  </tbody>\n</table>\n</div>"
     },
     "execution_count": 350,
     "metadata": {},
     "output_type": "execute_result"
    }
   ],
   "source": [
    "data.head()"
   ],
   "metadata": {
    "collapsed": false
   }
  },
  {
   "cell_type": "code",
   "execution_count": 351,
   "outputs": [],
   "source": [
    "SSR = sum (data['SSR'])\n",
    "SSD = sum (data ['SSD'])\n",
    "SST = sum (data['SST'])"
   ],
   "metadata": {
    "collapsed": false
   }
  },
  {
   "cell_type": "code",
   "execution_count": 352,
   "outputs": [
    {
     "data": {
      "text/plain": "4071.2429722816532"
     },
     "execution_count": 352,
     "metadata": {},
     "output_type": "execute_result"
    }
   ],
   "source": [
    "SSR"
   ],
   "metadata": {
    "collapsed": false
   }
  },
  {
   "cell_type": "code",
   "execution_count": 353,
   "outputs": [
    {
     "data": {
      "text/plain": "65.04500641377746"
     },
     "execution_count": 353,
     "metadata": {},
     "output_type": "execute_result"
    }
   ],
   "source": [
    "SSD"
   ],
   "metadata": {
    "collapsed": false
   }
  },
  {
   "cell_type": "code",
   "execution_count": 354,
   "outputs": [
    {
     "data": {
      "text/plain": "4080.529491286732"
     },
     "execution_count": 354,
     "metadata": {},
     "output_type": "execute_result"
    }
   ],
   "source": [
    "SST"
   ],
   "metadata": {
    "collapsed": false
   }
  },
  {
   "cell_type": "code",
   "execution_count": 355,
   "outputs": [
    {
     "data": {
      "text/plain": "4136.287978695431"
     },
     "execution_count": 355,
     "metadata": {},
     "output_type": "execute_result"
    }
   ],
   "source": [
    "SSR + SSD"
   ],
   "metadata": {
    "collapsed": false
   }
  },
  {
   "cell_type": "code",
   "execution_count": 356,
   "outputs": [],
   "source": [
    "R2 = SSR/SST"
   ],
   "metadata": {
    "collapsed": false
   }
  },
  {
   "cell_type": "code",
   "execution_count": 357,
   "outputs": [
    {
     "data": {
      "text/plain": "0.997724187749431"
     },
     "execution_count": 357,
     "metadata": {},
     "output_type": "execute_result"
    }
   ],
   "source": [
    "R2"
   ],
   "metadata": {
    "collapsed": false
   }
  },
  {
   "cell_type": "code",
   "execution_count": 358,
   "outputs": [
    {
     "data": {
      "text/plain": "(array([ 8.,  3.,  5., 11., 21., 21., 15.,  8.,  5.,  3.]),\n array([-1.72868107, -1.36223298, -0.99578488, -0.62933678, -0.26288868,\n         0.10355942,  0.47000752,  0.83645562,  1.20290371,  1.56935181,\n         1.93579991]),\n <BarContainer object of 10 artists>)"
     },
     "execution_count": 358,
     "metadata": {},
     "output_type": "execute_result"
    },
    {
     "data": {
      "text/plain": "<Figure size 640x480 with 1 Axes>",
      "image/png": "[encoded data removed]"
     },
     "metadata": {},
     "output_type": "display_data"
    }
   ],
   "source": [
    "plt.hist((data ['y_pred']- data ['y']))"
   ],
   "metadata": {
    "collapsed": false
   }
  },
  {
   "cell_type": "markdown",
   "source": [
    "Ahora, vamos a utilizar la X para interntar predecir el valor actual, es decir, vamos a calcular la recta de regresión lineal. Para realizar esto, lo que vamos a tener en cuenta es las ecuaciones de la regresión lineal:\n",
    "\n",
    "- $y = a + b*x$\n",
    "- $b = \\frac{\\sum (x_i-\\bar{x}) * (y_i-\\bar{y})}{\\sum (x_i-\\bar{x})^2}$\n",
    "- $ a = \\bar{y} - b*\\bar{x}$"
   ],
   "metadata": {
    "collapsed": false
   }
  },
  {
   "cell_type": "code",
   "execution_count": 359,
   "outputs": [],
   "source": [
    "x_mean = np.mean(data['x'])\n",
    "y_mean = np.mean (data ['y'])"
   ],
   "metadata": {
    "collapsed": false
   }
  },
  {
   "cell_type": "code",
   "execution_count": 360,
   "outputs": [
    {
     "data": {
      "text/plain": "1.6630032014650873"
     },
     "execution_count": 360,
     "metadata": {},
     "output_type": "execute_result"
    }
   ],
   "source": [
    "x_mean"
   ],
   "metadata": {
    "collapsed": false
   }
  },
  {
   "cell_type": "code",
   "execution_count": 361,
   "outputs": [
    {
     "data": {
      "text/plain": "15.236255529604268"
     },
     "execution_count": 361,
     "metadata": {},
     "output_type": "execute_result"
    }
   ],
   "source": [
    "y_mean"
   ],
   "metadata": {
    "collapsed": false
   }
  },
  {
   "cell_type": "code",
   "execution_count": 362,
   "outputs": [],
   "source": [
    "data ['beta_n'] = (data['x'] - x_mean) * (data['y']- y_mean)\n",
    "data ['beta_denominador'] = (data['x'] - x_mean)**2"
   ],
   "metadata": {
    "collapsed": false
   }
  },
  {
   "cell_type": "code",
   "execution_count": 363,
   "outputs": [],
   "source": [
    "beta = sum(data ['beta_n'])/ sum (data['beta_denominador'])"
   ],
   "metadata": {
    "collapsed": false
   }
  },
  {
   "cell_type": "code",
   "execution_count": 364,
   "outputs": [],
   "source": [
    "alpha = y_mean - beta * x_mean"
   ],
   "metadata": {
    "collapsed": false
   }
  },
  {
   "cell_type": "code",
   "execution_count": 365,
   "outputs": [
    {
     "data": {
      "text/plain": "(10.941247297502123, 2.5826818783741916)"
     },
     "execution_count": 365,
     "metadata": {},
     "output_type": "execute_result"
    }
   ],
   "source": [
    "alpha, beta"
   ],
   "metadata": {
    "collapsed": false
   }
  },
  {
   "cell_type": "code",
   "execution_count": 366,
   "outputs": [],
   "source": [
    "data ['y_pred_2'] = alpha + beta * data ['x']"
   ],
   "metadata": {
    "collapsed": false
   }
  },
  {
   "cell_type": "code",
   "execution_count": 367,
   "outputs": [
    {
     "data": {
      "text/plain": "          x          y     y_pred        SSR       SSD        SST     beta_n  \\\n0  2.610529  18.003007  17.787375   6.508209  0.046497   7.654915   2.621568   \n1  5.212090  23.400018  24.551435  86.772562  1.325760  66.647019  28.973904   \n2  2.111405  16.625879  16.489652   1.571003  0.018558   1.931054   0.623109   \n3  3.918880  20.685693  21.189089  35.436220  0.253407  29.696367  12.293260   \n4 -0.556996   9.388775   9.551809  32.312928  0.026580  34.193032  12.981405   \n\n   beta_denominador   y_pred_2  \n0          0.897805  17.683413  \n1         12.596019  24.402418  \n2          0.201064  16.394334  \n3          5.088981  21.062468  \n4          4.928398   9.502703  ",
      "text/html": "<div>\n<style scoped>\n    .dataframe tbody tr th:only-of-type {\n        vertical-align: middle;\n    }\n\n    .dataframe tbody tr th {\n        vertical-align: top;\n    }\n\n    .dataframe thead th {\n        text-align: right;\n    }\n</style>\n<table border=\"1\" class=\"dataframe\">\n  <thead>\n    <tr style=\"text-align: right;\">\n      <th></th>\n      <th>x</th>\n      <th>y</th>\n      <th>y_pred</th>\n      <th>SSR</th>\n      <th>SSD</th>\n      <th>SST</th>\n      <th>beta_n</th>\n      <th>beta_denominador</th>\n      <th>y_pred_2</th>\n    </tr>\n  </thead>\n  <tbody>\n    <tr>\n      <th>0</th>\n      <td>2.610529</td>\n      <td>18.003007</td>\n      <td>17.787375</td>\n      <td>6.508209</td>\n      <td>0.046497</td>\n      <td>7.654915</td>\n      <td>2.621568</td>\n      <td>0.897805</td>\n      <td>17.683413</td>\n    </tr>\n    <tr>\n      <th>1</th>\n      <td>5.212090</td>\n      <td>23.400018</td>\n      <td>24.551435</td>\n      <td>86.772562</td>\n      <td>1.325760</td>\n      <td>66.647019</td>\n      <td>28.973904</td>\n      <td>12.596019</td>\n      <td>24.402418</td>\n    </tr>\n    <tr>\n      <th>2</th>\n      <td>2.111405</td>\n      <td>16.625879</td>\n      <td>16.489652</td>\n      <td>1.571003</td>\n      <td>0.018558</td>\n      <td>1.931054</td>\n      <td>0.623109</td>\n      <td>0.201064</td>\n      <td>16.394334</td>\n    </tr>\n    <tr>\n      <th>3</th>\n      <td>3.918880</td>\n      <td>20.685693</td>\n      <td>21.189089</td>\n      <td>35.436220</td>\n      <td>0.253407</td>\n      <td>29.696367</td>\n      <td>12.293260</td>\n      <td>5.088981</td>\n      <td>21.062468</td>\n    </tr>\n    <tr>\n      <th>4</th>\n      <td>-0.556996</td>\n      <td>9.388775</td>\n      <td>9.551809</td>\n      <td>32.312928</td>\n      <td>0.026580</td>\n      <td>34.193032</td>\n      <td>12.981405</td>\n      <td>4.928398</td>\n      <td>9.502703</td>\n    </tr>\n  </tbody>\n</table>\n</div>"
     },
     "execution_count": 367,
     "metadata": {},
     "output_type": "execute_result"
    }
   ],
   "source": [
    "data.head()"
   ],
   "metadata": {
    "collapsed": false
   }
  },
  {
   "cell_type": "code",
   "execution_count": 368,
   "outputs": [
    {
     "data": {
      "text/plain": "(4071.2429722816532, 65.04500641377746, 4080.529491286732)"
     },
     "execution_count": 368,
     "metadata": {},
     "output_type": "execute_result"
    }
   ],
   "source": [
    "SSR_model = sum((data['y_pred_2'] - y_mean)**2)\n",
    "SSD_model = sum((data ['y_pred_2']- data ['y'])**2)\n",
    "SST_model = sum((data ['y']- y_mean)** 2)\n",
    "\n",
    "SSR, SSD, SST"
   ],
   "metadata": {
    "collapsed": false
   }
  },
  {
   "cell_type": "code",
   "execution_count": 369,
   "outputs": [
    {
     "data": {
      "text/plain": "(0.9842917776471007, 0.997724187749431)"
     },
     "execution_count": 369,
     "metadata": {},
     "output_type": "execute_result"
    }
   ],
   "source": [
    "R2_model = SSR_model/SST_model\n",
    "R2_model, R2"
   ],
   "metadata": {
    "collapsed": false
   }
  },
  {
   "cell_type": "code",
   "execution_count": 370,
   "outputs": [
    {
     "data": {
      "text/plain": "Text(0.5, 1.0, 'Valor Actual vs Prediccion')"
     },
     "execution_count": 370,
     "metadata": {},
     "output_type": "execute_result"
    },
    {
     "data": {
      "text/plain": "<Figure size 640x480 with 1 Axes>",
      "image/png": "[encoded data removed]"
     },
     "metadata": {},
     "output_type": "display_data"
    }
   ],
   "source": [
    "%matplotlib inline\n",
    "plt.plot(data['x'], data['y_pred'])\n",
    "plt.plot(data['x'], data['y'], \"ro\")\n",
    "plt.plot(data['x'], y_mean_arr, 'g')\n",
    "plt.plot(data['x'], data['y_pred_2'])\n",
    "plt.title('Valor Actual vs Prediccion')"
   ],
   "metadata": {
    "collapsed": false
   }
  },
  {
   "cell_type": "markdown",
   "source": [
    "Ahora, vamos a ver un poco más en detalle la significatividad de los modelos. Para ello, vamos a tener que analizar el p_valor. Lo que tenemos que asegurar, que existe correlación entre X e Y ya que sino la hay, beta = 0. Por lo tanto, deberemos asegurar que tanto t-estadistico, como p_valor tienen que ser menor que el nivel de significación para rechazar la hipotesis nula y aceptar la alternativa."
   ],
   "metadata": {
    "collapsed": false
   }
  },
  {
   "cell_type": "markdown",
   "source": [
    "Otro estadístico importante es el \"estadístico F\" que se deine como:\n",
    "\n",
    "$F= \\frac{\\frac{SSR}{k}}{\\frac{SSD}{n-k-1}}$ donde $k$ es el numero de variables predictoras del modelo\n",
    "\n",
    "Y, por tanto, debemos asegurar que este valor F:\n",
    "\n",
    "$ p_valor < P(F> F_{k, n-k-1})$"
   ],
   "metadata": {
    "collapsed": false
   }
  },
  {
   "cell_type": "markdown",
   "source": [
    "Y, finalmente, otro valor interesante es el valor estandard de los residuos"
   ],
   "metadata": {
    "collapsed": false
   }
  },
  {
   "cell_type": "markdown",
   "source": [
    "$RSE = \\sqrt{\\frac{SSD}{n-2}}$\n",
    "\n",
    "En el caslo de una regresion múltiple:\n",
    "\n",
    "$RSE = \\sqrt{\\frac{SSD}{n-k-1}}$"
   ],
   "metadata": {
    "collapsed": false
   }
  },
  {
   "cell_type": "markdown",
   "source": [
    "Ahora, tendo a nuestro ejemplo, podemos calcular el error estandar de los residuos de la siguiente forma:"
   ],
   "metadata": {
    "collapsed": false
   }
  },
  {
   "cell_type": "code",
   "execution_count": 371,
   "outputs": [],
   "source": [
    "RSE = np.sqrt(SSD/(len(data) -2))"
   ],
   "metadata": {
    "collapsed": false
   }
  },
  {
   "cell_type": "code",
   "execution_count": 372,
   "outputs": [
    {
     "data": {
      "text/plain": "0.814692920825158"
     },
     "execution_count": 372,
     "metadata": {},
     "output_type": "execute_result"
    }
   ],
   "source": [
    "RSE"
   ],
   "metadata": {
    "collapsed": false
   }
  },
  {
   "cell_type": "markdown",
   "source": [
    "Esto es, existe un error de 0.80 sobre el valor medio de Y o lo que es lo mismo:"
   ],
   "metadata": {
    "collapsed": false
   }
  },
  {
   "cell_type": "code",
   "execution_count": 373,
   "outputs": [
    {
     "data": {
      "text/plain": "0.053470678490669686"
     },
     "execution_count": 373,
     "metadata": {},
     "output_type": "execute_result"
    }
   ],
   "source": [
    "RSE/np.mean(data['y'])"
   ],
   "metadata": {
    "collapsed": false
   }
  },
  {
   "cell_type": "markdown",
   "source": [
    "El error es del 5% aproximadamente"
   ],
   "metadata": {
    "collapsed": false
   }
  },
  {
   "cell_type": "markdown",
   "source": [
    "## Implementación de un modelo usando las librarias en Python"
   ],
   "metadata": {
    "collapsed": false
   }
  },
  {
   "cell_type": "markdown",
   "source": [
    "### Usando el modelo de statsmodel para la regresion lineal"
   ],
   "metadata": {
    "collapsed": false
   }
  },
  {
   "cell_type": "code",
   "execution_count": 374,
   "outputs": [],
   "source": [
    "data_pub = pd.read_csv('../data/ads/advertising.csv')"
   ],
   "metadata": {
    "collapsed": false
   }
  },
  {
   "cell_type": "code",
   "execution_count": 375,
   "outputs": [
    {
     "data": {
      "text/plain": "      TV  Radio  Newspaper  Sales\n0  230.1   37.8       69.2   22.1\n1   44.5   39.3       45.1   10.4\n2   17.2   45.9       69.3    9.3\n3  151.5   41.3       58.5   18.5\n4  180.8   10.8       58.4   12.9",
      "text/html": "<div>\n<style scoped>\n    .dataframe tbody tr th:only-of-type {\n        vertical-align: middle;\n    }\n\n    .dataframe tbody tr th {\n        vertical-align: top;\n    }\n\n    .dataframe thead th {\n        text-align: right;\n    }\n</style>\n<table border=\"1\" class=\"dataframe\">\n  <thead>\n    <tr style=\"text-align: right;\">\n      <th></th>\n      <th>TV</th>\n      <th>Radio</th>\n      <th>Newspaper</th>\n      <th>Sales</th>\n    </tr>\n  </thead>\n  <tbody>\n    <tr>\n      <th>0</th>\n      <td>230.1</td>\n      <td>37.8</td>\n      <td>69.2</td>\n      <td>22.1</td>\n    </tr>\n    <tr>\n      <th>1</th>\n      <td>44.5</td>\n      <td>39.3</td>\n      <td>45.1</td>\n      <td>10.4</td>\n    </tr>\n    <tr>\n      <th>2</th>\n      <td>17.2</td>\n      <td>45.9</td>\n      <td>69.3</td>\n      <td>9.3</td>\n    </tr>\n    <tr>\n      <th>3</th>\n      <td>151.5</td>\n      <td>41.3</td>\n      <td>58.5</td>\n      <td>18.5</td>\n    </tr>\n    <tr>\n      <th>4</th>\n      <td>180.8</td>\n      <td>10.8</td>\n      <td>58.4</td>\n      <td>12.9</td>\n    </tr>\n  </tbody>\n</table>\n</div>"
     },
     "execution_count": 375,
     "metadata": {},
     "output_type": "execute_result"
    }
   ],
   "source": [
    "data_pub.head()"
   ],
   "metadata": {
    "collapsed": false
   }
  },
  {
   "cell_type": "code",
   "execution_count": 381,
   "outputs": [
    {
     "data": {
      "text/plain": "                 TV     Radio  Newspaper     Sales\nTV         1.000000  0.054809   0.056648  0.782224\nRadio      0.054809  1.000000   0.354104  0.576223\nNewspaper  0.056648  0.354104   1.000000  0.228299\nSales      0.782224  0.576223   0.228299  1.000000",
      "text/html": "<div>\n<style scoped>\n    .dataframe tbody tr th:only-of-type {\n        vertical-align: middle;\n    }\n\n    .dataframe tbody tr th {\n        vertical-align: top;\n    }\n\n    .dataframe thead th {\n        text-align: right;\n    }\n</style>\n<table border=\"1\" class=\"dataframe\">\n  <thead>\n    <tr style=\"text-align: right;\">\n      <th></th>\n      <th>TV</th>\n      <th>Radio</th>\n      <th>Newspaper</th>\n      <th>Sales</th>\n    </tr>\n  </thead>\n  <tbody>\n    <tr>\n      <th>TV</th>\n      <td>1.000000</td>\n      <td>0.054809</td>\n      <td>0.056648</td>\n      <td>0.782224</td>\n    </tr>\n    <tr>\n      <th>Radio</th>\n      <td>0.054809</td>\n      <td>1.000000</td>\n      <td>0.354104</td>\n      <td>0.576223</td>\n    </tr>\n    <tr>\n      <th>Newspaper</th>\n      <td>0.056648</td>\n      <td>0.354104</td>\n      <td>1.000000</td>\n      <td>0.228299</td>\n    </tr>\n    <tr>\n      <th>Sales</th>\n      <td>0.782224</td>\n      <td>0.576223</td>\n      <td>0.228299</td>\n      <td>1.000000</td>\n    </tr>\n  </tbody>\n</table>\n</div>"
     },
     "execution_count": 381,
     "metadata": {},
     "output_type": "execute_result"
    }
   ],
   "source": [
    "data_pub.corr()"
   ],
   "metadata": {
    "collapsed": false
   }
  },
  {
   "cell_type": "code",
   "execution_count": 376,
   "outputs": [],
   "source": [
    "import statsmodels.formula.api as smf\n"
   ],
   "metadata": {
    "collapsed": false
   }
  },
  {
   "cell_type": "code",
   "execution_count": 378,
   "outputs": [],
   "source": [
    "lm = smf.ols(formula=\"Sales~TV\", data= data_pub).fit()"
   ],
   "metadata": {
    "collapsed": false
   }
  },
  {
   "cell_type": "code",
   "execution_count": 380,
   "outputs": [
    {
     "data": {
      "text/plain": "Intercept    7.032594\nTV           0.047537\ndtype: float64"
     },
     "execution_count": 380,
     "metadata": {},
     "output_type": "execute_result"
    }
   ],
   "source": [
    "lm.params"
   ],
   "metadata": {
    "collapsed": false
   }
  },
  {
   "cell_type": "markdown",
   "source": [
    "Con estos datos, el modelo sería:\n",
    "\n",
    "$y = 7.03 + 0.04* TV$"
   ],
   "metadata": {
    "collapsed": false
   }
  },
  {
   "cell_type": "markdown",
   "source": [
    "En base a esto, lo que vamos a hacer es dibujar el modelo:"
   ],
   "metadata": {
    "collapsed": false
   }
  },
  {
   "cell_type": "code",
   "execution_count": 386,
   "outputs": [
    {
     "data": {
      "text/plain": "        TV  Radio  Newspaper  Sales     y_pred\n0    230.1   37.8       69.2   22.1  17.970775\n1     44.5   39.3       45.1   10.4   9.147974\n2     17.2   45.9       69.3    9.3   7.850224\n3    151.5   41.3       58.5   18.5  14.234395\n4    180.8   10.8       58.4   12.9  15.627218\n..     ...    ...        ...    ...        ...\n195   38.2    3.7       13.8    7.6   8.848493\n196   94.2    4.9        8.1    9.7  11.510545\n197  177.0    9.3        6.4   12.8  15.446579\n198  283.6   42.0       66.2   25.5  20.513985\n199  232.1    8.6        8.7   13.4  18.065848\n\n[200 rows x 5 columns]",
      "text/html": "<div>\n<style scoped>\n    .dataframe tbody tr th:only-of-type {\n        vertical-align: middle;\n    }\n\n    .dataframe tbody tr th {\n        vertical-align: top;\n    }\n\n    .dataframe thead th {\n        text-align: right;\n    }\n</style>\n<table border=\"1\" class=\"dataframe\">\n  <thead>\n    <tr style=\"text-align: right;\">\n      <th></th>\n      <th>TV</th>\n      <th>Radio</th>\n      <th>Newspaper</th>\n      <th>Sales</th>\n      <th>y_pred</th>\n    </tr>\n  </thead>\n  <tbody>\n    <tr>\n      <th>0</th>\n      <td>230.1</td>\n      <td>37.8</td>\n      <td>69.2</td>\n      <td>22.1</td>\n      <td>17.970775</td>\n    </tr>\n    <tr>\n      <th>1</th>\n      <td>44.5</td>\n      <td>39.3</td>\n      <td>45.1</td>\n      <td>10.4</td>\n      <td>9.147974</td>\n    </tr>\n    <tr>\n      <th>2</th>\n      <td>17.2</td>\n      <td>45.9</td>\n      <td>69.3</td>\n      <td>9.3</td>\n      <td>7.850224</td>\n    </tr>\n    <tr>\n      <th>3</th>\n      <td>151.5</td>\n      <td>41.3</td>\n      <td>58.5</td>\n      <td>18.5</td>\n      <td>14.234395</td>\n    </tr>\n    <tr>\n      <th>4</th>\n      <td>180.8</td>\n      <td>10.8</td>\n      <td>58.4</td>\n      <td>12.9</td>\n      <td>15.627218</td>\n    </tr>\n    <tr>\n      <th>...</th>\n      <td>...</td>\n      <td>...</td>\n      <td>...</td>\n      <td>...</td>\n      <td>...</td>\n    </tr>\n    <tr>\n      <th>195</th>\n      <td>38.2</td>\n      <td>3.7</td>\n      <td>13.8</td>\n      <td>7.6</td>\n      <td>8.848493</td>\n    </tr>\n    <tr>\n      <th>196</th>\n      <td>94.2</td>\n      <td>4.9</td>\n      <td>8.1</td>\n      <td>9.7</td>\n      <td>11.510545</td>\n    </tr>\n    <tr>\n      <th>197</th>\n      <td>177.0</td>\n      <td>9.3</td>\n      <td>6.4</td>\n      <td>12.8</td>\n      <td>15.446579</td>\n    </tr>\n    <tr>\n      <th>198</th>\n      <td>283.6</td>\n      <td>42.0</td>\n      <td>66.2</td>\n      <td>25.5</td>\n      <td>20.513985</td>\n    </tr>\n    <tr>\n      <th>199</th>\n      <td>232.1</td>\n      <td>8.6</td>\n      <td>8.7</td>\n      <td>13.4</td>\n      <td>18.065848</td>\n    </tr>\n  </tbody>\n</table>\n<p>200 rows × 5 columns</p>\n</div>"
     },
     "execution_count": 386,
     "metadata": {},
     "output_type": "execute_result"
    }
   ],
   "source": [
    "data_pub['y_pred'] = lm.params['Intercept'] + lm.params['TV'] * data_pub['TV']\n",
    "data_pub"
   ],
   "metadata": {
    "collapsed": false
   }
  },
  {
   "cell_type": "code",
   "execution_count": 387,
   "outputs": [
    {
     "data": {
      "text/plain": "Text(0.5, 1.0, 'Valor Actual vs Prediccion')"
     },
     "execution_count": 387,
     "metadata": {},
     "output_type": "execute_result"
    },
    {
     "data": {
      "text/plain": "<Figure size 640x480 with 1 Axes>",
      "image/png": "[encoded data removed]"
     },
     "metadata": {},
     "output_type": "display_data"
    }
   ],
   "source": [
    "%matplotlib inline\n",
    "plt.plot(data_pub['TV'], data_pub['y_pred'])\n",
    "plt.plot(data_pub['TV'], data_pub['Sales'], \"ro\")\n",
    "plt.title('Valor Actual vs Prediccion')"
   ],
   "metadata": {
    "collapsed": false
   }
  },
  {
   "cell_type": "markdown",
   "source": [
    "En base a esto, lo que vamos a ver los p_valores:"
   ],
   "metadata": {
    "collapsed": false
   }
  },
  {
   "cell_type": "code",
   "execution_count": 388,
   "outputs": [
    {
     "data": {
      "text/plain": "Intercept    1.406300e-35\nTV           1.467390e-42\ndtype: float64"
     },
     "execution_count": 388,
     "metadata": {},
     "output_type": "execute_result"
    }
   ],
   "source": [
    "lm.pvalues"
   ],
   "metadata": {
    "collapsed": false
   }
  },
  {
   "cell_type": "markdown",
   "source": [
    "Al ser valores pequeños, podemos rechazar la hipotesis nula y garantizar el modelo.\n"
   ],
   "metadata": {
    "collapsed": false
   }
  },
  {
   "cell_type": "code",
   "execution_count": 389,
   "outputs": [
    {
     "data": {
      "text/plain": "0.6118750508500712"
     },
     "execution_count": 389,
     "metadata": {},
     "output_type": "execute_result"
    }
   ],
   "source": [
    "lm.rsquared"
   ],
   "metadata": {
    "collapsed": false
   }
  },
  {
   "cell_type": "code",
   "execution_count": 390,
   "outputs": [
    {
     "data": {
      "text/plain": "0.6099148238341625"
     },
     "execution_count": 390,
     "metadata": {},
     "output_type": "execute_result"
    }
   ],
   "source": [
    "lm.rsquared_adj"
   ],
   "metadata": {
    "collapsed": false
   }
  },
  {
   "cell_type": "code",
   "execution_count": 392,
   "outputs": [
    {
     "data": {
      "text/plain": "<class 'statsmodels.iolib.summary.Summary'>\n\"\"\"\n                            OLS Regression Results                            \n==============================================================================\nDep. Variable:                  Sales   R-squared:                       0.612\nModel:                            OLS   Adj. R-squared:                  0.610\nMethod:                 Least Squares   F-statistic:                     312.1\nDate:                Wed, 22 Mar 2023   Prob (F-statistic):           1.47e-42\nTime:                        21:39:00   Log-Likelihood:                -519.05\nNo. Observations:                 200   AIC:                             1042.\nDf Residuals:                     198   BIC:                             1049.\nDf Model:                           1                                         \nCovariance Type:            nonrobust                                         \n==============================================================================\n                 coef    std err          t      P>|t|      [0.025      0.975]\n------------------------------------------------------------------------------\nIntercept      7.0326      0.458     15.360      0.000       6.130       7.935\nTV             0.0475      0.003     17.668      0.000       0.042       0.053\n==============================================================================\nOmnibus:                        0.531   Durbin-Watson:                   1.935\nProb(Omnibus):                  0.767   Jarque-Bera (JB):                0.669\nSkew:                          -0.089   Prob(JB):                        0.716\nKurtosis:                       2.779   Cond. No.                         338.\n==============================================================================\n\nNotes:\n[1] Standard Errors assume that the covariance matrix of the errors is correctly specified.\n\"\"\"",
      "text/html": "<table class=\"simpletable\">\n<caption>OLS Regression Results</caption>\n<tr>\n  <th>Dep. Variable:</th>          <td>Sales</td>      <th>  R-squared:         </th> <td>   0.612</td>\n</tr>\n<tr>\n  <th>Model:</th>                   <td>OLS</td>       <th>  Adj. R-squared:    </th> <td>   0.610</td>\n</tr>\n<tr>\n  <th>Method:</th>             <td>Least Squares</td>  <th>  F-statistic:       </th> <td>   312.1</td>\n</tr>\n<tr>\n  <th>Date:</th>             <td>Wed, 22 Mar 2023</td> <th>  Prob (F-statistic):</th> <td>1.47e-42</td>\n</tr>\n<tr>\n  <th>Time:</th>                 <td>21:39:00</td>     <th>  Log-Likelihood:    </th> <td> -519.05</td>\n</tr>\n<tr>\n  <th>No. Observations:</th>      <td>   200</td>      <th>  AIC:               </th> <td>   1042.</td>\n</tr>\n<tr>\n  <th>Df Residuals:</th>          <td>   198</td>      <th>  BIC:               </th> <td>   1049.</td>\n</tr>\n<tr>\n  <th>Df Model:</th>              <td>     1</td>      <th>                     </th>     <td> </td>   \n</tr>\n<tr>\n  <th>Covariance Type:</th>      <td>nonrobust</td>    <th>                     </th>     <td> </td>   \n</tr>\n</table>\n<table class=\"simpletable\">\n<tr>\n      <td></td>         <th>coef</th>     <th>std err</th>      <th>t</th>      <th>P>|t|</th>  <th>[0.025</th>    <th>0.975]</th>  \n</tr>\n<tr>\n  <th>Intercept</th> <td>    7.0326</td> <td>    0.458</td> <td>   15.360</td> <td> 0.000</td> <td>    6.130</td> <td>    7.935</td>\n</tr>\n<tr>\n  <th>TV</th>        <td>    0.0475</td> <td>    0.003</td> <td>   17.668</td> <td> 0.000</td> <td>    0.042</td> <td>    0.053</td>\n</tr>\n</table>\n<table class=\"simpletable\">\n<tr>\n  <th>Omnibus:</th>       <td> 0.531</td> <th>  Durbin-Watson:     </th> <td>   1.935</td>\n</tr>\n<tr>\n  <th>Prob(Omnibus):</th> <td> 0.767</td> <th>  Jarque-Bera (JB):  </th> <td>   0.669</td>\n</tr>\n<tr>\n  <th>Skew:</th>          <td>-0.089</td> <th>  Prob(JB):          </th> <td>   0.716</td>\n</tr>\n<tr>\n  <th>Kurtosis:</th>      <td> 2.779</td> <th>  Cond. No.          </th> <td>    338.</td>\n</tr>\n</table><br/><br/>Notes:<br/>[1] Standard Errors assume that the covariance matrix of the errors is correctly specified."
     },
     "execution_count": 392,
     "metadata": {},
     "output_type": "execute_result"
    }
   ],
   "source": [
    "lm.summary()"
   ],
   "metadata": {
    "collapsed": false
   }
  },
  {
   "cell_type": "code",
   "execution_count": 394,
   "outputs": [],
   "source": [
    "sales_pred = lm.predict(pd.DataFrame(data_pub['TV']))"
   ],
   "metadata": {
    "collapsed": false
   }
  },
  {
   "cell_type": "code",
   "execution_count": 395,
   "outputs": [
    {
     "data": {
      "text/plain": "0      17.970775\n1       9.147974\n2       7.850224\n3      14.234395\n4      15.627218\n         ...    \n195     8.848493\n196    11.510545\n197    15.446579\n198    20.513985\n199    18.065848\nLength: 200, dtype: float64"
     },
     "execution_count": 395,
     "metadata": {},
     "output_type": "execute_result"
    }
   ],
   "source": [
    "sales_pred"
   ],
   "metadata": {
    "collapsed": false
   }
  },
  {
   "cell_type": "markdown",
   "source": [
    "Si lo dibujamos, nos queda:"
   ],
   "metadata": {
    "collapsed": false
   }
  },
  {
   "cell_type": "code",
   "execution_count": 397,
   "outputs": [
    {
     "data": {
      "text/plain": "Text(0.5, 1.0, 'Valor Actual vs Prediccion')"
     },
     "execution_count": 397,
     "metadata": {},
     "output_type": "execute_result"
    },
    {
     "data": {
      "text/plain": "<Figure size 640x480 with 1 Axes>",
      "image/png": "[encoded data removed]"
     },
     "metadata": {},
     "output_type": "display_data"
    }
   ],
   "source": [
    "%matplotlib inline\n",
    "data_pub.plot(kind= 'scatter', x='TV', y='Sales')\n",
    "plt.plot(pd.DataFrame(data_pub['TV']), sales_pred, c='red', linewidth= 2)\n",
    "plt.title('Valor Actual vs Prediccion')"
   ],
   "metadata": {
    "collapsed": false
   }
  },
  {
   "cell_type": "code",
   "execution_count": 405,
   "outputs": [
    {
     "data": {
      "text/plain": "2.1957207680826585"
     },
     "execution_count": 405,
     "metadata": {},
     "output_type": "execute_result"
    }
   ],
   "source": [
    "data ['RSE'] = (data_pub['Sales'] - data_pub ['y_pred']) **2\n",
    "SSD = sum (data['RSE'])\n",
    "RSE = np.sqrt(SSD/(len(data_pub)-2))\n",
    "\n",
    "RSE"
   ],
   "metadata": {
    "collapsed": false
   }
  },
  {
   "cell_type": "code",
   "execution_count": 406,
   "outputs": [
    {
     "data": {
      "text/plain": "14.0225"
     },
     "execution_count": 406,
     "metadata": {},
     "output_type": "execute_result"
    }
   ],
   "source": [
    "sales_m = np.mean(data_pub['Sales'])\n",
    "sales_m"
   ],
   "metadata": {
    "collapsed": false
   }
  },
  {
   "cell_type": "code",
   "execution_count": 407,
   "outputs": [],
   "source": [
    "error_prom = RSE/sales_m"
   ],
   "metadata": {
    "collapsed": false
   }
  },
  {
   "cell_type": "code",
   "execution_count": 408,
   "outputs": [
    {
     "data": {
      "text/plain": "0.15658554238421524"
     },
     "execution_count": 408,
     "metadata": {},
     "output_type": "execute_result"
    }
   ],
   "source": [
    "error_prom"
   ],
   "metadata": {
    "collapsed": false
   }
  },
  {
   "cell_type": "code",
   "execution_count": 411,
   "outputs": [
    {
     "data": {
      "text/plain": "(array([ 4., 10., 13., 17., 40., 42., 33., 16., 17.,  8.]),\n array([-8.38598196, -6.82614689, -5.26631183, -3.70647677, -2.14664171,\n        -0.58680664,  0.97302842,  2.53286348,  4.09269854,  5.65253361,\n         7.21236867]),\n <BarContainer object of 10 artists>)"
     },
     "execution_count": 411,
     "metadata": {},
     "output_type": "execute_result"
    },
    {
     "data": {
      "text/plain": "<Figure size 640x480 with 1 Axes>",
      "image/png": "[encoded data removed]"
     },
     "metadata": {},
     "output_type": "display_data"
    }
   ],
   "source": [
    "plt.hist((data_pub['Sales'] - data_pub ['y_pred']))"
   ],
   "metadata": {
    "collapsed": false
   }
  },
  {
   "cell_type": "code",
   "execution_count": null,
   "outputs": [],
   "source": [],
   "metadata": {
    "collapsed": false
   }
  }
 ],
 "metadata": {
  "kernelspec": {
   "display_name": "Python 3",
   "language": "python",
   "name": "python3"
  },
  "language_info": {
   "codemirror_mode": {
    "name": "ipython",
    "version": 2
   },
   "file_extension": ".py",
   "mimetype": "text/x-python",
   "name": "python",
   "nbconvert_exporter": "python",
   "pygments_lexer": "ipython2",
   "version": "2.7.6"
  }
 },
 "nbformat": 4,
 "nbformat_minor": 0
}
