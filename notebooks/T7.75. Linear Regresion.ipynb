{
 "cells": [
  {
   "cell_type": "markdown",
   "source": [
    " # Linear Regression"
   ],
   "metadata": {
    "collapsed": false
   }
  },
  {
   "cell_type": "markdown",
   "source": [
    "## Las matemáticas detrás de una regresión lineal\n",
    "\n",
    "Con lo que vamos a trabajar es con el precio de pisos según la superficie. En este sentido, tenemos la siguiente tabla de valores a predecir:\n",
    "\n",
    "| Superficie (m2) | Alquiler Mensual (€) |\n",
    "|-----------------|----------------------|\n",
    "| 150             | 450                  |\n",
    "| 120             | 380                  |\n",
    "| 170             | 480                  |\n",
    "| 80              | 270                  |\n",
    "\n",
    "Considerando esta tabla, la intención es en base a una variable observada (x -> Superficie), predecir una variable objetivo (y -> alquiler mensual).\n",
    "\n",
    "Para el caso de la regresión, asumimos que el coste es una función lineal sobre el coste. Entonces, el modelo, desde un punto de vista matemático, se construye en base a la siguiente ecuación:\n",
    "\n",
    "$$\n",
    " y_e = \\alpha + \\beta * x\n",
    "$$\n",
    "\n",
    "Es por ello, por lo que hay que buscar unos valores para $\\alpha$ y para $\\beta$. En un mundo ideal, estos valores de los parámetros, podrían permitir estimar unos valores exactos de y en consideración de los valores observados x.\n",
    "\n",
    "En base a unos métodos que luego veremos e implementaremos, tenemos los siguientes valores estimados para $alpha$ y $beta$:\n",
    "\n",
    "$$\n",
    " \\alpha = 86.96\n",
    " \\beta = 2.37\n",
    "$$\n",
    "\n",
    "De este modo, el modelo queda de la siguiente forma:\n",
    "\n",
    "$$\n",
    " Y_e = 86.96 + 2.37x\n",
    "$$\n",
    "\n",
    "Si usamos esta ecuación y queremos calcular un piso de 110m2, el valor estimado sería:\n",
    "\n",
    "$$\n",
    "Y_e = 86.96 + 2.37 * 110 = 347.66\n",
    "\n",
    "$$\n",
    "\n"
   ],
   "metadata": {
    "collapsed": false
   }
  },
  {
   "cell_type": "markdown",
   "source": [
    "Teniendo en cuenta el modelo anterior, la estimación de los valores de $\\alpha$ y $\\beta$ se realiza en base a la minimización de los errores entre el valor de $y$ real y el valor de $y$ estimada. Es decir:\n",
    "$$\n",
    "e_i = (y_i - Y_e(x_i))\n",
    "$$\n",
    "\n",
    "Como el objetivo es minimizar el error, las ecuaciones nos quedan:\n",
    "\n",
    "$$\n",
    " min \\sum_{i=1}^{n} e_i^2 = \\sum_{i=1}^{n} (y_i - Y_e(x_i))^2 = \\sum_{i=1}^{n} (y_i - (\\alpha + \\beta x_i))^2\n",
    "$$\n"
   ],
   "metadata": {
    "collapsed": false
   }
  },
  {
   "cell_type": "markdown",
   "source": [
    "Considerando el cálculo diferencial, las variables de $\\alpha$ y de $\\beta$ quedarían de la siguiente forma:\n",
    "\n",
    "$$\n",
    " \\beta = \\dfrac {(\\sum_{i=1}^{n} (x_i - \\bar x) (y_i - \\bar y)}{\\sum_{i=1}^{n} (x_i - \\bar x)^2} = \\dfrac {Cov(x,y)}{var(y)}\n",
    "$$\n",
    "\n",
    "$$\n",
    " \\alpha = \\bar y - \\beta \\bar x\n",
    "$$"
   ],
   "metadata": {
    "collapsed": false
   }
  },
  {
   "cell_type": "markdown",
   "source": [
    "### Demostración teórica de los resultados anteriores"
   ],
   "metadata": {
    "collapsed": false
   }
  }
 ],
 "metadata": {
  "kernelspec": {
   "display_name": "Python 3",
   "language": "python",
   "name": "python3"
  },
  "language_info": {
   "codemirror_mode": {
    "name": "ipython",
    "version": 2
   },
   "file_extension": ".py",
   "mimetype": "text/x-python",
   "name": "python",
   "nbconvert_exporter": "python",
   "pygments_lexer": "ipython2",
   "version": "2.7.6"
  }
 },
 "nbformat": 4,
 "nbformat_minor": 0
}
