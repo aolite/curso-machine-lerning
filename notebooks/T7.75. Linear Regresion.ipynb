{
 "cells": [
  {
   "cell_type": "markdown",
   "source": [
    " # Linear Regression"
   ],
   "metadata": {
    "collapsed": false
   }
  },
  {
   "cell_type": "markdown",
   "source": [
    "## Las matemáticas detrás de una regresión lineal\n",
    "\n",
    "Con lo que vamos a trabajar es con el precio de pisos según la superficie. En este sentido, tenemos la siguiente tabla de valores a predecir:\n",
    "\n",
    "| Superficie (m2) | Alquiler Mensual (€) |\n",
    "|-----------------|----------------------|\n",
    "| 150             | 450                  |\n",
    "| 120             | 380                  |\n",
    "| 170             | 480                  |\n",
    "| 80              | 270                  |\n",
    "\n",
    "Considerando esta tabla, la intención es en base a una variable observada (x -> Superficie), predecir una variable objetivo (y -> alquiler mensual).\n",
    "\n",
    "Para el caso de la regresión, asumimos que el coste es una función lineal sobre el coste. Entonces, el modelo, desde un punto de vista matemático, se construye en base a la siguiente ecuación:\n",
    "\n",
    "$$\n",
    " y_e = \\alpha + \\beta * x\n",
    "$$\n",
    "\n",
    "Es por ello, por lo que hay que buscar unos valores para $\\alpha$ y para $\\beta$. En un mundo ideal, estos valores de los parámetros, podrían permitir estimar unos valores exactos de y en consideración de los valores observados x.\n",
    "\n",
    "En base a unos métodos que luego veremos e implementaremos, tenemos los siguientes valores estimados para $alpha$ y $beta$:\n",
    "\n",
    "$$\n",
    " \\alpha = 86.96\n",
    " \\beta = 2.37\n",
    "$$\n",
    "\n",
    "De este modo, el modelo queda de la siguiente forma:\n",
    "\n",
    "$$\n",
    " Y_e = 86.96 + 2.37x\n",
    "$$\n",
    "\n",
    "Si usamos esta ecuación y queremos calcular un piso de 110m2, el valor estimado sería:\n",
    "\n",
    "$$\n",
    "Y_e = 86.96 + 2.37 * 110 = 347.66\n",
    "\n",
    "$$\n",
    "\n"
   ],
   "metadata": {
    "collapsed": false
   }
  },
  {
   "cell_type": "markdown",
   "source": [
    "Teniendo en cuenta el modelo anterior, la estimación de los valores de $\\alpha$ y $\\beta$ se realiza en base a la minimización de los errores entre el valor de $y$ real y el valor de $y$ estimada. Es decir:\n",
    "$$\n",
    "e_i = (y_i - Y_e(x_i))\n",
    "$$\n",
    "\n",
    "Como el objetivo es minimizar el error, las ecuaciones nos quedan:\n",
    "\n",
    "$$\n",
    " min \\sum_{i=1}^{n} e_i^2 = \\sum_{i=1}^{n} (y_i - Y_e(x_i))^2 = \\sum_{i=1}^{n} (y_i - (\\alpha + \\beta x_i))^2\n",
    "$$\n"
   ],
   "metadata": {
    "collapsed": false
   }
  },
  {
   "cell_type": "markdown",
   "source": [
    "Considerando el cálculo diferencial, las variables de $\\alpha$ y de $\\beta$ quedarían de la siguiente forma:\n",
    "\n",
    "$$\n",
    " \\beta = \\dfrac {(\\sum_{i=1}^{n} (x_i - \\bar x) (y_i - \\bar y)}{\\sum_{i=1}^{n} (x_i - \\bar x)^2} = \\dfrac {Cov(x,y)}{var(y)}\n",
    "$$\n",
    "\n",
    "$$\n",
    " \\alpha = \\bar y - \\beta \\bar x\n",
    "$$"
   ],
   "metadata": {
    "collapsed": false
   }
  },
  {
   "cell_type": "markdown",
   "source": [
    "### Demostración teórica de los resultados anteriores\n",
    "\n",
    "Para comenzar, empezaremos con la ecuación de minimización con la que queremos comenzar para demostrar el modelo:\n",
    "\n",
    "$$\n",
    " min \\sum_{i=1}^{n} e_i^2 = \\sum_{i=1}^{n} (y_i - Y_e(x_i))^2 = \\sum_{i=1}^{n} (y_i - (\\alpha + \\beta x_i))^2\n",
    "$$\n",
    "\n",
    "Es por ello, que si llamamos a esta función anterior $S (\\alpha, \\beta)$. Si existe un mínimo, las derivadas de la función, son 0. Si hacemos la derivada respecto a $\\alpha$ y $\\beta$ igualando a cero queda:\n",
    "\n",
    "$$\n",
    "  \\frac{\\partial S (\\alpha, \\beta)}{ \\partial \\alpha} = 0 \\rightarrow -2 \\sum_{i=1}^{n} (y_i - (\\alpha + \\beta x_i))= 0\n",
    "$$\n",
    "\n",
    "$$\n",
    "\\frac{\\partial S (\\alpha, \\beta)}{ \\partial \\beta} = 0 \\rightarrow -2  \\sum_{i=1}^{n} x_i(y_i - (\\alpha + \\beta x_i))= 0\n",
    "$$\n",
    "\n",
    "Ahora, lo que hay que resolver un sistema de dos ecuaciones con dos incognitas:\n",
    "\n",
    "$$\n",
    "\\begin{cases}\n",
    "-2 \\sum_{i=1}^{n} (y_i - (\\alpha + \\beta x_i))= 0 \\\\\n",
    "-2  \\sum_{i=1}^{n} x_i(y_i - (\\alpha + \\beta x_i))= 0\n",
    "\\end{cases}\n",
    "\\rightarrow\n",
    "\\begin{cases}\n",
    "\\sum_{i=1}^{n} (y_i - \\alpha - \\beta x_i)= 0 \\\\\n",
    "\\sum_{i=1}^{n} (x_iy_i - x_i\\alpha - \\beta x_i^2)= 0\n",
    "\\end{cases}\n",
    "\\rightarrow\n",
    "\\begin{cases}\n",
    "\\sum_{i=1}^{n} (y_i - \\alpha - \\beta x_i)= 0 \\\\\n",
    "\\sum_{i=1}^{n} x_iy_i - \\alpha\\sum_{i=1}^{n}x_i - \\beta \\sum_{i=1}^{n}x_i^2= 0\n",
    "\\end{cases}\n",
    "\\rightarrow\n",
    "$$\n",
    "\n",
    "$$\n",
    "\\begin{cases}\n",
    "\\sum_{i=1}^{n} (y_i - \\alpha - \\beta x_i)= 0 \\\\\n",
    "\\beta \\sum_{i=1}^{n}x_i^2 + \\alpha\\sum_{i=1}^{n}x_i = \\sum_{i=1}^{n} x_iy_i\n",
    "\\end{cases}\n",
    "\\rightarrow\n",
    "\\begin{cases}\n",
    "\\sum_{i=1}^{n} y_i - n * \\alpha - \\beta \\sum_{i=1}^{n}x_i= 0 \\\\\n",
    "\\beta \\sum_{i=1}^{n}x_i^2 + \\alpha\\sum_{i=1}^{n}x_i = \\sum_{i=1}^{n} x_iy_i\n",
    "\\end{cases}\n",
    "\\rightarrow\n",
    "\\begin{cases}\n",
    "\\sum_{i=1}^{n} y_i = n * \\alpha + \\beta \\sum_{i=1}^{n}x_i  \\\\\n",
    "\\beta \\sum_{i=1}^{n}x_i^2 + \\alpha\\sum_{i=1}^{n}x_i = \\sum_{i=1}^{n} x_iy_i\n",
    "\\end{cases}\n",
    "$$\n",
    "\n",
    "$$\n",
    "\\begin{cases}\n",
    "\\frac{\\sum_{i=1}^{n} y_i}{n} = \\alpha + \\beta \\frac{\\sum_{i=1}^{n}x_i}{n}  \\\\\n",
    "\\beta \\sum_{i=1}^{n}x_i^2 + \\alpha\\sum_{i=1}^{n}x_i = \\sum_{i=1}^{n} x_iy_i\n",
    "\\end{cases}\n",
    "\\rightarrow\n",
    "\\begin{cases}\n",
    "\\bar y = \\alpha + \\beta \\bar x  \\\\\n",
    "\\beta \\sum_{i=1}^{n}x_i^2 + \\alpha\\sum_{i=1}^{n}x_i = \\sum_{i=1}^{n} x_iy_i\n",
    "\\end{cases}\n",
    "$$\n"
   ],
   "metadata": {
    "collapsed": false
   }
  },
  {
   "cell_type": "markdown",
   "source": [
    "Llegados a este punto, podemos determinar lo siguiente:\n",
    "\n",
    "$$\n",
    " \\alpha = \\bar y - \\beta \\bar x\n",
    "$$"
   ],
   "metadata": {
    "collapsed": false
   }
  },
  {
   "cell_type": "markdown",
   "source": [
    "Despejando sobre la segunda ecuación nos queda:\n",
    "\n",
    "$$\n",
    "\\sum_{i=1}^{n} x_iy_i - (\\bar y - \\beta \\bar x) x_i - \\beta x_i^2 = 0 \\rightarrow \\sum_{i=1}^{n} x_iy_i - \\bar y x_i + \\beta \\bar x x_i - \\beta x_i^2 = 0 \\rightarrow \\sum_{i=1}^{n} (x_iy_i - \\bar y x_i) - \\sum_{i=1}^{n} \\beta x_i^2 - \\beta \\bar x x_i = 0\n",
    "$$"
   ],
   "metadata": {
    "collapsed": false
   }
  },
  {
   "cell_type": "markdown",
   "source": [
    "Teniendo en cuenta esto, al final $\\beta$ queda como:\n",
    "\n",
    "$$\n",
    " \\beta = \\frac{\\sum_{i=1}^{n} (x_iy_i - \\bar y x_i)}{\\sum_{i=1}^{n} x_i^2 - \\bar x x_i}\n",
    "$$"
   ],
   "metadata": {
    "collapsed": false
   }
  },
  {
   "cell_type": "markdown",
   "source": [
    "## Modelos y ejemplos prácticos\n",
    "\n",
    "### Modelos con datos simulados"
   ],
   "metadata": {
    "collapsed": false
   }
  },
  {
   "cell_type": "markdown",
   "source": [
    "Lo que pretendemos buscar es lo siguiente $y = a + bx$. Para ello, lo que vamos a generar son los siguientes valores:\n",
    "- X: 100 valores distribuidos segun la $N(1.5, 2.5)$\n",
    "- Y: 11 + 0.26 X + $\\epsilon$\n",
    "- $\\epsilon$ estará distribuida segun una $N(0, 0.8)$"
   ],
   "metadata": {
    "collapsed": false
   }
  },
  {
   "cell_type": "code",
   "execution_count": 306,
   "outputs": [],
   "source": [
    "import pandas as pd\n",
    "import numpy as np\n",
    "import matplotlib.pyplot as plt"
   ],
   "metadata": {
    "collapsed": false
   }
  },
  {
   "cell_type": "code",
   "execution_count": 307,
   "outputs": [],
   "source": [
    "x= 1.5 + 2.5 * np.random.randn(100)"
   ],
   "metadata": {
    "collapsed": false
   }
  },
  {
   "cell_type": "code",
   "execution_count": 308,
   "outputs": [],
   "source": [
    "epsilon = 0 + 0.8 * np.random.randn(100)"
   ],
   "metadata": {
    "collapsed": false
   }
  },
  {
   "cell_type": "code",
   "execution_count": 309,
   "outputs": [],
   "source": [
    "Y_pred = 11 + 2.6 * x"
   ],
   "metadata": {
    "collapsed": false
   }
  },
  {
   "cell_type": "code",
   "execution_count": 310,
   "outputs": [],
   "source": [
    "Y_real = 11 + 2.6 * x + epsilon"
   ],
   "metadata": {
    "collapsed": false
   }
  },
  {
   "cell_type": "code",
   "execution_count": 311,
   "outputs": [],
   "source": [
    "x_list = x.tolist()\n",
    "y_pred = Y_pred.tolist()\n",
    "y_real = Y_real.tolist()\n",
    "\n",
    "data = pd.DataFrame({\n",
    "    'x': x_list,\n",
    "    'y': y_real,\n",
    "    'y_pred': y_pred\n",
    "})"
   ],
   "metadata": {
    "collapsed": false
   }
  },
  {
   "cell_type": "code",
   "execution_count": 312,
   "outputs": [
    {
     "data": {
      "text/plain": "          x          y     y_pred\n0  3.682023  20.258673  20.573261\n1  1.350583  12.971249  14.511517\n2 -0.423177   8.606830   9.899740\n3  1.778305  15.594711  15.623594\n4  2.672638  18.777873  17.948858\n5  1.986241  15.673420  16.164226\n6  2.381909  17.163818  17.192962\n7  0.865329  14.307482  13.249855\n8  1.945256  14.500599  16.057666\n9 -0.473511  10.186820   9.768871",
      "text/html": "<div>\n<style scoped>\n    .dataframe tbody tr th:only-of-type {\n        vertical-align: middle;\n    }\n\n    .dataframe tbody tr th {\n        vertical-align: top;\n    }\n\n    .dataframe thead th {\n        text-align: right;\n    }\n</style>\n<table border=\"1\" class=\"dataframe\">\n  <thead>\n    <tr style=\"text-align: right;\">\n      <th></th>\n      <th>x</th>\n      <th>y</th>\n      <th>y_pred</th>\n    </tr>\n  </thead>\n  <tbody>\n    <tr>\n      <th>0</th>\n      <td>3.682023</td>\n      <td>20.258673</td>\n      <td>20.573261</td>\n    </tr>\n    <tr>\n      <th>1</th>\n      <td>1.350583</td>\n      <td>12.971249</td>\n      <td>14.511517</td>\n    </tr>\n    <tr>\n      <th>2</th>\n      <td>-0.423177</td>\n      <td>8.606830</td>\n      <td>9.899740</td>\n    </tr>\n    <tr>\n      <th>3</th>\n      <td>1.778305</td>\n      <td>15.594711</td>\n      <td>15.623594</td>\n    </tr>\n    <tr>\n      <th>4</th>\n      <td>2.672638</td>\n      <td>18.777873</td>\n      <td>17.948858</td>\n    </tr>\n    <tr>\n      <th>5</th>\n      <td>1.986241</td>\n      <td>15.673420</td>\n      <td>16.164226</td>\n    </tr>\n    <tr>\n      <th>6</th>\n      <td>2.381909</td>\n      <td>17.163818</td>\n      <td>17.192962</td>\n    </tr>\n    <tr>\n      <th>7</th>\n      <td>0.865329</td>\n      <td>14.307482</td>\n      <td>13.249855</td>\n    </tr>\n    <tr>\n      <th>8</th>\n      <td>1.945256</td>\n      <td>14.500599</td>\n      <td>16.057666</td>\n    </tr>\n    <tr>\n      <th>9</th>\n      <td>-0.473511</td>\n      <td>10.186820</td>\n      <td>9.768871</td>\n    </tr>\n  </tbody>\n</table>\n</div>"
     },
     "execution_count": 312,
     "metadata": {},
     "output_type": "execute_result"
    }
   ],
   "source": [
    "data.head(10)"
   ],
   "metadata": {
    "collapsed": false
   }
  },
  {
   "cell_type": "code",
   "execution_count": 313,
   "outputs": [],
   "source": [
    "y_mean_arr = [np.mean(data['y']) for _ in range (1, len (x_list)+1)]"
   ],
   "metadata": {
    "collapsed": false
   }
  },
  {
   "cell_type": "code",
   "execution_count": 314,
   "outputs": [
    {
     "data": {
      "text/plain": "Text(0.5, 1.0, 'Valor Actual vs Prediccion')"
     },
     "execution_count": 314,
     "metadata": {},
     "output_type": "execute_result"
    },
    {
     "data": {
      "text/plain": "<Figure size 640x480 with 1 Axes>",
      "image/png": "[encoded data removed]"
     },
     "metadata": {},
     "output_type": "display_data"
    }
   ],
   "source": [
    "%matplotlib inline\n",
    "plt.plot(data['x'], data['y_pred'])\n",
    "plt.plot(data['x'], data['y'], \"ro\")\n",
    "plt.plot(data['x'], y_mean_arr, 'g')\n",
    "plt.title('Valor Actual vs Prediccion')"
   ],
   "metadata": {
    "collapsed": false
   }
  },
  {
   "cell_type": "code",
   "execution_count": 315,
   "outputs": [],
   "source": [
    "data ['SSR'] = (data['y_pred'] - np.mean (data['y']))**2\n",
    "data ['SSD'] = (data ['y_pred']- data ['y'])**2\n",
    "data ['SST'] = (data ['y']- np.mean(data ['y']))** 2"
   ],
   "metadata": {
    "collapsed": false
   }
  },
  {
   "cell_type": "code",
   "execution_count": 316,
   "outputs": [
    {
     "data": {
      "text/plain": "          x          y     y_pred        SSR       SSD        SST\n0  3.682023  20.258673  20.573261  36.810341  0.098965  33.092004\n1  1.350583  12.971249  14.511517   0.000029  2.372426   2.355793\n2 -0.423177   8.606830   9.899740  21.218628  1.671615  34.801476\n3  1.778305  15.594711  15.623594   1.248775  0.000834   1.185056\n4  2.672638  18.777873  17.948858  11.852531  0.687265  18.247977",
      "text/html": "<div>\n<style scoped>\n    .dataframe tbody tr th:only-of-type {\n        vertical-align: middle;\n    }\n\n    .dataframe tbody tr th {\n        vertical-align: top;\n    }\n\n    .dataframe thead th {\n        text-align: right;\n    }\n</style>\n<table border=\"1\" class=\"dataframe\">\n  <thead>\n    <tr style=\"text-align: right;\">\n      <th></th>\n      <th>x</th>\n      <th>y</th>\n      <th>y_pred</th>\n      <th>SSR</th>\n      <th>SSD</th>\n      <th>SST</th>\n    </tr>\n  </thead>\n  <tbody>\n    <tr>\n      <th>0</th>\n      <td>3.682023</td>\n      <td>20.258673</td>\n      <td>20.573261</td>\n      <td>36.810341</td>\n      <td>0.098965</td>\n      <td>33.092004</td>\n    </tr>\n    <tr>\n      <th>1</th>\n      <td>1.350583</td>\n      <td>12.971249</td>\n      <td>14.511517</td>\n      <td>0.000029</td>\n      <td>2.372426</td>\n      <td>2.355793</td>\n    </tr>\n    <tr>\n      <th>2</th>\n      <td>-0.423177</td>\n      <td>8.606830</td>\n      <td>9.899740</td>\n      <td>21.218628</td>\n      <td>1.671615</td>\n      <td>34.801476</td>\n    </tr>\n    <tr>\n      <th>3</th>\n      <td>1.778305</td>\n      <td>15.594711</td>\n      <td>15.623594</td>\n      <td>1.248775</td>\n      <td>0.000834</td>\n      <td>1.185056</td>\n    </tr>\n    <tr>\n      <th>4</th>\n      <td>2.672638</td>\n      <td>18.777873</td>\n      <td>17.948858</td>\n      <td>11.852531</td>\n      <td>0.687265</td>\n      <td>18.247977</td>\n    </tr>\n  </tbody>\n</table>\n</div>"
     },
     "execution_count": 316,
     "metadata": {},
     "output_type": "execute_result"
    }
   ],
   "source": [
    "data.head()"
   ],
   "metadata": {
    "collapsed": false
   }
  },
  {
   "cell_type": "code",
   "execution_count": 317,
   "outputs": [],
   "source": [
    "SSR = sum (data['SSR'])\n",
    "SSD = sum (data ['SSD'])\n",
    "SST = sum (data['SST'])"
   ],
   "metadata": {
    "collapsed": false
   }
  },
  {
   "cell_type": "code",
   "execution_count": 318,
   "outputs": [
    {
     "data": {
      "text/plain": "3360.024687059707"
     },
     "execution_count": 318,
     "metadata": {},
     "output_type": "execute_result"
    }
   ],
   "source": [
    "SSR"
   ],
   "metadata": {
    "collapsed": false
   }
  },
  {
   "cell_type": "code",
   "execution_count": 319,
   "outputs": [
    {
     "data": {
      "text/plain": "63.68757718147423"
     },
     "execution_count": 319,
     "metadata": {},
     "output_type": "execute_result"
    }
   ],
   "source": [
    "SSD"
   ],
   "metadata": {
    "collapsed": false
   }
  },
  {
   "cell_type": "code",
   "execution_count": 320,
   "outputs": [
    {
     "data": {
      "text/plain": "3503.4596816677627"
     },
     "execution_count": 320,
     "metadata": {},
     "output_type": "execute_result"
    }
   ],
   "source": [
    "SST"
   ],
   "metadata": {
    "collapsed": false
   }
  },
  {
   "cell_type": "code",
   "execution_count": 321,
   "outputs": [
    {
     "data": {
      "text/plain": "3423.7122642411814"
     },
     "execution_count": 321,
     "metadata": {},
     "output_type": "execute_result"
    }
   ],
   "source": [
    "SSR + SSD"
   ],
   "metadata": {
    "collapsed": false
   }
  },
  {
   "cell_type": "code",
   "execution_count": 322,
   "outputs": [],
   "source": [
    "R2 = SSR/SST"
   ],
   "metadata": {
    "collapsed": false
   }
  },
  {
   "cell_type": "code",
   "execution_count": 323,
   "outputs": [
    {
     "data": {
      "text/plain": "0.9590590423064964"
     },
     "execution_count": 323,
     "metadata": {},
     "output_type": "execute_result"
    }
   ],
   "source": [
    "R2"
   ],
   "metadata": {
    "collapsed": false
   }
  },
  {
   "cell_type": "code",
   "execution_count": 324,
   "outputs": [
    {
     "data": {
      "text/plain": "(array([ 3.,  2.,  5., 11., 19., 18., 13., 14., 11.,  4.]),\n array([-2.07046498, -1.69372232, -1.31697967, -0.94023701, -0.56349436,\n        -0.18675171,  0.18999095,  0.5667336 ,  0.94347626,  1.32021891,\n         1.69696156]),\n <BarContainer object of 10 artists>)"
     },
     "execution_count": 324,
     "metadata": {},
     "output_type": "execute_result"
    },
    {
     "data": {
      "text/plain": "<Figure size 640x480 with 1 Axes>",
      "image/png": "[encoded data removed]"
     },
     "metadata": {},
     "output_type": "display_data"
    }
   ],
   "source": [
    "plt.hist((data ['y_pred']- data ['y']))"
   ],
   "metadata": {
    "collapsed": false
   }
  },
  {
   "cell_type": "markdown",
   "source": [
    "Ahora, vamos a utilizar la X para interntar predecir el valor actual, es decir, vamos a calcular la recta de regresión lineal. Para realizar esto, lo que vamos a tener en cuenta es las ecuaciones de la regresión lineal:\n",
    "\n",
    "- $y = a + b*x$\n",
    "- $b = \\frac{\\sum (x_i-\\bar{x}) * (y_i-\\bar{y})}{\\sum (x_i-\\bar{x})^2}$\n",
    "- $ a = \\bar{y} - b*\\bar{x}$"
   ],
   "metadata": {
    "collapsed": false
   }
  },
  {
   "cell_type": "code",
   "execution_count": 325,
   "outputs": [],
   "source": [
    "x_mean = np.mean(data['x'])\n",
    "y_mean = np.mean (data ['y'])"
   ],
   "metadata": {
    "collapsed": false
   }
  },
  {
   "cell_type": "code",
   "execution_count": 326,
   "outputs": [
    {
     "data": {
      "text/plain": "1.3730941574964828"
     },
     "execution_count": 326,
     "metadata": {},
     "output_type": "execute_result"
    }
   ],
   "source": [
    "x_mean"
   ],
   "metadata": {
    "collapsed": false
   }
  },
  {
   "cell_type": "code",
   "execution_count": 327,
   "outputs": [
    {
     "data": {
      "text/plain": "14.506107973959047"
     },
     "execution_count": 327,
     "metadata": {},
     "output_type": "execute_result"
    }
   ],
   "source": [
    "y_mean"
   ],
   "metadata": {
    "collapsed": false
   }
  },
  {
   "cell_type": "code",
   "execution_count": 328,
   "outputs": [],
   "source": [
    "data ['beta_n'] = (data['x'] - x_mean) * (data['y']- y_mean)\n",
    "data ['beta_denominador'] = (data['x'] - x_mean)**2"
   ],
   "metadata": {
    "collapsed": false
   }
  },
  {
   "cell_type": "code",
   "execution_count": 329,
   "outputs": [],
   "source": [
    "beta = sum(data ['beta_n'])/ sum (data['beta_denominador'])"
   ],
   "metadata": {
    "collapsed": false
   }
  },
  {
   "cell_type": "code",
   "execution_count": 330,
   "outputs": [],
   "source": [
    "alpha = y_mean - beta * x_mean"
   ],
   "metadata": {
    "collapsed": false
   }
  },
  {
   "cell_type": "code",
   "execution_count": 331,
   "outputs": [
    {
     "data": {
      "text/plain": "(10.893257576956678, 2.631174546390584)"
     },
     "execution_count": 331,
     "metadata": {},
     "output_type": "execute_result"
    }
   ],
   "source": [
    "alpha, beta"
   ],
   "metadata": {
    "collapsed": false
   }
  },
  {
   "cell_type": "code",
   "execution_count": 332,
   "outputs": [],
   "source": [
    "data ['y_pred_2'] = alpha + beta * data ['x']"
   ],
   "metadata": {
    "collapsed": false
   }
  },
  {
   "cell_type": "code",
   "execution_count": 333,
   "outputs": [
    {
     "data": {
      "text/plain": "          x          y     y_pred        SSR       SSD        SST     beta_n  \\\n0  3.682023  20.258673  20.573261  36.810341  0.098965  33.092004  13.282265   \n1  1.350583  12.971249  14.511517   0.000029  2.372426   2.355793   0.034551   \n2 -0.423177   8.606830   9.899740  21.218628  1.671615  34.801476  10.596702   \n3  1.778305  15.594711  15.623594   1.248775  0.000834   1.185056   0.441114   \n4  2.672638  18.777873  17.948858  11.852531  0.687265  18.247977   5.551345   \n\n   beta_denominador   y_pred_2  \n0          5.331154  20.581304  \n1          0.000507  14.446878  \n2          3.226590   9.779805  \n3          0.164196  15.572290  \n4          1.688814  17.925434  ",
      "text/html": "<div>\n<style scoped>\n    .dataframe tbody tr th:only-of-type {\n        vertical-align: middle;\n    }\n\n    .dataframe tbody tr th {\n        vertical-align: top;\n    }\n\n    .dataframe thead th {\n        text-align: right;\n    }\n</style>\n<table border=\"1\" class=\"dataframe\">\n  <thead>\n    <tr style=\"text-align: right;\">\n      <th></th>\n      <th>x</th>\n      <th>y</th>\n      <th>y_pred</th>\n      <th>SSR</th>\n      <th>SSD</th>\n      <th>SST</th>\n      <th>beta_n</th>\n      <th>beta_denominador</th>\n      <th>y_pred_2</th>\n    </tr>\n  </thead>\n  <tbody>\n    <tr>\n      <th>0</th>\n      <td>3.682023</td>\n      <td>20.258673</td>\n      <td>20.573261</td>\n      <td>36.810341</td>\n      <td>0.098965</td>\n      <td>33.092004</td>\n      <td>13.282265</td>\n      <td>5.331154</td>\n      <td>20.581304</td>\n    </tr>\n    <tr>\n      <th>1</th>\n      <td>1.350583</td>\n      <td>12.971249</td>\n      <td>14.511517</td>\n      <td>0.000029</td>\n      <td>2.372426</td>\n      <td>2.355793</td>\n      <td>0.034551</td>\n      <td>0.000507</td>\n      <td>14.446878</td>\n    </tr>\n    <tr>\n      <th>2</th>\n      <td>-0.423177</td>\n      <td>8.606830</td>\n      <td>9.899740</td>\n      <td>21.218628</td>\n      <td>1.671615</td>\n      <td>34.801476</td>\n      <td>10.596702</td>\n      <td>3.226590</td>\n      <td>9.779805</td>\n    </tr>\n    <tr>\n      <th>3</th>\n      <td>1.778305</td>\n      <td>15.594711</td>\n      <td>15.623594</td>\n      <td>1.248775</td>\n      <td>0.000834</td>\n      <td>1.185056</td>\n      <td>0.441114</td>\n      <td>0.164196</td>\n      <td>15.572290</td>\n    </tr>\n    <tr>\n      <th>4</th>\n      <td>2.672638</td>\n      <td>18.777873</td>\n      <td>17.948858</td>\n      <td>11.852531</td>\n      <td>0.687265</td>\n      <td>18.247977</td>\n      <td>5.551345</td>\n      <td>1.688814</td>\n      <td>17.925434</td>\n    </tr>\n  </tbody>\n</table>\n</div>"
     },
     "execution_count": 333,
     "metadata": {},
     "output_type": "execute_result"
    }
   ],
   "source": [
    "data.head()"
   ],
   "metadata": {
    "collapsed": false
   }
  },
  {
   "cell_type": "code",
   "execution_count": 334,
   "outputs": [
    {
     "data": {
      "text/plain": "(3360.024687059707, 63.68757718147423, 3503.4596816677627)"
     },
     "execution_count": 334,
     "metadata": {},
     "output_type": "execute_result"
    }
   ],
   "source": [
    "SSR_model = sum((data['y_pred_2'] - y_mean)**2)\n",
    "SSD_model = sum((data ['y_pred_2']- data ['y'])**2)\n",
    "SST_model = sum((data ['y']- y_mean)** 2)\n",
    "\n",
    "SSR, SSD, SST"
   ],
   "metadata": {
    "collapsed": false
   }
  },
  {
   "cell_type": "code",
   "execution_count": 335,
   "outputs": [
    {
     "data": {
      "text/plain": "(0.9820760632786436, 0.9590590423064964)"
     },
     "execution_count": 335,
     "metadata": {},
     "output_type": "execute_result"
    }
   ],
   "source": [
    "R2_model = SSR_model/SST_model\n",
    "R2_model, R2"
   ],
   "metadata": {
    "collapsed": false
   }
  },
  {
   "cell_type": "code",
   "execution_count": 336,
   "outputs": [
    {
     "data": {
      "text/plain": "Text(0.5, 1.0, 'Valor Actual vs Prediccion')"
     },
     "execution_count": 336,
     "metadata": {},
     "output_type": "execute_result"
    },
    {
     "data": {
      "text/plain": "<Figure size 640x480 with 1 Axes>",
      "image/png": "[encoded data removed]"
     },
     "metadata": {},
     "output_type": "display_data"
    }
   ],
   "source": [
    "%matplotlib inline\n",
    "plt.plot(data['x'], data['y_pred'])\n",
    "plt.plot(data['x'], data['y'], \"ro\")\n",
    "plt.plot(data['x'], y_mean_arr, 'g')\n",
    "plt.plot(data['x'], data['y_pred_2'])\n",
    "plt.title('Valor Actual vs Prediccion')"
   ],
   "metadata": {
    "collapsed": false
   }
  },
  {
   "cell_type": "markdown",
   "source": [
    "Ahora, vamos a ver un poco más en detalle la significatividad de los modelos. Para ello, vamos a tener que analizar el p_valor. Lo que tenemos que asegurar, que existe correlación entre X e Y ya que sino la hay, beta = 0. Por lo tanto, deberemos asegurar que tanto t-estadistico, como p_valor tienen que ser menor que el nivel de significación para rechazar la hipotesis nula y aceptar la alternativa."
   ],
   "metadata": {
    "collapsed": false
   }
  },
  {
   "cell_type": "markdown",
   "source": [
    "Otro estadístico importante es el \"estadístico F\" que se deine como:\n",
    "\n",
    "$F= \\frac{\\frac{SSR}{k}}{\\frac{SSD}{n-k-1}}$ donde $k$ es el numero de variables predictoras del modelo\n",
    "\n",
    "Y, por tanto, debemos asegurar que este valor F:\n",
    "\n",
    "$ p_valor < P(F> F_{k, n-k-1})$"
   ],
   "metadata": {
    "collapsed": false
   }
  },
  {
   "cell_type": "markdown",
   "source": [
    "Y, finalmente, otro valor interesante es el valor estandard de los residuos"
   ],
   "metadata": {
    "collapsed": false
   }
  },
  {
   "cell_type": "markdown",
   "source": [
    "$RSE = \\sqrt{\\frac{SSD}{n-2}}$\n",
    "\n",
    "En el caslo de una regresion múltiple:\n",
    "\n",
    "$RSE = \\sqrt{\\frac{SSD}{n-k-1}}$"
   ],
   "metadata": {
    "collapsed": false
   }
  },
  {
   "cell_type": "markdown",
   "source": [
    "Ahora, tendo a nuestro ejemplo, podemos calcular el error estandar de los residuos de la siguiente forma:"
   ],
   "metadata": {
    "collapsed": false
   }
  },
  {
   "cell_type": "code",
   "execution_count": 337,
   "outputs": [],
   "source": [
    "RSE = np.sqrt(SSD/(len(data) -2))"
   ],
   "metadata": {
    "collapsed": false
   }
  },
  {
   "cell_type": "code",
   "execution_count": 338,
   "outputs": [
    {
     "data": {
      "text/plain": "0.8061471556394995"
     },
     "execution_count": 338,
     "metadata": {},
     "output_type": "execute_result"
    }
   ],
   "source": [
    "RSE"
   ],
   "metadata": {
    "collapsed": false
   }
  },
  {
   "cell_type": "markdown",
   "source": [
    "Esto es, existe un error de 0.80 sobre el valor medio de Y o lo que es lo mismo:"
   ],
   "metadata": {
    "collapsed": false
   }
  },
  {
   "cell_type": "code",
   "execution_count": 339,
   "outputs": [
    {
     "data": {
      "text/plain": "0.055572946036708946"
     },
     "execution_count": 339,
     "metadata": {},
     "output_type": "execute_result"
    }
   ],
   "source": [
    "RSE/np.mean(data['y'])"
   ],
   "metadata": {
    "collapsed": false
   }
  },
  {
   "cell_type": "markdown",
   "source": [
    "El error es del 5% aproximadamente"
   ],
   "metadata": {
    "collapsed": false
   }
  },
  {
   "cell_type": "code",
   "execution_count": null,
   "outputs": [],
   "source": [],
   "metadata": {
    "collapsed": false
   }
  }
 ],
 "metadata": {
  "kernelspec": {
   "display_name": "Python 3",
   "language": "python",
   "name": "python3"
  },
  "language_info": {
   "codemirror_mode": {
    "name": "ipython",
    "version": 2
   },
   "file_extension": ".py",
   "mimetype": "text/x-python",
   "name": "python",
   "nbconvert_exporter": "python",
   "pygments_lexer": "ipython2",
   "version": "2.7.6"
  }
 },
 "nbformat": 4,
 "nbformat_minor": 0
}
