{
 "cells": [
  {
   "cell_type": "markdown",
   "source": [
    "# Concatenar Datasets\n"
   ],
   "metadata": {
    "collapsed": false
   }
  },
  {
   "cell_type": "code",
   "execution_count": 1,
   "outputs": [],
   "source": [
    "import pandas as pd\n"
   ],
   "metadata": {
    "collapsed": false
   }
  },
  {
   "cell_type": "code",
   "execution_count": 4,
   "outputs": [],
   "source": [
    "red_wine = pd.read_csv('../data/wine/winequality-red.csv', sep=';')\n",
    "white_wine = pd.read_csv('../data/wine/winequality-white.csv', sep= ';')"
   ],
   "metadata": {
    "collapsed": false
   }
  },
  {
   "cell_type": "code",
   "execution_count": 5,
   "outputs": [
    {
     "data": {
      "text/plain": "   fixed acidity  volatile acidity  citric acid  residual sugar  chlorides  \\\n0            7.4              0.70         0.00             1.9      0.076   \n1            7.8              0.88         0.00             2.6      0.098   \n2            7.8              0.76         0.04             2.3      0.092   \n3           11.2              0.28         0.56             1.9      0.075   \n4            7.4              0.70         0.00             1.9      0.076   \n\n   free sulfur dioxide  total sulfur dioxide  density    pH  sulphates  \\\n0                 11.0                  34.0   0.9978  3.51       0.56   \n1                 25.0                  67.0   0.9968  3.20       0.68   \n2                 15.0                  54.0   0.9970  3.26       0.65   \n3                 17.0                  60.0   0.9980  3.16       0.58   \n4                 11.0                  34.0   0.9978  3.51       0.56   \n\n   alcohol  quality  \n0      9.4        5  \n1      9.8        5  \n2      9.8        5  \n3      9.8        6  \n4      9.4        5  ",
      "text/html": "<div>\n<style scoped>\n    .dataframe tbody tr th:only-of-type {\n        vertical-align: middle;\n    }\n\n    .dataframe tbody tr th {\n        vertical-align: top;\n    }\n\n    .dataframe thead th {\n        text-align: right;\n    }\n</style>\n<table border=\"1\" class=\"dataframe\">\n  <thead>\n    <tr style=\"text-align: right;\">\n      <th></th>\n      <th>fixed acidity</th>\n      <th>volatile acidity</th>\n      <th>citric acid</th>\n      <th>residual sugar</th>\n      <th>chlorides</th>\n      <th>free sulfur dioxide</th>\n      <th>total sulfur dioxide</th>\n      <th>density</th>\n      <th>pH</th>\n      <th>sulphates</th>\n      <th>alcohol</th>\n      <th>quality</th>\n    </tr>\n  </thead>\n  <tbody>\n    <tr>\n      <th>0</th>\n      <td>7.4</td>\n      <td>0.70</td>\n      <td>0.00</td>\n      <td>1.9</td>\n      <td>0.076</td>\n      <td>11.0</td>\n      <td>34.0</td>\n      <td>0.9978</td>\n      <td>3.51</td>\n      <td>0.56</td>\n      <td>9.4</td>\n      <td>5</td>\n    </tr>\n    <tr>\n      <th>1</th>\n      <td>7.8</td>\n      <td>0.88</td>\n      <td>0.00</td>\n      <td>2.6</td>\n      <td>0.098</td>\n      <td>25.0</td>\n      <td>67.0</td>\n      <td>0.9968</td>\n      <td>3.20</td>\n      <td>0.68</td>\n      <td>9.8</td>\n      <td>5</td>\n    </tr>\n    <tr>\n      <th>2</th>\n      <td>7.8</td>\n      <td>0.76</td>\n      <td>0.04</td>\n      <td>2.3</td>\n      <td>0.092</td>\n      <td>15.0</td>\n      <td>54.0</td>\n      <td>0.9970</td>\n      <td>3.26</td>\n      <td>0.65</td>\n      <td>9.8</td>\n      <td>5</td>\n    </tr>\n    <tr>\n      <th>3</th>\n      <td>11.2</td>\n      <td>0.28</td>\n      <td>0.56</td>\n      <td>1.9</td>\n      <td>0.075</td>\n      <td>17.0</td>\n      <td>60.0</td>\n      <td>0.9980</td>\n      <td>3.16</td>\n      <td>0.58</td>\n      <td>9.8</td>\n      <td>6</td>\n    </tr>\n    <tr>\n      <th>4</th>\n      <td>7.4</td>\n      <td>0.70</td>\n      <td>0.00</td>\n      <td>1.9</td>\n      <td>0.076</td>\n      <td>11.0</td>\n      <td>34.0</td>\n      <td>0.9978</td>\n      <td>3.51</td>\n      <td>0.56</td>\n      <td>9.4</td>\n      <td>5</td>\n    </tr>\n  </tbody>\n</table>\n</div>"
     },
     "execution_count": 5,
     "metadata": {},
     "output_type": "execute_result"
    }
   ],
   "source": [
    "red_wine.head()"
   ],
   "metadata": {
    "collapsed": false
   }
  },
  {
   "cell_type": "code",
   "execution_count": 6,
   "outputs": [
    {
     "data": {
      "text/plain": "   fixed acidity  volatile acidity  citric acid  residual sugar  chlorides  \\\n0            7.0              0.27         0.36            20.7      0.045   \n1            6.3              0.30         0.34             1.6      0.049   \n2            8.1              0.28         0.40             6.9      0.050   \n3            7.2              0.23         0.32             8.5      0.058   \n4            7.2              0.23         0.32             8.5      0.058   \n\n   free sulfur dioxide  total sulfur dioxide  density    pH  sulphates  \\\n0                 45.0                 170.0   1.0010  3.00       0.45   \n1                 14.0                 132.0   0.9940  3.30       0.49   \n2                 30.0                  97.0   0.9951  3.26       0.44   \n3                 47.0                 186.0   0.9956  3.19       0.40   \n4                 47.0                 186.0   0.9956  3.19       0.40   \n\n   alcohol  quality  \n0      8.8        6  \n1      9.5        6  \n2     10.1        6  \n3      9.9        6  \n4      9.9        6  ",
      "text/html": "<div>\n<style scoped>\n    .dataframe tbody tr th:only-of-type {\n        vertical-align: middle;\n    }\n\n    .dataframe tbody tr th {\n        vertical-align: top;\n    }\n\n    .dataframe thead th {\n        text-align: right;\n    }\n</style>\n<table border=\"1\" class=\"dataframe\">\n  <thead>\n    <tr style=\"text-align: right;\">\n      <th></th>\n      <th>fixed acidity</th>\n      <th>volatile acidity</th>\n      <th>citric acid</th>\n      <th>residual sugar</th>\n      <th>chlorides</th>\n      <th>free sulfur dioxide</th>\n      <th>total sulfur dioxide</th>\n      <th>density</th>\n      <th>pH</th>\n      <th>sulphates</th>\n      <th>alcohol</th>\n      <th>quality</th>\n    </tr>\n  </thead>\n  <tbody>\n    <tr>\n      <th>0</th>\n      <td>7.0</td>\n      <td>0.27</td>\n      <td>0.36</td>\n      <td>20.7</td>\n      <td>0.045</td>\n      <td>45.0</td>\n      <td>170.0</td>\n      <td>1.0010</td>\n      <td>3.00</td>\n      <td>0.45</td>\n      <td>8.8</td>\n      <td>6</td>\n    </tr>\n    <tr>\n      <th>1</th>\n      <td>6.3</td>\n      <td>0.30</td>\n      <td>0.34</td>\n      <td>1.6</td>\n      <td>0.049</td>\n      <td>14.0</td>\n      <td>132.0</td>\n      <td>0.9940</td>\n      <td>3.30</td>\n      <td>0.49</td>\n      <td>9.5</td>\n      <td>6</td>\n    </tr>\n    <tr>\n      <th>2</th>\n      <td>8.1</td>\n      <td>0.28</td>\n      <td>0.40</td>\n      <td>6.9</td>\n      <td>0.050</td>\n      <td>30.0</td>\n      <td>97.0</td>\n      <td>0.9951</td>\n      <td>3.26</td>\n      <td>0.44</td>\n      <td>10.1</td>\n      <td>6</td>\n    </tr>\n    <tr>\n      <th>3</th>\n      <td>7.2</td>\n      <td>0.23</td>\n      <td>0.32</td>\n      <td>8.5</td>\n      <td>0.058</td>\n      <td>47.0</td>\n      <td>186.0</td>\n      <td>0.9956</td>\n      <td>3.19</td>\n      <td>0.40</td>\n      <td>9.9</td>\n      <td>6</td>\n    </tr>\n    <tr>\n      <th>4</th>\n      <td>7.2</td>\n      <td>0.23</td>\n      <td>0.32</td>\n      <td>8.5</td>\n      <td>0.058</td>\n      <td>47.0</td>\n      <td>186.0</td>\n      <td>0.9956</td>\n      <td>3.19</td>\n      <td>0.40</td>\n      <td>9.9</td>\n      <td>6</td>\n    </tr>\n  </tbody>\n</table>\n</div>"
     },
     "execution_count": 6,
     "metadata": {},
     "output_type": "execute_result"
    }
   ],
   "source": [
    "white_wine.head()"
   ],
   "metadata": {
    "collapsed": false
   }
  },
  {
   "cell_type": "code",
   "execution_count": 7,
   "outputs": [
    {
     "data": {
      "text/plain": "       fixed acidity  volatile acidity  citric acid  residual sugar  \\\ncount    1599.000000       1599.000000  1599.000000     1599.000000   \nmean        8.319637          0.527821     0.270976        2.538806   \nstd         1.741096          0.179060     0.194801        1.409928   \nmin         4.600000          0.120000     0.000000        0.900000   \n25%         7.100000          0.390000     0.090000        1.900000   \n50%         7.900000          0.520000     0.260000        2.200000   \n75%         9.200000          0.640000     0.420000        2.600000   \nmax        15.900000          1.580000     1.000000       15.500000   \n\n         chlorides  free sulfur dioxide  total sulfur dioxide      density  \\\ncount  1599.000000          1599.000000           1599.000000  1599.000000   \nmean      0.087467            15.874922             46.467792     0.996747   \nstd       0.047065            10.460157             32.895324     0.001887   \nmin       0.012000             1.000000              6.000000     0.990070   \n25%       0.070000             7.000000             22.000000     0.995600   \n50%       0.079000            14.000000             38.000000     0.996750   \n75%       0.090000            21.000000             62.000000     0.997835   \nmax       0.611000            72.000000            289.000000     1.003690   \n\n                pH    sulphates      alcohol      quality  \ncount  1599.000000  1599.000000  1599.000000  1599.000000  \nmean      3.311113     0.658149    10.422983     5.636023  \nstd       0.154386     0.169507     1.065668     0.807569  \nmin       2.740000     0.330000     8.400000     3.000000  \n25%       3.210000     0.550000     9.500000     5.000000  \n50%       3.310000     0.620000    10.200000     6.000000  \n75%       3.400000     0.730000    11.100000     6.000000  \nmax       4.010000     2.000000    14.900000     8.000000  ",
      "text/html": "<div>\n<style scoped>\n    .dataframe tbody tr th:only-of-type {\n        vertical-align: middle;\n    }\n\n    .dataframe tbody tr th {\n        vertical-align: top;\n    }\n\n    .dataframe thead th {\n        text-align: right;\n    }\n</style>\n<table border=\"1\" class=\"dataframe\">\n  <thead>\n    <tr style=\"text-align: right;\">\n      <th></th>\n      <th>fixed acidity</th>\n      <th>volatile acidity</th>\n      <th>citric acid</th>\n      <th>residual sugar</th>\n      <th>chlorides</th>\n      <th>free sulfur dioxide</th>\n      <th>total sulfur dioxide</th>\n      <th>density</th>\n      <th>pH</th>\n      <th>sulphates</th>\n      <th>alcohol</th>\n      <th>quality</th>\n    </tr>\n  </thead>\n  <tbody>\n    <tr>\n      <th>count</th>\n      <td>1599.000000</td>\n      <td>1599.000000</td>\n      <td>1599.000000</td>\n      <td>1599.000000</td>\n      <td>1599.000000</td>\n      <td>1599.000000</td>\n      <td>1599.000000</td>\n      <td>1599.000000</td>\n      <td>1599.000000</td>\n      <td>1599.000000</td>\n      <td>1599.000000</td>\n      <td>1599.000000</td>\n    </tr>\n    <tr>\n      <th>mean</th>\n      <td>8.319637</td>\n      <td>0.527821</td>\n      <td>0.270976</td>\n      <td>2.538806</td>\n      <td>0.087467</td>\n      <td>15.874922</td>\n      <td>46.467792</td>\n      <td>0.996747</td>\n      <td>3.311113</td>\n      <td>0.658149</td>\n      <td>10.422983</td>\n      <td>5.636023</td>\n    </tr>\n    <tr>\n      <th>std</th>\n      <td>1.741096</td>\n      <td>0.179060</td>\n      <td>0.194801</td>\n      <td>1.409928</td>\n      <td>0.047065</td>\n      <td>10.460157</td>\n      <td>32.895324</td>\n      <td>0.001887</td>\n      <td>0.154386</td>\n      <td>0.169507</td>\n      <td>1.065668</td>\n      <td>0.807569</td>\n    </tr>\n    <tr>\n      <th>min</th>\n      <td>4.600000</td>\n      <td>0.120000</td>\n      <td>0.000000</td>\n      <td>0.900000</td>\n      <td>0.012000</td>\n      <td>1.000000</td>\n      <td>6.000000</td>\n      <td>0.990070</td>\n      <td>2.740000</td>\n      <td>0.330000</td>\n      <td>8.400000</td>\n      <td>3.000000</td>\n    </tr>\n    <tr>\n      <th>25%</th>\n      <td>7.100000</td>\n      <td>0.390000</td>\n      <td>0.090000</td>\n      <td>1.900000</td>\n      <td>0.070000</td>\n      <td>7.000000</td>\n      <td>22.000000</td>\n      <td>0.995600</td>\n      <td>3.210000</td>\n      <td>0.550000</td>\n      <td>9.500000</td>\n      <td>5.000000</td>\n    </tr>\n    <tr>\n      <th>50%</th>\n      <td>7.900000</td>\n      <td>0.520000</td>\n      <td>0.260000</td>\n      <td>2.200000</td>\n      <td>0.079000</td>\n      <td>14.000000</td>\n      <td>38.000000</td>\n      <td>0.996750</td>\n      <td>3.310000</td>\n      <td>0.620000</td>\n      <td>10.200000</td>\n      <td>6.000000</td>\n    </tr>\n    <tr>\n      <th>75%</th>\n      <td>9.200000</td>\n      <td>0.640000</td>\n      <td>0.420000</td>\n      <td>2.600000</td>\n      <td>0.090000</td>\n      <td>21.000000</td>\n      <td>62.000000</td>\n      <td>0.997835</td>\n      <td>3.400000</td>\n      <td>0.730000</td>\n      <td>11.100000</td>\n      <td>6.000000</td>\n    </tr>\n    <tr>\n      <th>max</th>\n      <td>15.900000</td>\n      <td>1.580000</td>\n      <td>1.000000</td>\n      <td>15.500000</td>\n      <td>0.611000</td>\n      <td>72.000000</td>\n      <td>289.000000</td>\n      <td>1.003690</td>\n      <td>4.010000</td>\n      <td>2.000000</td>\n      <td>14.900000</td>\n      <td>8.000000</td>\n    </tr>\n  </tbody>\n</table>\n</div>"
     },
     "execution_count": 7,
     "metadata": {},
     "output_type": "execute_result"
    }
   ],
   "source": [
    "red_wine.describe()"
   ],
   "metadata": {
    "collapsed": false
   }
  },
  {
   "cell_type": "code",
   "execution_count": 8,
   "outputs": [
    {
     "data": {
      "text/plain": "       fixed acidity  volatile acidity  citric acid  residual sugar  \\\ncount    4898.000000       4898.000000  4898.000000     4898.000000   \nmean        6.854788          0.278241     0.334192        6.391415   \nstd         0.843868          0.100795     0.121020        5.072058   \nmin         3.800000          0.080000     0.000000        0.600000   \n25%         6.300000          0.210000     0.270000        1.700000   \n50%         6.800000          0.260000     0.320000        5.200000   \n75%         7.300000          0.320000     0.390000        9.900000   \nmax        14.200000          1.100000     1.660000       65.800000   \n\n         chlorides  free sulfur dioxide  total sulfur dioxide      density  \\\ncount  4898.000000          4898.000000           4898.000000  4898.000000   \nmean      0.045772            35.308085            138.360657     0.994027   \nstd       0.021848            17.007137             42.498065     0.002991   \nmin       0.009000             2.000000              9.000000     0.987110   \n25%       0.036000            23.000000            108.000000     0.991723   \n50%       0.043000            34.000000            134.000000     0.993740   \n75%       0.050000            46.000000            167.000000     0.996100   \nmax       0.346000           289.000000            440.000000     1.038980   \n\n                pH    sulphates      alcohol      quality  \ncount  4898.000000  4898.000000  4898.000000  4898.000000  \nmean      3.188267     0.489847    10.514267     5.877909  \nstd       0.151001     0.114126     1.230621     0.885639  \nmin       2.720000     0.220000     8.000000     3.000000  \n25%       3.090000     0.410000     9.500000     5.000000  \n50%       3.180000     0.470000    10.400000     6.000000  \n75%       3.280000     0.550000    11.400000     6.000000  \nmax       3.820000     1.080000    14.200000     9.000000  ",
      "text/html": "<div>\n<style scoped>\n    .dataframe tbody tr th:only-of-type {\n        vertical-align: middle;\n    }\n\n    .dataframe tbody tr th {\n        vertical-align: top;\n    }\n\n    .dataframe thead th {\n        text-align: right;\n    }\n</style>\n<table border=\"1\" class=\"dataframe\">\n  <thead>\n    <tr style=\"text-align: right;\">\n      <th></th>\n      <th>fixed acidity</th>\n      <th>volatile acidity</th>\n      <th>citric acid</th>\n      <th>residual sugar</th>\n      <th>chlorides</th>\n      <th>free sulfur dioxide</th>\n      <th>total sulfur dioxide</th>\n      <th>density</th>\n      <th>pH</th>\n      <th>sulphates</th>\n      <th>alcohol</th>\n      <th>quality</th>\n    </tr>\n  </thead>\n  <tbody>\n    <tr>\n      <th>count</th>\n      <td>4898.000000</td>\n      <td>4898.000000</td>\n      <td>4898.000000</td>\n      <td>4898.000000</td>\n      <td>4898.000000</td>\n      <td>4898.000000</td>\n      <td>4898.000000</td>\n      <td>4898.000000</td>\n      <td>4898.000000</td>\n      <td>4898.000000</td>\n      <td>4898.000000</td>\n      <td>4898.000000</td>\n    </tr>\n    <tr>\n      <th>mean</th>\n      <td>6.854788</td>\n      <td>0.278241</td>\n      <td>0.334192</td>\n      <td>6.391415</td>\n      <td>0.045772</td>\n      <td>35.308085</td>\n      <td>138.360657</td>\n      <td>0.994027</td>\n      <td>3.188267</td>\n      <td>0.489847</td>\n      <td>10.514267</td>\n      <td>5.877909</td>\n    </tr>\n    <tr>\n      <th>std</th>\n      <td>0.843868</td>\n      <td>0.100795</td>\n      <td>0.121020</td>\n      <td>5.072058</td>\n      <td>0.021848</td>\n      <td>17.007137</td>\n      <td>42.498065</td>\n      <td>0.002991</td>\n      <td>0.151001</td>\n      <td>0.114126</td>\n      <td>1.230621</td>\n      <td>0.885639</td>\n    </tr>\n    <tr>\n      <th>min</th>\n      <td>3.800000</td>\n      <td>0.080000</td>\n      <td>0.000000</td>\n      <td>0.600000</td>\n      <td>0.009000</td>\n      <td>2.000000</td>\n      <td>9.000000</td>\n      <td>0.987110</td>\n      <td>2.720000</td>\n      <td>0.220000</td>\n      <td>8.000000</td>\n      <td>3.000000</td>\n    </tr>\n    <tr>\n      <th>25%</th>\n      <td>6.300000</td>\n      <td>0.210000</td>\n      <td>0.270000</td>\n      <td>1.700000</td>\n      <td>0.036000</td>\n      <td>23.000000</td>\n      <td>108.000000</td>\n      <td>0.991723</td>\n      <td>3.090000</td>\n      <td>0.410000</td>\n      <td>9.500000</td>\n      <td>5.000000</td>\n    </tr>\n    <tr>\n      <th>50%</th>\n      <td>6.800000</td>\n      <td>0.260000</td>\n      <td>0.320000</td>\n      <td>5.200000</td>\n      <td>0.043000</td>\n      <td>34.000000</td>\n      <td>134.000000</td>\n      <td>0.993740</td>\n      <td>3.180000</td>\n      <td>0.470000</td>\n      <td>10.400000</td>\n      <td>6.000000</td>\n    </tr>\n    <tr>\n      <th>75%</th>\n      <td>7.300000</td>\n      <td>0.320000</td>\n      <td>0.390000</td>\n      <td>9.900000</td>\n      <td>0.050000</td>\n      <td>46.000000</td>\n      <td>167.000000</td>\n      <td>0.996100</td>\n      <td>3.280000</td>\n      <td>0.550000</td>\n      <td>11.400000</td>\n      <td>6.000000</td>\n    </tr>\n    <tr>\n      <th>max</th>\n      <td>14.200000</td>\n      <td>1.100000</td>\n      <td>1.660000</td>\n      <td>65.800000</td>\n      <td>0.346000</td>\n      <td>289.000000</td>\n      <td>440.000000</td>\n      <td>1.038980</td>\n      <td>3.820000</td>\n      <td>1.080000</td>\n      <td>14.200000</td>\n      <td>9.000000</td>\n    </tr>\n  </tbody>\n</table>\n</div>"
     },
     "execution_count": 8,
     "metadata": {},
     "output_type": "execute_result"
    }
   ],
   "source": [
    "white_wine.describe()"
   ],
   "metadata": {
    "collapsed": false
   }
  },
  {
   "cell_type": "code",
   "execution_count": 9,
   "outputs": [
    {
     "data": {
      "text/plain": "Index(['fixed acidity', 'volatile acidity', 'citric acid', 'residual sugar',\n       'chlorides', 'free sulfur dioxide', 'total sulfur dioxide', 'density',\n       'pH', 'sulphates', 'alcohol', 'quality'],\n      dtype='object')"
     },
     "execution_count": 9,
     "metadata": {},
     "output_type": "execute_result"
    }
   ],
   "source": [
    "red_wine.columns"
   ],
   "metadata": {
    "collapsed": false
   }
  },
  {
   "cell_type": "code",
   "execution_count": 10,
   "outputs": [
    {
     "data": {
      "text/plain": "Index(['fixed acidity', 'volatile acidity', 'citric acid', 'residual sugar',\n       'chlorides', 'free sulfur dioxide', 'total sulfur dioxide', 'density',\n       'pH', 'sulphates', 'alcohol', 'quality'],\n      dtype='object')"
     },
     "execution_count": 10,
     "metadata": {},
     "output_type": "execute_result"
    }
   ],
   "source": [
    "white_wine.columns"
   ],
   "metadata": {
    "collapsed": false
   }
  },
  {
   "cell_type": "markdown",
   "source": [
    "Como los datasets tienen las mismas columnas se pueden juntar. En Python, tenemos dos tipos de ejes:\n",
    "\n",
    "- axis 0 = Horizontal (filas)\n",
    "- axis 1 = vertical (columnas)"
   ],
   "metadata": {
    "collapsed": false
   }
  },
  {
   "cell_type": "code",
   "execution_count": 13,
   "outputs": [],
   "source": [
    "mixed_wine = pd.concat([red_wine, white_wine], axis= 0)"
   ],
   "metadata": {
    "collapsed": false
   }
  },
  {
   "cell_type": "code",
   "execution_count": 14,
   "outputs": [
    {
     "data": {
      "text/plain": "   fixed acidity  volatile acidity  citric acid  residual sugar  chlorides  \\\n0            7.4              0.70         0.00             1.9      0.076   \n1            7.8              0.88         0.00             2.6      0.098   \n2            7.8              0.76         0.04             2.3      0.092   \n3           11.2              0.28         0.56             1.9      0.075   \n4            7.4              0.70         0.00             1.9      0.076   \n\n   free sulfur dioxide  total sulfur dioxide  density    pH  sulphates  \\\n0                 11.0                  34.0   0.9978  3.51       0.56   \n1                 25.0                  67.0   0.9968  3.20       0.68   \n2                 15.0                  54.0   0.9970  3.26       0.65   \n3                 17.0                  60.0   0.9980  3.16       0.58   \n4                 11.0                  34.0   0.9978  3.51       0.56   \n\n   alcohol  quality  \n0      9.4        5  \n1      9.8        5  \n2      9.8        5  \n3      9.8        6  \n4      9.4        5  ",
      "text/html": "<div>\n<style scoped>\n    .dataframe tbody tr th:only-of-type {\n        vertical-align: middle;\n    }\n\n    .dataframe tbody tr th {\n        vertical-align: top;\n    }\n\n    .dataframe thead th {\n        text-align: right;\n    }\n</style>\n<table border=\"1\" class=\"dataframe\">\n  <thead>\n    <tr style=\"text-align: right;\">\n      <th></th>\n      <th>fixed acidity</th>\n      <th>volatile acidity</th>\n      <th>citric acid</th>\n      <th>residual sugar</th>\n      <th>chlorides</th>\n      <th>free sulfur dioxide</th>\n      <th>total sulfur dioxide</th>\n      <th>density</th>\n      <th>pH</th>\n      <th>sulphates</th>\n      <th>alcohol</th>\n      <th>quality</th>\n    </tr>\n  </thead>\n  <tbody>\n    <tr>\n      <th>0</th>\n      <td>7.4</td>\n      <td>0.70</td>\n      <td>0.00</td>\n      <td>1.9</td>\n      <td>0.076</td>\n      <td>11.0</td>\n      <td>34.0</td>\n      <td>0.9978</td>\n      <td>3.51</td>\n      <td>0.56</td>\n      <td>9.4</td>\n      <td>5</td>\n    </tr>\n    <tr>\n      <th>1</th>\n      <td>7.8</td>\n      <td>0.88</td>\n      <td>0.00</td>\n      <td>2.6</td>\n      <td>0.098</td>\n      <td>25.0</td>\n      <td>67.0</td>\n      <td>0.9968</td>\n      <td>3.20</td>\n      <td>0.68</td>\n      <td>9.8</td>\n      <td>5</td>\n    </tr>\n    <tr>\n      <th>2</th>\n      <td>7.8</td>\n      <td>0.76</td>\n      <td>0.04</td>\n      <td>2.3</td>\n      <td>0.092</td>\n      <td>15.0</td>\n      <td>54.0</td>\n      <td>0.9970</td>\n      <td>3.26</td>\n      <td>0.65</td>\n      <td>9.8</td>\n      <td>5</td>\n    </tr>\n    <tr>\n      <th>3</th>\n      <td>11.2</td>\n      <td>0.28</td>\n      <td>0.56</td>\n      <td>1.9</td>\n      <td>0.075</td>\n      <td>17.0</td>\n      <td>60.0</td>\n      <td>0.9980</td>\n      <td>3.16</td>\n      <td>0.58</td>\n      <td>9.8</td>\n      <td>6</td>\n    </tr>\n    <tr>\n      <th>4</th>\n      <td>7.4</td>\n      <td>0.70</td>\n      <td>0.00</td>\n      <td>1.9</td>\n      <td>0.076</td>\n      <td>11.0</td>\n      <td>34.0</td>\n      <td>0.9978</td>\n      <td>3.51</td>\n      <td>0.56</td>\n      <td>9.4</td>\n      <td>5</td>\n    </tr>\n  </tbody>\n</table>\n</div>"
     },
     "execution_count": 14,
     "metadata": {},
     "output_type": "execute_result"
    }
   ],
   "source": [
    "mixed_wine.head()"
   ],
   "metadata": {
    "collapsed": false
   }
  },
  {
   "cell_type": "code",
   "execution_count": 15,
   "outputs": [
    {
     "data": {
      "text/plain": "(6497, 12)"
     },
     "execution_count": 15,
     "metadata": {},
     "output_type": "execute_result"
    }
   ],
   "source": [
    "mixed_wine.shape"
   ],
   "metadata": {
    "collapsed": false
   }
  },
  {
   "cell_type": "markdown",
   "source": [
    "De esta forma, los datos se han ordenado de forma lineal. Es decir, primero vino rojo y, segundo, el vino blanco."
   ],
   "metadata": {
    "collapsed": false
   }
  },
  {
   "cell_type": "code",
   "execution_count": 16,
   "outputs": [],
   "source": [
    "data1 = mixed_wine.head(10)\n",
    "data2 = mixed_wine [300:310]\n",
    "data3 = mixed_wine.tail(10)\n",
    "wine_scramble = pd.concat([data1, data2, data3], axis=0)"
   ],
   "metadata": {
    "collapsed": false
   }
  },
  {
   "cell_type": "code",
   "execution_count": 17,
   "outputs": [
    {
     "data": {
      "text/plain": "      fixed acidity  volatile acidity  citric acid  residual sugar  chlorides  \\\n0               7.4             0.700         0.00            1.90      0.076   \n1               7.8             0.880         0.00            2.60      0.098   \n2               7.8             0.760         0.04            2.30      0.092   \n3              11.2             0.280         0.56            1.90      0.075   \n4               7.4             0.700         0.00            1.90      0.076   \n5               7.4             0.660         0.00            1.80      0.075   \n6               7.9             0.600         0.06            1.60      0.069   \n7               7.3             0.650         0.00            1.20      0.065   \n8               7.8             0.580         0.02            2.00      0.073   \n9               7.5             0.500         0.36            6.10      0.071   \n300             7.5             0.530         0.06            2.60      0.086   \n301            11.1             0.180         0.48            1.50      0.068   \n302             8.3             0.705         0.12            2.60      0.092   \n303             7.4             0.670         0.12            1.60      0.186   \n304             8.4             0.650         0.60            2.10      0.112   \n305            10.3             0.530         0.48            2.50      0.063   \n306             7.6             0.620         0.32            2.20      0.082   \n307            10.3             0.410         0.42            2.40      0.213   \n308            10.3             0.430         0.44            2.40      0.214   \n309             7.4             0.290         0.38            1.70      0.062   \n4888            6.8             0.220         0.36            1.20      0.052   \n4889            4.9             0.235         0.27           11.75      0.030   \n4890            6.1             0.340         0.29            2.20      0.036   \n4891            5.7             0.210         0.32            0.90      0.038   \n4892            6.5             0.230         0.38            1.30      0.032   \n4893            6.2             0.210         0.29            1.60      0.039   \n4894            6.6             0.320         0.36            8.00      0.047   \n4895            6.5             0.240         0.19            1.20      0.041   \n4896            5.5             0.290         0.30            1.10      0.022   \n4897            6.0             0.210         0.38            0.80      0.020   \n\n      free sulfur dioxide  total sulfur dioxide  density    pH  sulphates  \\\n0                    11.0                  34.0  0.99780  3.51       0.56   \n1                    25.0                  67.0  0.99680  3.20       0.68   \n2                    15.0                  54.0  0.99700  3.26       0.65   \n3                    17.0                  60.0  0.99800  3.16       0.58   \n4                    11.0                  34.0  0.99780  3.51       0.56   \n5                    13.0                  40.0  0.99780  3.51       0.56   \n6                    15.0                  59.0  0.99640  3.30       0.46   \n7                    15.0                  21.0  0.99460  3.39       0.47   \n8                     9.0                  18.0  0.99680  3.36       0.57   \n9                    17.0                 102.0  0.99780  3.35       0.80   \n300                  20.0                  44.0  0.99650  3.38       0.59   \n301                   7.0                  15.0  0.99730  3.22       0.64   \n302                  12.0                  28.0  0.99940  3.51       0.72   \n303                   5.0                  21.0  0.99600  3.39       0.54   \n304                  12.0                  90.0  0.99730  3.20       0.52   \n305                   6.0                  25.0  0.99980  3.12       0.59   \n306                   7.0                  54.0  0.99660  3.36       0.52   \n307                   6.0                  14.0  0.99940  3.19       0.62   \n308                   5.0                  12.0  0.99940  3.19       0.63   \n309                   9.0                  30.0  0.99680  3.41       0.53   \n4888                 38.0                 127.0  0.99330  3.04       0.54   \n4889                 34.0                 118.0  0.99540  3.07       0.50   \n4890                 25.0                 100.0  0.98938  3.06       0.44   \n4891                 38.0                 121.0  0.99074  3.24       0.46   \n4892                 29.0                 112.0  0.99298  3.29       0.54   \n4893                 24.0                  92.0  0.99114  3.27       0.50   \n4894                 57.0                 168.0  0.99490  3.15       0.46   \n4895                 30.0                 111.0  0.99254  2.99       0.46   \n4896                 20.0                 110.0  0.98869  3.34       0.38   \n4897                 22.0                  98.0  0.98941  3.26       0.32   \n\n      alcohol  quality  \n0         9.4        5  \n1         9.8        5  \n2         9.8        5  \n3         9.8        6  \n4         9.4        5  \n5         9.4        5  \n6         9.4        5  \n7        10.0        7  \n8         9.5        7  \n9        10.5        5  \n300      10.7        6  \n301      10.1        6  \n302      10.0        5  \n303       9.5        5  \n304       9.2        5  \n305       9.3        6  \n306       9.4        5  \n307       9.5        6  \n308       9.5        6  \n309       9.5        6  \n4888      9.2        5  \n4889      9.4        6  \n4890     11.8        6  \n4891     10.6        6  \n4892      9.7        5  \n4893     11.2        6  \n4894      9.6        5  \n4895      9.4        6  \n4896     12.8        7  \n4897     11.8        6  ",
      "text/html": "<div>\n<style scoped>\n    .dataframe tbody tr th:only-of-type {\n        vertical-align: middle;\n    }\n\n    .dataframe tbody tr th {\n        vertical-align: top;\n    }\n\n    .dataframe thead th {\n        text-align: right;\n    }\n</style>\n<table border=\"1\" class=\"dataframe\">\n  <thead>\n    <tr style=\"text-align: right;\">\n      <th></th>\n      <th>fixed acidity</th>\n      <th>volatile acidity</th>\n      <th>citric acid</th>\n      <th>residual sugar</th>\n      <th>chlorides</th>\n      <th>free sulfur dioxide</th>\n      <th>total sulfur dioxide</th>\n      <th>density</th>\n      <th>pH</th>\n      <th>sulphates</th>\n      <th>alcohol</th>\n      <th>quality</th>\n    </tr>\n  </thead>\n  <tbody>\n    <tr>\n      <th>0</th>\n      <td>7.4</td>\n      <td>0.700</td>\n      <td>0.00</td>\n      <td>1.90</td>\n      <td>0.076</td>\n      <td>11.0</td>\n      <td>34.0</td>\n      <td>0.99780</td>\n      <td>3.51</td>\n      <td>0.56</td>\n      <td>9.4</td>\n      <td>5</td>\n    </tr>\n    <tr>\n      <th>1</th>\n      <td>7.8</td>\n      <td>0.880</td>\n      <td>0.00</td>\n      <td>2.60</td>\n      <td>0.098</td>\n      <td>25.0</td>\n      <td>67.0</td>\n      <td>0.99680</td>\n      <td>3.20</td>\n      <td>0.68</td>\n      <td>9.8</td>\n      <td>5</td>\n    </tr>\n    <tr>\n      <th>2</th>\n      <td>7.8</td>\n      <td>0.760</td>\n      <td>0.04</td>\n      <td>2.30</td>\n      <td>0.092</td>\n      <td>15.0</td>\n      <td>54.0</td>\n      <td>0.99700</td>\n      <td>3.26</td>\n      <td>0.65</td>\n      <td>9.8</td>\n      <td>5</td>\n    </tr>\n    <tr>\n      <th>3</th>\n      <td>11.2</td>\n      <td>0.280</td>\n      <td>0.56</td>\n      <td>1.90</td>\n      <td>0.075</td>\n      <td>17.0</td>\n      <td>60.0</td>\n      <td>0.99800</td>\n      <td>3.16</td>\n      <td>0.58</td>\n      <td>9.8</td>\n      <td>6</td>\n    </tr>\n    <tr>\n      <th>4</th>\n      <td>7.4</td>\n      <td>0.700</td>\n      <td>0.00</td>\n      <td>1.90</td>\n      <td>0.076</td>\n      <td>11.0</td>\n      <td>34.0</td>\n      <td>0.99780</td>\n      <td>3.51</td>\n      <td>0.56</td>\n      <td>9.4</td>\n      <td>5</td>\n    </tr>\n    <tr>\n      <th>5</th>\n      <td>7.4</td>\n      <td>0.660</td>\n      <td>0.00</td>\n      <td>1.80</td>\n      <td>0.075</td>\n      <td>13.0</td>\n      <td>40.0</td>\n      <td>0.99780</td>\n      <td>3.51</td>\n      <td>0.56</td>\n      <td>9.4</td>\n      <td>5</td>\n    </tr>\n    <tr>\n      <th>6</th>\n      <td>7.9</td>\n      <td>0.600</td>\n      <td>0.06</td>\n      <td>1.60</td>\n      <td>0.069</td>\n      <td>15.0</td>\n      <td>59.0</td>\n      <td>0.99640</td>\n      <td>3.30</td>\n      <td>0.46</td>\n      <td>9.4</td>\n      <td>5</td>\n    </tr>\n    <tr>\n      <th>7</th>\n      <td>7.3</td>\n      <td>0.650</td>\n      <td>0.00</td>\n      <td>1.20</td>\n      <td>0.065</td>\n      <td>15.0</td>\n      <td>21.0</td>\n      <td>0.99460</td>\n      <td>3.39</td>\n      <td>0.47</td>\n      <td>10.0</td>\n      <td>7</td>\n    </tr>\n    <tr>\n      <th>8</th>\n      <td>7.8</td>\n      <td>0.580</td>\n      <td>0.02</td>\n      <td>2.00</td>\n      <td>0.073</td>\n      <td>9.0</td>\n      <td>18.0</td>\n      <td>0.99680</td>\n      <td>3.36</td>\n      <td>0.57</td>\n      <td>9.5</td>\n      <td>7</td>\n    </tr>\n    <tr>\n      <th>9</th>\n      <td>7.5</td>\n      <td>0.500</td>\n      <td>0.36</td>\n      <td>6.10</td>\n      <td>0.071</td>\n      <td>17.0</td>\n      <td>102.0</td>\n      <td>0.99780</td>\n      <td>3.35</td>\n      <td>0.80</td>\n      <td>10.5</td>\n      <td>5</td>\n    </tr>\n    <tr>\n      <th>300</th>\n      <td>7.5</td>\n      <td>0.530</td>\n      <td>0.06</td>\n      <td>2.60</td>\n      <td>0.086</td>\n      <td>20.0</td>\n      <td>44.0</td>\n      <td>0.99650</td>\n      <td>3.38</td>\n      <td>0.59</td>\n      <td>10.7</td>\n      <td>6</td>\n    </tr>\n    <tr>\n      <th>301</th>\n      <td>11.1</td>\n      <td>0.180</td>\n      <td>0.48</td>\n      <td>1.50</td>\n      <td>0.068</td>\n      <td>7.0</td>\n      <td>15.0</td>\n      <td>0.99730</td>\n      <td>3.22</td>\n      <td>0.64</td>\n      <td>10.1</td>\n      <td>6</td>\n    </tr>\n    <tr>\n      <th>302</th>\n      <td>8.3</td>\n      <td>0.705</td>\n      <td>0.12</td>\n      <td>2.60</td>\n      <td>0.092</td>\n      <td>12.0</td>\n      <td>28.0</td>\n      <td>0.99940</td>\n      <td>3.51</td>\n      <td>0.72</td>\n      <td>10.0</td>\n      <td>5</td>\n    </tr>\n    <tr>\n      <th>303</th>\n      <td>7.4</td>\n      <td>0.670</td>\n      <td>0.12</td>\n      <td>1.60</td>\n      <td>0.186</td>\n      <td>5.0</td>\n      <td>21.0</td>\n      <td>0.99600</td>\n      <td>3.39</td>\n      <td>0.54</td>\n      <td>9.5</td>\n      <td>5</td>\n    </tr>\n    <tr>\n      <th>304</th>\n      <td>8.4</td>\n      <td>0.650</td>\n      <td>0.60</td>\n      <td>2.10</td>\n      <td>0.112</td>\n      <td>12.0</td>\n      <td>90.0</td>\n      <td>0.99730</td>\n      <td>3.20</td>\n      <td>0.52</td>\n      <td>9.2</td>\n      <td>5</td>\n    </tr>\n    <tr>\n      <th>305</th>\n      <td>10.3</td>\n      <td>0.530</td>\n      <td>0.48</td>\n      <td>2.50</td>\n      <td>0.063</td>\n      <td>6.0</td>\n      <td>25.0</td>\n      <td>0.99980</td>\n      <td>3.12</td>\n      <td>0.59</td>\n      <td>9.3</td>\n      <td>6</td>\n    </tr>\n    <tr>\n      <th>306</th>\n      <td>7.6</td>\n      <td>0.620</td>\n      <td>0.32</td>\n      <td>2.20</td>\n      <td>0.082</td>\n      <td>7.0</td>\n      <td>54.0</td>\n      <td>0.99660</td>\n      <td>3.36</td>\n      <td>0.52</td>\n      <td>9.4</td>\n      <td>5</td>\n    </tr>\n    <tr>\n      <th>307</th>\n      <td>10.3</td>\n      <td>0.410</td>\n      <td>0.42</td>\n      <td>2.40</td>\n      <td>0.213</td>\n      <td>6.0</td>\n      <td>14.0</td>\n      <td>0.99940</td>\n      <td>3.19</td>\n      <td>0.62</td>\n      <td>9.5</td>\n      <td>6</td>\n    </tr>\n    <tr>\n      <th>308</th>\n      <td>10.3</td>\n      <td>0.430</td>\n      <td>0.44</td>\n      <td>2.40</td>\n      <td>0.214</td>\n      <td>5.0</td>\n      <td>12.0</td>\n      <td>0.99940</td>\n      <td>3.19</td>\n      <td>0.63</td>\n      <td>9.5</td>\n      <td>6</td>\n    </tr>\n    <tr>\n      <th>309</th>\n      <td>7.4</td>\n      <td>0.290</td>\n      <td>0.38</td>\n      <td>1.70</td>\n      <td>0.062</td>\n      <td>9.0</td>\n      <td>30.0</td>\n      <td>0.99680</td>\n      <td>3.41</td>\n      <td>0.53</td>\n      <td>9.5</td>\n      <td>6</td>\n    </tr>\n    <tr>\n      <th>4888</th>\n      <td>6.8</td>\n      <td>0.220</td>\n      <td>0.36</td>\n      <td>1.20</td>\n      <td>0.052</td>\n      <td>38.0</td>\n      <td>127.0</td>\n      <td>0.99330</td>\n      <td>3.04</td>\n      <td>0.54</td>\n      <td>9.2</td>\n      <td>5</td>\n    </tr>\n    <tr>\n      <th>4889</th>\n      <td>4.9</td>\n      <td>0.235</td>\n      <td>0.27</td>\n      <td>11.75</td>\n      <td>0.030</td>\n      <td>34.0</td>\n      <td>118.0</td>\n      <td>0.99540</td>\n      <td>3.07</td>\n      <td>0.50</td>\n      <td>9.4</td>\n      <td>6</td>\n    </tr>\n    <tr>\n      <th>4890</th>\n      <td>6.1</td>\n      <td>0.340</td>\n      <td>0.29</td>\n      <td>2.20</td>\n      <td>0.036</td>\n      <td>25.0</td>\n      <td>100.0</td>\n      <td>0.98938</td>\n      <td>3.06</td>\n      <td>0.44</td>\n      <td>11.8</td>\n      <td>6</td>\n    </tr>\n    <tr>\n      <th>4891</th>\n      <td>5.7</td>\n      <td>0.210</td>\n      <td>0.32</td>\n      <td>0.90</td>\n      <td>0.038</td>\n      <td>38.0</td>\n      <td>121.0</td>\n      <td>0.99074</td>\n      <td>3.24</td>\n      <td>0.46</td>\n      <td>10.6</td>\n      <td>6</td>\n    </tr>\n    <tr>\n      <th>4892</th>\n      <td>6.5</td>\n      <td>0.230</td>\n      <td>0.38</td>\n      <td>1.30</td>\n      <td>0.032</td>\n      <td>29.0</td>\n      <td>112.0</td>\n      <td>0.99298</td>\n      <td>3.29</td>\n      <td>0.54</td>\n      <td>9.7</td>\n      <td>5</td>\n    </tr>\n    <tr>\n      <th>4893</th>\n      <td>6.2</td>\n      <td>0.210</td>\n      <td>0.29</td>\n      <td>1.60</td>\n      <td>0.039</td>\n      <td>24.0</td>\n      <td>92.0</td>\n      <td>0.99114</td>\n      <td>3.27</td>\n      <td>0.50</td>\n      <td>11.2</td>\n      <td>6</td>\n    </tr>\n    <tr>\n      <th>4894</th>\n      <td>6.6</td>\n      <td>0.320</td>\n      <td>0.36</td>\n      <td>8.00</td>\n      <td>0.047</td>\n      <td>57.0</td>\n      <td>168.0</td>\n      <td>0.99490</td>\n      <td>3.15</td>\n      <td>0.46</td>\n      <td>9.6</td>\n      <td>5</td>\n    </tr>\n    <tr>\n      <th>4895</th>\n      <td>6.5</td>\n      <td>0.240</td>\n      <td>0.19</td>\n      <td>1.20</td>\n      <td>0.041</td>\n      <td>30.0</td>\n      <td>111.0</td>\n      <td>0.99254</td>\n      <td>2.99</td>\n      <td>0.46</td>\n      <td>9.4</td>\n      <td>6</td>\n    </tr>\n    <tr>\n      <th>4896</th>\n      <td>5.5</td>\n      <td>0.290</td>\n      <td>0.30</td>\n      <td>1.10</td>\n      <td>0.022</td>\n      <td>20.0</td>\n      <td>110.0</td>\n      <td>0.98869</td>\n      <td>3.34</td>\n      <td>0.38</td>\n      <td>12.8</td>\n      <td>7</td>\n    </tr>\n    <tr>\n      <th>4897</th>\n      <td>6.0</td>\n      <td>0.210</td>\n      <td>0.38</td>\n      <td>0.80</td>\n      <td>0.020</td>\n      <td>22.0</td>\n      <td>98.0</td>\n      <td>0.98941</td>\n      <td>3.26</td>\n      <td>0.32</td>\n      <td>11.8</td>\n      <td>6</td>\n    </tr>\n  </tbody>\n</table>\n</div>"
     },
     "execution_count": 17,
     "metadata": {},
     "output_type": "execute_result"
    }
   ],
   "source": [
    "wine_scramble"
   ],
   "metadata": {
    "collapsed": false
   }
  },
  {
   "cell_type": "code",
   "execution_count": 18,
   "outputs": [],
   "source": [
    "wine_scramble = pd.concat([data2, data1, data3], axis=0)"
   ],
   "metadata": {
    "collapsed": false
   }
  },
  {
   "cell_type": "code",
   "execution_count": 19,
   "outputs": [
    {
     "data": {
      "text/plain": "      fixed acidity  volatile acidity  citric acid  residual sugar  chlorides  \\\n300             7.5             0.530         0.06            2.60      0.086   \n301            11.1             0.180         0.48            1.50      0.068   \n302             8.3             0.705         0.12            2.60      0.092   \n303             7.4             0.670         0.12            1.60      0.186   \n304             8.4             0.650         0.60            2.10      0.112   \n305            10.3             0.530         0.48            2.50      0.063   \n306             7.6             0.620         0.32            2.20      0.082   \n307            10.3             0.410         0.42            2.40      0.213   \n308            10.3             0.430         0.44            2.40      0.214   \n309             7.4             0.290         0.38            1.70      0.062   \n0               7.4             0.700         0.00            1.90      0.076   \n1               7.8             0.880         0.00            2.60      0.098   \n2               7.8             0.760         0.04            2.30      0.092   \n3              11.2             0.280         0.56            1.90      0.075   \n4               7.4             0.700         0.00            1.90      0.076   \n5               7.4             0.660         0.00            1.80      0.075   \n6               7.9             0.600         0.06            1.60      0.069   \n7               7.3             0.650         0.00            1.20      0.065   \n8               7.8             0.580         0.02            2.00      0.073   \n9               7.5             0.500         0.36            6.10      0.071   \n4888            6.8             0.220         0.36            1.20      0.052   \n4889            4.9             0.235         0.27           11.75      0.030   \n4890            6.1             0.340         0.29            2.20      0.036   \n4891            5.7             0.210         0.32            0.90      0.038   \n4892            6.5             0.230         0.38            1.30      0.032   \n4893            6.2             0.210         0.29            1.60      0.039   \n4894            6.6             0.320         0.36            8.00      0.047   \n4895            6.5             0.240         0.19            1.20      0.041   \n4896            5.5             0.290         0.30            1.10      0.022   \n4897            6.0             0.210         0.38            0.80      0.020   \n\n      free sulfur dioxide  total sulfur dioxide  density    pH  sulphates  \\\n300                  20.0                  44.0  0.99650  3.38       0.59   \n301                   7.0                  15.0  0.99730  3.22       0.64   \n302                  12.0                  28.0  0.99940  3.51       0.72   \n303                   5.0                  21.0  0.99600  3.39       0.54   \n304                  12.0                  90.0  0.99730  3.20       0.52   \n305                   6.0                  25.0  0.99980  3.12       0.59   \n306                   7.0                  54.0  0.99660  3.36       0.52   \n307                   6.0                  14.0  0.99940  3.19       0.62   \n308                   5.0                  12.0  0.99940  3.19       0.63   \n309                   9.0                  30.0  0.99680  3.41       0.53   \n0                    11.0                  34.0  0.99780  3.51       0.56   \n1                    25.0                  67.0  0.99680  3.20       0.68   \n2                    15.0                  54.0  0.99700  3.26       0.65   \n3                    17.0                  60.0  0.99800  3.16       0.58   \n4                    11.0                  34.0  0.99780  3.51       0.56   \n5                    13.0                  40.0  0.99780  3.51       0.56   \n6                    15.0                  59.0  0.99640  3.30       0.46   \n7                    15.0                  21.0  0.99460  3.39       0.47   \n8                     9.0                  18.0  0.99680  3.36       0.57   \n9                    17.0                 102.0  0.99780  3.35       0.80   \n4888                 38.0                 127.0  0.99330  3.04       0.54   \n4889                 34.0                 118.0  0.99540  3.07       0.50   \n4890                 25.0                 100.0  0.98938  3.06       0.44   \n4891                 38.0                 121.0  0.99074  3.24       0.46   \n4892                 29.0                 112.0  0.99298  3.29       0.54   \n4893                 24.0                  92.0  0.99114  3.27       0.50   \n4894                 57.0                 168.0  0.99490  3.15       0.46   \n4895                 30.0                 111.0  0.99254  2.99       0.46   \n4896                 20.0                 110.0  0.98869  3.34       0.38   \n4897                 22.0                  98.0  0.98941  3.26       0.32   \n\n      alcohol  quality  \n300      10.7        6  \n301      10.1        6  \n302      10.0        5  \n303       9.5        5  \n304       9.2        5  \n305       9.3        6  \n306       9.4        5  \n307       9.5        6  \n308       9.5        6  \n309       9.5        6  \n0         9.4        5  \n1         9.8        5  \n2         9.8        5  \n3         9.8        6  \n4         9.4        5  \n5         9.4        5  \n6         9.4        5  \n7        10.0        7  \n8         9.5        7  \n9        10.5        5  \n4888      9.2        5  \n4889      9.4        6  \n4890     11.8        6  \n4891     10.6        6  \n4892      9.7        5  \n4893     11.2        6  \n4894      9.6        5  \n4895      9.4        6  \n4896     12.8        7  \n4897     11.8        6  ",
      "text/html": "<div>\n<style scoped>\n    .dataframe tbody tr th:only-of-type {\n        vertical-align: middle;\n    }\n\n    .dataframe tbody tr th {\n        vertical-align: top;\n    }\n\n    .dataframe thead th {\n        text-align: right;\n    }\n</style>\n<table border=\"1\" class=\"dataframe\">\n  <thead>\n    <tr style=\"text-align: right;\">\n      <th></th>\n      <th>fixed acidity</th>\n      <th>volatile acidity</th>\n      <th>citric acid</th>\n      <th>residual sugar</th>\n      <th>chlorides</th>\n      <th>free sulfur dioxide</th>\n      <th>total sulfur dioxide</th>\n      <th>density</th>\n      <th>pH</th>\n      <th>sulphates</th>\n      <th>alcohol</th>\n      <th>quality</th>\n    </tr>\n  </thead>\n  <tbody>\n    <tr>\n      <th>300</th>\n      <td>7.5</td>\n      <td>0.530</td>\n      <td>0.06</td>\n      <td>2.60</td>\n      <td>0.086</td>\n      <td>20.0</td>\n      <td>44.0</td>\n      <td>0.99650</td>\n      <td>3.38</td>\n      <td>0.59</td>\n      <td>10.7</td>\n      <td>6</td>\n    </tr>\n    <tr>\n      <th>301</th>\n      <td>11.1</td>\n      <td>0.180</td>\n      <td>0.48</td>\n      <td>1.50</td>\n      <td>0.068</td>\n      <td>7.0</td>\n      <td>15.0</td>\n      <td>0.99730</td>\n      <td>3.22</td>\n      <td>0.64</td>\n      <td>10.1</td>\n      <td>6</td>\n    </tr>\n    <tr>\n      <th>302</th>\n      <td>8.3</td>\n      <td>0.705</td>\n      <td>0.12</td>\n      <td>2.60</td>\n      <td>0.092</td>\n      <td>12.0</td>\n      <td>28.0</td>\n      <td>0.99940</td>\n      <td>3.51</td>\n      <td>0.72</td>\n      <td>10.0</td>\n      <td>5</td>\n    </tr>\n    <tr>\n      <th>303</th>\n      <td>7.4</td>\n      <td>0.670</td>\n      <td>0.12</td>\n      <td>1.60</td>\n      <td>0.186</td>\n      <td>5.0</td>\n      <td>21.0</td>\n      <td>0.99600</td>\n      <td>3.39</td>\n      <td>0.54</td>\n      <td>9.5</td>\n      <td>5</td>\n    </tr>\n    <tr>\n      <th>304</th>\n      <td>8.4</td>\n      <td>0.650</td>\n      <td>0.60</td>\n      <td>2.10</td>\n      <td>0.112</td>\n      <td>12.0</td>\n      <td>90.0</td>\n      <td>0.99730</td>\n      <td>3.20</td>\n      <td>0.52</td>\n      <td>9.2</td>\n      <td>5</td>\n    </tr>\n    <tr>\n      <th>305</th>\n      <td>10.3</td>\n      <td>0.530</td>\n      <td>0.48</td>\n      <td>2.50</td>\n      <td>0.063</td>\n      <td>6.0</td>\n      <td>25.0</td>\n      <td>0.99980</td>\n      <td>3.12</td>\n      <td>0.59</td>\n      <td>9.3</td>\n      <td>6</td>\n    </tr>\n    <tr>\n      <th>306</th>\n      <td>7.6</td>\n      <td>0.620</td>\n      <td>0.32</td>\n      <td>2.20</td>\n      <td>0.082</td>\n      <td>7.0</td>\n      <td>54.0</td>\n      <td>0.99660</td>\n      <td>3.36</td>\n      <td>0.52</td>\n      <td>9.4</td>\n      <td>5</td>\n    </tr>\n    <tr>\n      <th>307</th>\n      <td>10.3</td>\n      <td>0.410</td>\n      <td>0.42</td>\n      <td>2.40</td>\n      <td>0.213</td>\n      <td>6.0</td>\n      <td>14.0</td>\n      <td>0.99940</td>\n      <td>3.19</td>\n      <td>0.62</td>\n      <td>9.5</td>\n      <td>6</td>\n    </tr>\n    <tr>\n      <th>308</th>\n      <td>10.3</td>\n      <td>0.430</td>\n      <td>0.44</td>\n      <td>2.40</td>\n      <td>0.214</td>\n      <td>5.0</td>\n      <td>12.0</td>\n      <td>0.99940</td>\n      <td>3.19</td>\n      <td>0.63</td>\n      <td>9.5</td>\n      <td>6</td>\n    </tr>\n    <tr>\n      <th>309</th>\n      <td>7.4</td>\n      <td>0.290</td>\n      <td>0.38</td>\n      <td>1.70</td>\n      <td>0.062</td>\n      <td>9.0</td>\n      <td>30.0</td>\n      <td>0.99680</td>\n      <td>3.41</td>\n      <td>0.53</td>\n      <td>9.5</td>\n      <td>6</td>\n    </tr>\n    <tr>\n      <th>0</th>\n      <td>7.4</td>\n      <td>0.700</td>\n      <td>0.00</td>\n      <td>1.90</td>\n      <td>0.076</td>\n      <td>11.0</td>\n      <td>34.0</td>\n      <td>0.99780</td>\n      <td>3.51</td>\n      <td>0.56</td>\n      <td>9.4</td>\n      <td>5</td>\n    </tr>\n    <tr>\n      <th>1</th>\n      <td>7.8</td>\n      <td>0.880</td>\n      <td>0.00</td>\n      <td>2.60</td>\n      <td>0.098</td>\n      <td>25.0</td>\n      <td>67.0</td>\n      <td>0.99680</td>\n      <td>3.20</td>\n      <td>0.68</td>\n      <td>9.8</td>\n      <td>5</td>\n    </tr>\n    <tr>\n      <th>2</th>\n      <td>7.8</td>\n      <td>0.760</td>\n      <td>0.04</td>\n      <td>2.30</td>\n      <td>0.092</td>\n      <td>15.0</td>\n      <td>54.0</td>\n      <td>0.99700</td>\n      <td>3.26</td>\n      <td>0.65</td>\n      <td>9.8</td>\n      <td>5</td>\n    </tr>\n    <tr>\n      <th>3</th>\n      <td>11.2</td>\n      <td>0.280</td>\n      <td>0.56</td>\n      <td>1.90</td>\n      <td>0.075</td>\n      <td>17.0</td>\n      <td>60.0</td>\n      <td>0.99800</td>\n      <td>3.16</td>\n      <td>0.58</td>\n      <td>9.8</td>\n      <td>6</td>\n    </tr>\n    <tr>\n      <th>4</th>\n      <td>7.4</td>\n      <td>0.700</td>\n      <td>0.00</td>\n      <td>1.90</td>\n      <td>0.076</td>\n      <td>11.0</td>\n      <td>34.0</td>\n      <td>0.99780</td>\n      <td>3.51</td>\n      <td>0.56</td>\n      <td>9.4</td>\n      <td>5</td>\n    </tr>\n    <tr>\n      <th>5</th>\n      <td>7.4</td>\n      <td>0.660</td>\n      <td>0.00</td>\n      <td>1.80</td>\n      <td>0.075</td>\n      <td>13.0</td>\n      <td>40.0</td>\n      <td>0.99780</td>\n      <td>3.51</td>\n      <td>0.56</td>\n      <td>9.4</td>\n      <td>5</td>\n    </tr>\n    <tr>\n      <th>6</th>\n      <td>7.9</td>\n      <td>0.600</td>\n      <td>0.06</td>\n      <td>1.60</td>\n      <td>0.069</td>\n      <td>15.0</td>\n      <td>59.0</td>\n      <td>0.99640</td>\n      <td>3.30</td>\n      <td>0.46</td>\n      <td>9.4</td>\n      <td>5</td>\n    </tr>\n    <tr>\n      <th>7</th>\n      <td>7.3</td>\n      <td>0.650</td>\n      <td>0.00</td>\n      <td>1.20</td>\n      <td>0.065</td>\n      <td>15.0</td>\n      <td>21.0</td>\n      <td>0.99460</td>\n      <td>3.39</td>\n      <td>0.47</td>\n      <td>10.0</td>\n      <td>7</td>\n    </tr>\n    <tr>\n      <th>8</th>\n      <td>7.8</td>\n      <td>0.580</td>\n      <td>0.02</td>\n      <td>2.00</td>\n      <td>0.073</td>\n      <td>9.0</td>\n      <td>18.0</td>\n      <td>0.99680</td>\n      <td>3.36</td>\n      <td>0.57</td>\n      <td>9.5</td>\n      <td>7</td>\n    </tr>\n    <tr>\n      <th>9</th>\n      <td>7.5</td>\n      <td>0.500</td>\n      <td>0.36</td>\n      <td>6.10</td>\n      <td>0.071</td>\n      <td>17.0</td>\n      <td>102.0</td>\n      <td>0.99780</td>\n      <td>3.35</td>\n      <td>0.80</td>\n      <td>10.5</td>\n      <td>5</td>\n    </tr>\n    <tr>\n      <th>4888</th>\n      <td>6.8</td>\n      <td>0.220</td>\n      <td>0.36</td>\n      <td>1.20</td>\n      <td>0.052</td>\n      <td>38.0</td>\n      <td>127.0</td>\n      <td>0.99330</td>\n      <td>3.04</td>\n      <td>0.54</td>\n      <td>9.2</td>\n      <td>5</td>\n    </tr>\n    <tr>\n      <th>4889</th>\n      <td>4.9</td>\n      <td>0.235</td>\n      <td>0.27</td>\n      <td>11.75</td>\n      <td>0.030</td>\n      <td>34.0</td>\n      <td>118.0</td>\n      <td>0.99540</td>\n      <td>3.07</td>\n      <td>0.50</td>\n      <td>9.4</td>\n      <td>6</td>\n    </tr>\n    <tr>\n      <th>4890</th>\n      <td>6.1</td>\n      <td>0.340</td>\n      <td>0.29</td>\n      <td>2.20</td>\n      <td>0.036</td>\n      <td>25.0</td>\n      <td>100.0</td>\n      <td>0.98938</td>\n      <td>3.06</td>\n      <td>0.44</td>\n      <td>11.8</td>\n      <td>6</td>\n    </tr>\n    <tr>\n      <th>4891</th>\n      <td>5.7</td>\n      <td>0.210</td>\n      <td>0.32</td>\n      <td>0.90</td>\n      <td>0.038</td>\n      <td>38.0</td>\n      <td>121.0</td>\n      <td>0.99074</td>\n      <td>3.24</td>\n      <td>0.46</td>\n      <td>10.6</td>\n      <td>6</td>\n    </tr>\n    <tr>\n      <th>4892</th>\n      <td>6.5</td>\n      <td>0.230</td>\n      <td>0.38</td>\n      <td>1.30</td>\n      <td>0.032</td>\n      <td>29.0</td>\n      <td>112.0</td>\n      <td>0.99298</td>\n      <td>3.29</td>\n      <td>0.54</td>\n      <td>9.7</td>\n      <td>5</td>\n    </tr>\n    <tr>\n      <th>4893</th>\n      <td>6.2</td>\n      <td>0.210</td>\n      <td>0.29</td>\n      <td>1.60</td>\n      <td>0.039</td>\n      <td>24.0</td>\n      <td>92.0</td>\n      <td>0.99114</td>\n      <td>3.27</td>\n      <td>0.50</td>\n      <td>11.2</td>\n      <td>6</td>\n    </tr>\n    <tr>\n      <th>4894</th>\n      <td>6.6</td>\n      <td>0.320</td>\n      <td>0.36</td>\n      <td>8.00</td>\n      <td>0.047</td>\n      <td>57.0</td>\n      <td>168.0</td>\n      <td>0.99490</td>\n      <td>3.15</td>\n      <td>0.46</td>\n      <td>9.6</td>\n      <td>5</td>\n    </tr>\n    <tr>\n      <th>4895</th>\n      <td>6.5</td>\n      <td>0.240</td>\n      <td>0.19</td>\n      <td>1.20</td>\n      <td>0.041</td>\n      <td>30.0</td>\n      <td>111.0</td>\n      <td>0.99254</td>\n      <td>2.99</td>\n      <td>0.46</td>\n      <td>9.4</td>\n      <td>6</td>\n    </tr>\n    <tr>\n      <th>4896</th>\n      <td>5.5</td>\n      <td>0.290</td>\n      <td>0.30</td>\n      <td>1.10</td>\n      <td>0.022</td>\n      <td>20.0</td>\n      <td>110.0</td>\n      <td>0.98869</td>\n      <td>3.34</td>\n      <td>0.38</td>\n      <td>12.8</td>\n      <td>7</td>\n    </tr>\n    <tr>\n      <th>4897</th>\n      <td>6.0</td>\n      <td>0.210</td>\n      <td>0.38</td>\n      <td>0.80</td>\n      <td>0.020</td>\n      <td>22.0</td>\n      <td>98.0</td>\n      <td>0.98941</td>\n      <td>3.26</td>\n      <td>0.32</td>\n      <td>11.8</td>\n      <td>6</td>\n    </tr>\n  </tbody>\n</table>\n</div>"
     },
     "execution_count": 19,
     "metadata": {},
     "output_type": "execute_result"
    }
   ],
   "source": [
    "wine_scramble"
   ],
   "metadata": {
    "collapsed": false
   }
  },
  {
   "cell_type": "markdown",
   "source": [
    "Como se puede apreciar, el orden queda definido por el orden que pongamos entre los paréntesis."
   ],
   "metadata": {
    "collapsed": false
   }
  },
  {
   "cell_type": "code",
   "execution_count": null,
   "outputs": [],
   "source": [],
   "metadata": {
    "collapsed": false
   }
  }
 ],
 "metadata": {
  "kernelspec": {
   "display_name": "Python 3",
   "language": "python",
   "name": "python3"
  },
  "language_info": {
   "codemirror_mode": {
    "name": "ipython",
    "version": 2
   },
   "file_extension": ".py",
   "mimetype": "text/x-python",
   "name": "python",
   "nbconvert_exporter": "python",
   "pygments_lexer": "ipython2",
   "version": "2.7.6"
  }
 },
 "nbformat": 4,
 "nbformat_minor": 0
}
