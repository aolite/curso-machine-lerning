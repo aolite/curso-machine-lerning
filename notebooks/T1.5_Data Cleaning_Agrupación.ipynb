{
 "cells": [
  {
   "cell_type": "markdown",
   "source": [
    "# Data Cleaning- Agrupación de datos"
   ],
   "metadata": {
    "collapsed": false
   }
  },
  {
   "cell_type": "markdown",
   "source": [
    "## Variables categoricas\n",
    "\n",
    "Son variables agrupadas que ayuden a la categorización de las variables y por ende, a modelar o ayudar a construir el modelo analítico. Lo primero que vamos a hacer es un \"dummy\" dataset que no incluya solo variables numéricas sino tambien, variables categóricas."
   ],
   "metadata": {
    "collapsed": false
   }
  },
  {
   "cell_type": "code",
   "execution_count": 56,
   "outputs": [],
   "source": [
    "import numpy as np\n",
    "import pandas as pd\n",
    "import matplotlib.pyplot as plt\n",
    "from sklearn.model_selection import train_test_split\n",
    "from sklearn.utils import shuffle"
   ],
   "metadata": {
    "collapsed": false
   }
  },
  {
   "cell_type": "markdown",
   "source": [
    "Lo primero que generamos las variables categóricas (variables no numéricas):"
   ],
   "metadata": {
    "collapsed": false
   }
  },
  {
   "cell_type": "code",
   "execution_count": 3,
   "outputs": [],
   "source": [
    "gender= ['male', 'female']\n",
    "income = ['Poor', 'Middle Class', 'Rich']"
   ],
   "metadata": {
    "collapsed": false
   }
  },
  {
   "cell_type": "markdown",
   "source": [
    "Ahora vamos a generar dos colecciones de género y de ingresos:"
   ],
   "metadata": {
    "collapsed": false
   }
  },
  {
   "cell_type": "code",
   "execution_count": 4,
   "outputs": [],
   "source": [
    "n = 500\n",
    "gender_data = [np.random.choice(gender) for _ in range(0,500)]\n",
    "income_data = [np.random.choice(income) for _ in range(0,500)]"
   ],
   "metadata": {
    "collapsed": false
   }
  },
  {
   "cell_type": "code",
   "execution_count": 5,
   "outputs": [
    {
     "name": "stdout",
     "output_type": "stream",
     "text": [
      "500\n",
      "500\n"
     ]
    }
   ],
   "source": [
    "print (len(gender_data))\n",
    "print(len(income_data))"
   ],
   "metadata": {
    "collapsed": false
   }
  },
  {
   "cell_type": "markdown",
   "source": [
    "Ahora vamos a generar datos numéricos:"
   ],
   "metadata": {
    "collapsed": false
   }
  },
  {
   "cell_type": "code",
   "execution_count": 6,
   "outputs": [],
   "source": [
    "height = 160 + 30 * np.random.randn(n)\n",
    "weight = 60 + 25 * np.random.randn(n)\n",
    "age = 30 + 12 * np.random.randn(n)\n",
    "income = 18000 + 3500 * np.random.randn(n)"
   ],
   "metadata": {
    "collapsed": false
   }
  },
  {
   "cell_type": "code",
   "execution_count": 7,
   "outputs": [],
   "source": [
    "data = pd.DataFrame({\n",
    "    'gender': gender_data,\n",
    "    'Economic Status': income_data,\n",
    "    'Height': height,\n",
    "    'Weight': weight,\n",
    "    'Age': age,\n",
    "    'Income': income\n",
    "})"
   ],
   "metadata": {
    "collapsed": false
   }
  },
  {
   "cell_type": "code",
   "execution_count": 8,
   "outputs": [
    {
     "data": {
      "text/plain": "   gender Economic Status      Height      Weight        Age        Income\n0    male    Middle Class  187.400352  100.525714  39.652301  14766.345719\n1    male    Middle Class  208.274377   70.009311  12.164417  20039.623517\n2  female            Rich  154.695262   55.054796  47.636092  23082.904902\n3  female            Rich  153.274326   46.044348  31.818498  16178.471758\n4  female    Middle Class  144.197292   72.570988  35.220431  20679.051169",
      "text/html": "<div>\n<style scoped>\n    .dataframe tbody tr th:only-of-type {\n        vertical-align: middle;\n    }\n\n    .dataframe tbody tr th {\n        vertical-align: top;\n    }\n\n    .dataframe thead th {\n        text-align: right;\n    }\n</style>\n<table border=\"1\" class=\"dataframe\">\n  <thead>\n    <tr style=\"text-align: right;\">\n      <th></th>\n      <th>gender</th>\n      <th>Economic Status</th>\n      <th>Height</th>\n      <th>Weight</th>\n      <th>Age</th>\n      <th>Income</th>\n    </tr>\n  </thead>\n  <tbody>\n    <tr>\n      <th>0</th>\n      <td>male</td>\n      <td>Middle Class</td>\n      <td>187.400352</td>\n      <td>100.525714</td>\n      <td>39.652301</td>\n      <td>14766.345719</td>\n    </tr>\n    <tr>\n      <th>1</th>\n      <td>male</td>\n      <td>Middle Class</td>\n      <td>208.274377</td>\n      <td>70.009311</td>\n      <td>12.164417</td>\n      <td>20039.623517</td>\n    </tr>\n    <tr>\n      <th>2</th>\n      <td>female</td>\n      <td>Rich</td>\n      <td>154.695262</td>\n      <td>55.054796</td>\n      <td>47.636092</td>\n      <td>23082.904902</td>\n    </tr>\n    <tr>\n      <th>3</th>\n      <td>female</td>\n      <td>Rich</td>\n      <td>153.274326</td>\n      <td>46.044348</td>\n      <td>31.818498</td>\n      <td>16178.471758</td>\n    </tr>\n    <tr>\n      <th>4</th>\n      <td>female</td>\n      <td>Middle Class</td>\n      <td>144.197292</td>\n      <td>72.570988</td>\n      <td>35.220431</td>\n      <td>20679.051169</td>\n    </tr>\n  </tbody>\n</table>\n</div>"
     },
     "execution_count": 8,
     "metadata": {},
     "output_type": "execute_result"
    }
   ],
   "source": [
    "data.head()"
   ],
   "metadata": {
    "collapsed": false
   }
  },
  {
   "cell_type": "markdown",
   "source": [
    "## Agrupación de las variables categóricas"
   ],
   "metadata": {
    "collapsed": false
   }
  },
  {
   "cell_type": "markdown",
   "source": [
    "Para realizar una agrupación de variables categóricas se hace con la función 'Group_by' que se encuentra dentro de pandas.Dataframe:"
   ],
   "metadata": {
    "collapsed": false
   }
  },
  {
   "cell_type": "code",
   "execution_count": 9,
   "outputs": [],
   "source": [
    "grouped_gender = data.groupby('gender')"
   ],
   "metadata": {
    "collapsed": false
   }
  },
  {
   "cell_type": "code",
   "execution_count": 10,
   "outputs": [
    {
     "data": {
      "text/plain": "{'female': [2, 3, 4, 6, 7, 10, 11, 14, 15, 16, 18, 19, 22, 23, 25, 28, 31, 32, 33, 34, 35, 36, 38, 39, 41, 42, 43, 45, 46, 47, 48, 49, 51, 53, 54, 55, 61, 63, 64, 65, 68, 69, 70, 71, 72, 73, 74, 78, 79, 81, 82, 85, 86, 90, 92, 93, 94, 95, 96, 99, 100, 107, 108, 110, 111, 112, 116, 118, 127, 133, 135, 136, 137, 138, 139, 145, 146, 148, 149, 150, 155, 156, 159, 163, 164, 165, 167, 172, 173, 177, 178, 180, 181, 182, 183, 186, 187, 189, 190, 191, ...], 'male': [0, 1, 5, 8, 9, 12, 13, 17, 20, 21, 24, 26, 27, 29, 30, 37, 40, 44, 50, 52, 56, 57, 58, 59, 60, 62, 66, 67, 75, 76, 77, 80, 83, 84, 87, 88, 89, 91, 97, 98, 101, 102, 103, 104, 105, 106, 109, 113, 114, 115, 117, 119, 120, 121, 122, 123, 124, 125, 126, 128, 129, 130, 131, 132, 134, 140, 141, 142, 143, 144, 147, 151, 152, 153, 154, 157, 158, 160, 161, 162, 166, 168, 169, 170, 171, 174, 175, 176, 179, 184, 185, 188, 192, 193, 194, 197, 199, 200, 201, 202, ...]}"
     },
     "execution_count": 10,
     "metadata": {},
     "output_type": "execute_result"
    }
   ],
   "source": [
    "grouped_gender.groups"
   ],
   "metadata": {
    "collapsed": false
   }
  },
  {
   "cell_type": "code",
   "execution_count": 11,
   "outputs": [],
   "source": [
    "double_group = data.groupby(['gender', 'Economic Status'])"
   ],
   "metadata": {
    "collapsed": false
   }
  },
  {
   "cell_type": "code",
   "execution_count": 12,
   "outputs": [
    {
     "name": "stdout",
     "output_type": "stream",
     "text": [
      "female\n",
      "     gender Economic Status      Height     Weight        Age        Income\n",
      "2    female            Rich  154.695262  55.054796  47.636092  23082.904902\n",
      "3    female            Rich  153.274326  46.044348  31.818498  16178.471758\n",
      "4    female    Middle Class  144.197292  72.570988  35.220431  20679.051169\n",
      "6    female            Rich  164.081818  71.508743  22.105400  20906.832620\n",
      "7    female            Rich   81.914447  64.429995  39.887491  18025.840003\n",
      "..      ...             ...         ...        ...        ...           ...\n",
      "490  female    Middle Class  139.558774  65.454336  33.487915  21644.467152\n",
      "492  female    Middle Class  136.404396  56.977518  31.686244  19923.686299\n",
      "493  female            Rich  134.243128  91.190068  31.142468  17238.533324\n",
      "495  female    Middle Class  170.205510  92.647577  41.008380  20740.741639\n",
      "497  female            Poor  146.880521  64.184242  15.719935  18656.925705\n",
      "\n",
      "[241 rows x 6 columns]\n",
      "male\n",
      "    gender Economic Status      Height      Weight        Age        Income\n",
      "0     male    Middle Class  187.400352  100.525714  39.652301  14766.345719\n",
      "1     male    Middle Class  208.274377   70.009311  12.164417  20039.623517\n",
      "5     male            Poor  162.158989   45.024294  15.338597  19437.528956\n",
      "8     male            Poor  148.299744   36.688297  40.194151  16224.611241\n",
      "9     male            Rich  177.993166   59.133404  42.984342  14089.175685\n",
      "..     ...             ...         ...         ...        ...           ...\n",
      "491   male            Rich  213.258048   68.856812  25.538300  12920.897623\n",
      "494   male            Rich  186.056514   78.129525  32.739831  16351.167384\n",
      "496   male            Poor  198.120466   65.855149  48.104534  18565.450027\n",
      "498   male    Middle Class  189.193907   52.427101  27.452783  19379.379483\n",
      "499   male    Middle Class  178.501571   25.569500  30.998459  15127.541568\n",
      "\n",
      "[259 rows x 6 columns]\n"
     ]
    }
   ],
   "source": [
    "for names, groups in grouped_gender:\n",
    "    print(names)\n",
    "    print(groups)"
   ],
   "metadata": {
    "collapsed": false
   }
  },
  {
   "cell_type": "code",
   "execution_count": 13,
   "outputs": [
    {
     "data": {
      "text/plain": "     gender Economic Status      Height     Weight        Age        Income\n2    female            Rich  154.695262  55.054796  47.636092  23082.904902\n3    female            Rich  153.274326  46.044348  31.818498  16178.471758\n4    female    Middle Class  144.197292  72.570988  35.220431  20679.051169\n6    female            Rich  164.081818  71.508743  22.105400  20906.832620\n7    female            Rich   81.914447  64.429995  39.887491  18025.840003\n..      ...             ...         ...        ...        ...           ...\n490  female    Middle Class  139.558774  65.454336  33.487915  21644.467152\n492  female    Middle Class  136.404396  56.977518  31.686244  19923.686299\n493  female            Rich  134.243128  91.190068  31.142468  17238.533324\n495  female    Middle Class  170.205510  92.647577  41.008380  20740.741639\n497  female            Poor  146.880521  64.184242  15.719935  18656.925705\n\n[241 rows x 6 columns]",
      "text/html": "<div>\n<style scoped>\n    .dataframe tbody tr th:only-of-type {\n        vertical-align: middle;\n    }\n\n    .dataframe tbody tr th {\n        vertical-align: top;\n    }\n\n    .dataframe thead th {\n        text-align: right;\n    }\n</style>\n<table border=\"1\" class=\"dataframe\">\n  <thead>\n    <tr style=\"text-align: right;\">\n      <th></th>\n      <th>gender</th>\n      <th>Economic Status</th>\n      <th>Height</th>\n      <th>Weight</th>\n      <th>Age</th>\n      <th>Income</th>\n    </tr>\n  </thead>\n  <tbody>\n    <tr>\n      <th>2</th>\n      <td>female</td>\n      <td>Rich</td>\n      <td>154.695262</td>\n      <td>55.054796</td>\n      <td>47.636092</td>\n      <td>23082.904902</td>\n    </tr>\n    <tr>\n      <th>3</th>\n      <td>female</td>\n      <td>Rich</td>\n      <td>153.274326</td>\n      <td>46.044348</td>\n      <td>31.818498</td>\n      <td>16178.471758</td>\n    </tr>\n    <tr>\n      <th>4</th>\n      <td>female</td>\n      <td>Middle Class</td>\n      <td>144.197292</td>\n      <td>72.570988</td>\n      <td>35.220431</td>\n      <td>20679.051169</td>\n    </tr>\n    <tr>\n      <th>6</th>\n      <td>female</td>\n      <td>Rich</td>\n      <td>164.081818</td>\n      <td>71.508743</td>\n      <td>22.105400</td>\n      <td>20906.832620</td>\n    </tr>\n    <tr>\n      <th>7</th>\n      <td>female</td>\n      <td>Rich</td>\n      <td>81.914447</td>\n      <td>64.429995</td>\n      <td>39.887491</td>\n      <td>18025.840003</td>\n    </tr>\n    <tr>\n      <th>...</th>\n      <td>...</td>\n      <td>...</td>\n      <td>...</td>\n      <td>...</td>\n      <td>...</td>\n      <td>...</td>\n    </tr>\n    <tr>\n      <th>490</th>\n      <td>female</td>\n      <td>Middle Class</td>\n      <td>139.558774</td>\n      <td>65.454336</td>\n      <td>33.487915</td>\n      <td>21644.467152</td>\n    </tr>\n    <tr>\n      <th>492</th>\n      <td>female</td>\n      <td>Middle Class</td>\n      <td>136.404396</td>\n      <td>56.977518</td>\n      <td>31.686244</td>\n      <td>19923.686299</td>\n    </tr>\n    <tr>\n      <th>493</th>\n      <td>female</td>\n      <td>Rich</td>\n      <td>134.243128</td>\n      <td>91.190068</td>\n      <td>31.142468</td>\n      <td>17238.533324</td>\n    </tr>\n    <tr>\n      <th>495</th>\n      <td>female</td>\n      <td>Middle Class</td>\n      <td>170.205510</td>\n      <td>92.647577</td>\n      <td>41.008380</td>\n      <td>20740.741639</td>\n    </tr>\n    <tr>\n      <th>497</th>\n      <td>female</td>\n      <td>Poor</td>\n      <td>146.880521</td>\n      <td>64.184242</td>\n      <td>15.719935</td>\n      <td>18656.925705</td>\n    </tr>\n  </tbody>\n</table>\n<p>241 rows × 6 columns</p>\n</div>"
     },
     "execution_count": 13,
     "metadata": {},
     "output_type": "execute_result"
    }
   ],
   "source": [
    "grouped_gender.get_group('female')"
   ],
   "metadata": {
    "collapsed": false
   }
  },
  {
   "cell_type": "code",
   "execution_count": 14,
   "outputs": [
    {
     "data": {
      "text/plain": "    gender Economic Status      Height      Weight        Age        Income\n0     male    Middle Class  187.400352  100.525714  39.652301  14766.345719\n1     male    Middle Class  208.274377   70.009311  12.164417  20039.623517\n2   female            Rich  154.695262   55.054796  47.636092  23082.904902\n3   female            Rich  153.274326   46.044348  31.818498  16178.471758\n4   female    Middle Class  144.197292   72.570988  35.220431  20679.051169\n5     male            Poor  162.158989   45.024294  15.338597  19437.528956\n6   female            Rich  164.081818   71.508743  22.105400  20906.832620\n7   female            Rich   81.914447   64.429995  39.887491  18025.840003\n8     male            Poor  148.299744   36.688297  40.194151  16224.611241\n9     male            Rich  177.993166   59.133404  42.984342  14089.175685\n10  female            Poor  133.690562   72.858753  28.878183  24576.219405\n11  female            Poor  167.759315   63.954734  10.104693  19761.738961\n12    male            Poor  129.062825   14.047691  29.971814  14143.398951\n13    male            Poor  154.110686   62.604539  42.539029  15843.753063\n14  female            Poor  138.078229   76.423211  37.658469  21155.200749\n15  female            Rich  145.264275   26.191950  26.847614  19781.110627\n16  female            Poor  224.151166   -2.256329  26.240004  16393.491492\n17    male            Poor  105.726091   57.009221  27.004740  19948.137667\n19  female            Poor  182.849758   44.264053  31.921526  18319.166130\n20    male            Rich  170.064030   66.328136  12.377199  13155.069766\n24    male    Middle Class  193.478226   57.441193  35.971192  10850.471222\n26    male            Rich  174.591180   44.679830  12.248838  15145.996940\n27    male    Middle Class  173.033967   41.250377  43.376946  17663.359072\n30    male    Middle Class  183.903366   40.751683  32.059063  20140.162915\n31  female    Middle Class  206.288327   65.950633  20.165422  21076.163289\n33  female    Middle Class  179.510317   10.285580  29.638286  20918.349964\n41  female    Middle Class  163.162808   79.310224  38.074959  20896.501753\n43  female    Middle Class  182.426517   79.225558  25.952079  23653.915118\n58    male            Rich  128.877046   63.364152  55.949730  22030.685856\n75    male            Rich  137.309167  104.731761  23.897041  19795.869132",
      "text/html": "<div>\n<style scoped>\n    .dataframe tbody tr th:only-of-type {\n        vertical-align: middle;\n    }\n\n    .dataframe tbody tr th {\n        vertical-align: top;\n    }\n\n    .dataframe thead th {\n        text-align: right;\n    }\n</style>\n<table border=\"1\" class=\"dataframe\">\n  <thead>\n    <tr style=\"text-align: right;\">\n      <th></th>\n      <th>gender</th>\n      <th>Economic Status</th>\n      <th>Height</th>\n      <th>Weight</th>\n      <th>Age</th>\n      <th>Income</th>\n    </tr>\n  </thead>\n  <tbody>\n    <tr>\n      <th>0</th>\n      <td>male</td>\n      <td>Middle Class</td>\n      <td>187.400352</td>\n      <td>100.525714</td>\n      <td>39.652301</td>\n      <td>14766.345719</td>\n    </tr>\n    <tr>\n      <th>1</th>\n      <td>male</td>\n      <td>Middle Class</td>\n      <td>208.274377</td>\n      <td>70.009311</td>\n      <td>12.164417</td>\n      <td>20039.623517</td>\n    </tr>\n    <tr>\n      <th>2</th>\n      <td>female</td>\n      <td>Rich</td>\n      <td>154.695262</td>\n      <td>55.054796</td>\n      <td>47.636092</td>\n      <td>23082.904902</td>\n    </tr>\n    <tr>\n      <th>3</th>\n      <td>female</td>\n      <td>Rich</td>\n      <td>153.274326</td>\n      <td>46.044348</td>\n      <td>31.818498</td>\n      <td>16178.471758</td>\n    </tr>\n    <tr>\n      <th>4</th>\n      <td>female</td>\n      <td>Middle Class</td>\n      <td>144.197292</td>\n      <td>72.570988</td>\n      <td>35.220431</td>\n      <td>20679.051169</td>\n    </tr>\n    <tr>\n      <th>5</th>\n      <td>male</td>\n      <td>Poor</td>\n      <td>162.158989</td>\n      <td>45.024294</td>\n      <td>15.338597</td>\n      <td>19437.528956</td>\n    </tr>\n    <tr>\n      <th>6</th>\n      <td>female</td>\n      <td>Rich</td>\n      <td>164.081818</td>\n      <td>71.508743</td>\n      <td>22.105400</td>\n      <td>20906.832620</td>\n    </tr>\n    <tr>\n      <th>7</th>\n      <td>female</td>\n      <td>Rich</td>\n      <td>81.914447</td>\n      <td>64.429995</td>\n      <td>39.887491</td>\n      <td>18025.840003</td>\n    </tr>\n    <tr>\n      <th>8</th>\n      <td>male</td>\n      <td>Poor</td>\n      <td>148.299744</td>\n      <td>36.688297</td>\n      <td>40.194151</td>\n      <td>16224.611241</td>\n    </tr>\n    <tr>\n      <th>9</th>\n      <td>male</td>\n      <td>Rich</td>\n      <td>177.993166</td>\n      <td>59.133404</td>\n      <td>42.984342</td>\n      <td>14089.175685</td>\n    </tr>\n    <tr>\n      <th>10</th>\n      <td>female</td>\n      <td>Poor</td>\n      <td>133.690562</td>\n      <td>72.858753</td>\n      <td>28.878183</td>\n      <td>24576.219405</td>\n    </tr>\n    <tr>\n      <th>11</th>\n      <td>female</td>\n      <td>Poor</td>\n      <td>167.759315</td>\n      <td>63.954734</td>\n      <td>10.104693</td>\n      <td>19761.738961</td>\n    </tr>\n    <tr>\n      <th>12</th>\n      <td>male</td>\n      <td>Poor</td>\n      <td>129.062825</td>\n      <td>14.047691</td>\n      <td>29.971814</td>\n      <td>14143.398951</td>\n    </tr>\n    <tr>\n      <th>13</th>\n      <td>male</td>\n      <td>Poor</td>\n      <td>154.110686</td>\n      <td>62.604539</td>\n      <td>42.539029</td>\n      <td>15843.753063</td>\n    </tr>\n    <tr>\n      <th>14</th>\n      <td>female</td>\n      <td>Poor</td>\n      <td>138.078229</td>\n      <td>76.423211</td>\n      <td>37.658469</td>\n      <td>21155.200749</td>\n    </tr>\n    <tr>\n      <th>15</th>\n      <td>female</td>\n      <td>Rich</td>\n      <td>145.264275</td>\n      <td>26.191950</td>\n      <td>26.847614</td>\n      <td>19781.110627</td>\n    </tr>\n    <tr>\n      <th>16</th>\n      <td>female</td>\n      <td>Poor</td>\n      <td>224.151166</td>\n      <td>-2.256329</td>\n      <td>26.240004</td>\n      <td>16393.491492</td>\n    </tr>\n    <tr>\n      <th>17</th>\n      <td>male</td>\n      <td>Poor</td>\n      <td>105.726091</td>\n      <td>57.009221</td>\n      <td>27.004740</td>\n      <td>19948.137667</td>\n    </tr>\n    <tr>\n      <th>19</th>\n      <td>female</td>\n      <td>Poor</td>\n      <td>182.849758</td>\n      <td>44.264053</td>\n      <td>31.921526</td>\n      <td>18319.166130</td>\n    </tr>\n    <tr>\n      <th>20</th>\n      <td>male</td>\n      <td>Rich</td>\n      <td>170.064030</td>\n      <td>66.328136</td>\n      <td>12.377199</td>\n      <td>13155.069766</td>\n    </tr>\n    <tr>\n      <th>24</th>\n      <td>male</td>\n      <td>Middle Class</td>\n      <td>193.478226</td>\n      <td>57.441193</td>\n      <td>35.971192</td>\n      <td>10850.471222</td>\n    </tr>\n    <tr>\n      <th>26</th>\n      <td>male</td>\n      <td>Rich</td>\n      <td>174.591180</td>\n      <td>44.679830</td>\n      <td>12.248838</td>\n      <td>15145.996940</td>\n    </tr>\n    <tr>\n      <th>27</th>\n      <td>male</td>\n      <td>Middle Class</td>\n      <td>173.033967</td>\n      <td>41.250377</td>\n      <td>43.376946</td>\n      <td>17663.359072</td>\n    </tr>\n    <tr>\n      <th>30</th>\n      <td>male</td>\n      <td>Middle Class</td>\n      <td>183.903366</td>\n      <td>40.751683</td>\n      <td>32.059063</td>\n      <td>20140.162915</td>\n    </tr>\n    <tr>\n      <th>31</th>\n      <td>female</td>\n      <td>Middle Class</td>\n      <td>206.288327</td>\n      <td>65.950633</td>\n      <td>20.165422</td>\n      <td>21076.163289</td>\n    </tr>\n    <tr>\n      <th>33</th>\n      <td>female</td>\n      <td>Middle Class</td>\n      <td>179.510317</td>\n      <td>10.285580</td>\n      <td>29.638286</td>\n      <td>20918.349964</td>\n    </tr>\n    <tr>\n      <th>41</th>\n      <td>female</td>\n      <td>Middle Class</td>\n      <td>163.162808</td>\n      <td>79.310224</td>\n      <td>38.074959</td>\n      <td>20896.501753</td>\n    </tr>\n    <tr>\n      <th>43</th>\n      <td>female</td>\n      <td>Middle Class</td>\n      <td>182.426517</td>\n      <td>79.225558</td>\n      <td>25.952079</td>\n      <td>23653.915118</td>\n    </tr>\n    <tr>\n      <th>58</th>\n      <td>male</td>\n      <td>Rich</td>\n      <td>128.877046</td>\n      <td>63.364152</td>\n      <td>55.949730</td>\n      <td>22030.685856</td>\n    </tr>\n    <tr>\n      <th>75</th>\n      <td>male</td>\n      <td>Rich</td>\n      <td>137.309167</td>\n      <td>104.731761</td>\n      <td>23.897041</td>\n      <td>19795.869132</td>\n    </tr>\n  </tbody>\n</table>\n</div>"
     },
     "execution_count": 14,
     "metadata": {},
     "output_type": "execute_result"
    }
   ],
   "source": [
    "double_group.head()"
   ],
   "metadata": {
    "collapsed": false
   }
  },
  {
   "cell_type": "code",
   "execution_count": 15,
   "outputs": [
    {
     "data": {
      "text/plain": "6"
     },
     "execution_count": 15,
     "metadata": {},
     "output_type": "execute_result"
    }
   ],
   "source": [
    "len(double_group)"
   ],
   "metadata": {
    "collapsed": false
   }
  },
  {
   "cell_type": "code",
   "execution_count": 16,
   "outputs": [
    {
     "name": "stdout",
     "output_type": "stream",
     "text": [
      "('female', 'Middle Class')\n",
      "     gender Economic Status      Height     Weight        Age        Income\n",
      "4    female    Middle Class  144.197292  72.570988  35.220431  20679.051169\n",
      "31   female    Middle Class  206.288327  65.950633  20.165422  21076.163289\n",
      "33   female    Middle Class  179.510317  10.285580  29.638286  20918.349964\n",
      "41   female    Middle Class  163.162808  79.310224  38.074959  20896.501753\n",
      "43   female    Middle Class  182.426517  79.225558  25.952079  23653.915118\n",
      "..      ...             ...         ...        ...        ...           ...\n",
      "478  female    Middle Class  166.528946  85.516933  35.687853  20852.366000\n",
      "482  female    Middle Class  160.837158  66.918957  28.820097  19569.902949\n",
      "490  female    Middle Class  139.558774  65.454336  33.487915  21644.467152\n",
      "492  female    Middle Class  136.404396  56.977518  31.686244  19923.686299\n",
      "495  female    Middle Class  170.205510  92.647577  41.008380  20740.741639\n",
      "\n",
      "[82 rows x 6 columns]\n",
      "('female', 'Poor')\n",
      "     gender Economic Status      Height     Weight        Age        Income\n",
      "10   female            Poor  133.690562  72.858753  28.878183  24576.219405\n",
      "11   female            Poor  167.759315  63.954734  10.104693  19761.738961\n",
      "14   female            Poor  138.078229  76.423211  37.658469  21155.200749\n",
      "16   female            Poor  224.151166  -2.256329  26.240004  16393.491492\n",
      "19   female            Poor  182.849758  44.264053  31.921526  18319.166130\n",
      "..      ...             ...         ...        ...        ...           ...\n",
      "469  female            Poor  151.268963   5.847621  40.046805  18539.641864\n",
      "470  female            Poor  193.907241  33.967276  33.079955  23599.052117\n",
      "474  female            Poor  160.356696  69.351088  43.423579  18788.324850\n",
      "485  female            Poor  183.227221  33.969680  13.151055  19239.986215\n",
      "497  female            Poor  146.880521  64.184242  15.719935  18656.925705\n",
      "\n",
      "[70 rows x 6 columns]\n",
      "('female', 'Rich')\n",
      "     gender Economic Status      Height     Weight        Age        Income\n",
      "2    female            Rich  154.695262  55.054796  47.636092  23082.904902\n",
      "3    female            Rich  153.274326  46.044348  31.818498  16178.471758\n",
      "6    female            Rich  164.081818  71.508743  22.105400  20906.832620\n",
      "7    female            Rich   81.914447  64.429995  39.887491  18025.840003\n",
      "15   female            Rich  145.264275  26.191950  26.847614  19781.110627\n",
      "..      ...             ...         ...        ...        ...           ...\n",
      "480  female            Rich  112.082642  73.842772  19.152302  19389.053700\n",
      "481  female            Rich  160.867446  43.237735  39.535225  24932.940590\n",
      "488  female            Rich  130.978649  82.063134   8.922785  19445.507410\n",
      "489  female            Rich  157.914161  88.327092  27.629998  18662.831904\n",
      "493  female            Rich  134.243128  91.190068  31.142468  17238.533324\n",
      "\n",
      "[89 rows x 6 columns]\n",
      "('male', 'Middle Class')\n",
      "    gender Economic Status      Height      Weight        Age        Income\n",
      "0     male    Middle Class  187.400352  100.525714  39.652301  14766.345719\n",
      "1     male    Middle Class  208.274377   70.009311  12.164417  20039.623517\n",
      "24    male    Middle Class  193.478226   57.441193  35.971192  10850.471222\n",
      "27    male    Middle Class  173.033967   41.250377  43.376946  17663.359072\n",
      "30    male    Middle Class  183.903366   40.751683  32.059063  20140.162915\n",
      "..     ...             ...         ...         ...        ...           ...\n",
      "479   male    Middle Class  152.294599   60.268601  30.068448  19371.881448\n",
      "484   male    Middle Class  159.174492   76.545616  36.761333  16934.231236\n",
      "486   male    Middle Class  159.451441   49.411451  29.321316  18440.181346\n",
      "498   male    Middle Class  189.193907   52.427101  27.452783  19379.379483\n",
      "499   male    Middle Class  178.501571   25.569500  30.998459  15127.541568\n",
      "\n",
      "[92 rows x 6 columns]\n",
      "('male', 'Poor')\n",
      "    gender Economic Status      Height     Weight        Age        Income\n",
      "5     male            Poor  162.158989  45.024294  15.338597  19437.528956\n",
      "8     male            Poor  148.299744  36.688297  40.194151  16224.611241\n",
      "12    male            Poor  129.062825  14.047691  29.971814  14143.398951\n",
      "13    male            Poor  154.110686  62.604539  42.539029  15843.753063\n",
      "17    male            Poor  105.726091  57.009221  27.004740  19948.137667\n",
      "..     ...             ...         ...        ...        ...           ...\n",
      "467   male            Poor  112.030526  70.240870  13.525407   9222.771187\n",
      "475   male            Poor  127.935943  38.283515  19.477329  21135.062568\n",
      "476   male            Poor  132.558078  61.932274  39.422074  21514.786826\n",
      "477   male            Poor  174.839631  59.255024  49.855539  10499.876359\n",
      "496   male            Poor  198.120466  65.855149  48.104534  18565.450027\n",
      "\n",
      "[92 rows x 6 columns]\n",
      "('male', 'Rich')\n",
      "    gender Economic Status      Height      Weight        Age        Income\n",
      "9     male            Rich  177.993166   59.133404  42.984342  14089.175685\n",
      "20    male            Rich  170.064030   66.328136  12.377199  13155.069766\n",
      "26    male            Rich  174.591180   44.679830  12.248838  15145.996940\n",
      "58    male            Rich  128.877046   63.364152  55.949730  22030.685856\n",
      "75    male            Rich  137.309167  104.731761  23.897041  19795.869132\n",
      "..     ...             ...         ...         ...        ...           ...\n",
      "473   male            Rich  178.578587   36.621576  44.931901  17654.566127\n",
      "483   male            Rich  169.329840  -13.032486  39.882543  13591.883928\n",
      "487   male            Rich  137.047213    5.007599  43.649226  17825.483000\n",
      "491   male            Rich  213.258048   68.856812  25.538300  12920.897623\n",
      "494   male            Rich  186.056514   78.129525  32.739831  16351.167384\n",
      "\n",
      "[75 rows x 6 columns]\n"
     ]
    }
   ],
   "source": [
    "for names, groups in double_group:\n",
    "    print(names)\n",
    "    print(groups)"
   ],
   "metadata": {
    "collapsed": false
   }
  },
  {
   "cell_type": "markdown",
   "source": [
    "## Agregación de datos"
   ],
   "metadata": {
    "collapsed": false
   }
  },
  {
   "cell_type": "markdown",
   "source": [
    "Hablaremos de agregación de datos como el o los mecanismos para aplicar una función a o los grupos y obtener unos resultados sobre dichos grupos."
   ],
   "metadata": {
    "collapsed": false
   }
  },
  {
   "cell_type": "code",
   "execution_count": 17,
   "outputs": [
    {
     "data": {
      "text/plain": "                              Height       Weight          Age        Income\ngender Economic Status                                                      \nfemale Middle Class     13624.936824  5040.090292  2398.526464  1.470020e+06\n       Poor             11283.002028  4169.826909  1979.494329  1.272472e+06\n       Rich             13899.083000  5610.050522  2792.121000  1.663900e+06\nmale   Middle Class     15214.314625  5531.721497  3016.678232  1.698653e+06\n       Poor             14182.670608  5550.062855  2935.060001  1.662954e+06\n       Rich             12564.560635  4566.381139  2242.962907  1.313058e+06",
      "text/html": "<div>\n<style scoped>\n    .dataframe tbody tr th:only-of-type {\n        vertical-align: middle;\n    }\n\n    .dataframe tbody tr th {\n        vertical-align: top;\n    }\n\n    .dataframe thead th {\n        text-align: right;\n    }\n</style>\n<table border=\"1\" class=\"dataframe\">\n  <thead>\n    <tr style=\"text-align: right;\">\n      <th></th>\n      <th></th>\n      <th>Height</th>\n      <th>Weight</th>\n      <th>Age</th>\n      <th>Income</th>\n    </tr>\n    <tr>\n      <th>gender</th>\n      <th>Economic Status</th>\n      <th></th>\n      <th></th>\n      <th></th>\n      <th></th>\n    </tr>\n  </thead>\n  <tbody>\n    <tr>\n      <th rowspan=\"3\" valign=\"top\">female</th>\n      <th>Middle Class</th>\n      <td>13624.936824</td>\n      <td>5040.090292</td>\n      <td>2398.526464</td>\n      <td>1.470020e+06</td>\n    </tr>\n    <tr>\n      <th>Poor</th>\n      <td>11283.002028</td>\n      <td>4169.826909</td>\n      <td>1979.494329</td>\n      <td>1.272472e+06</td>\n    </tr>\n    <tr>\n      <th>Rich</th>\n      <td>13899.083000</td>\n      <td>5610.050522</td>\n      <td>2792.121000</td>\n      <td>1.663900e+06</td>\n    </tr>\n    <tr>\n      <th rowspan=\"3\" valign=\"top\">male</th>\n      <th>Middle Class</th>\n      <td>15214.314625</td>\n      <td>5531.721497</td>\n      <td>3016.678232</td>\n      <td>1.698653e+06</td>\n    </tr>\n    <tr>\n      <th>Poor</th>\n      <td>14182.670608</td>\n      <td>5550.062855</td>\n      <td>2935.060001</td>\n      <td>1.662954e+06</td>\n    </tr>\n    <tr>\n      <th>Rich</th>\n      <td>12564.560635</td>\n      <td>4566.381139</td>\n      <td>2242.962907</td>\n      <td>1.313058e+06</td>\n    </tr>\n  </tbody>\n</table>\n</div>"
     },
     "execution_count": 17,
     "metadata": {},
     "output_type": "execute_result"
    }
   ],
   "source": [
    "double_group.sum()"
   ],
   "metadata": {
    "collapsed": false
   }
  },
  {
   "cell_type": "code",
   "execution_count": 18,
   "outputs": [
    {
     "data": {
      "text/plain": "                            Height     Weight        Age        Income\ngender Economic Status                                                \nfemale Middle Class     166.157766  61.464516  29.250323  17927.070310\n       Poor             161.185743  59.568956  28.278490  18178.166974\n       Rich             156.169472  63.034276  31.372146  18695.509975\nmale   Middle Class     165.372985  60.127408  32.789981  18463.622883\n       Poor             154.159463  60.326770  31.902826  18075.592248\n       Rich             167.527475  60.885082  29.906172  17507.438577",
      "text/html": "<div>\n<style scoped>\n    .dataframe tbody tr th:only-of-type {\n        vertical-align: middle;\n    }\n\n    .dataframe tbody tr th {\n        vertical-align: top;\n    }\n\n    .dataframe thead th {\n        text-align: right;\n    }\n</style>\n<table border=\"1\" class=\"dataframe\">\n  <thead>\n    <tr style=\"text-align: right;\">\n      <th></th>\n      <th></th>\n      <th>Height</th>\n      <th>Weight</th>\n      <th>Age</th>\n      <th>Income</th>\n    </tr>\n    <tr>\n      <th>gender</th>\n      <th>Economic Status</th>\n      <th></th>\n      <th></th>\n      <th></th>\n      <th></th>\n    </tr>\n  </thead>\n  <tbody>\n    <tr>\n      <th rowspan=\"3\" valign=\"top\">female</th>\n      <th>Middle Class</th>\n      <td>166.157766</td>\n      <td>61.464516</td>\n      <td>29.250323</td>\n      <td>17927.070310</td>\n    </tr>\n    <tr>\n      <th>Poor</th>\n      <td>161.185743</td>\n      <td>59.568956</td>\n      <td>28.278490</td>\n      <td>18178.166974</td>\n    </tr>\n    <tr>\n      <th>Rich</th>\n      <td>156.169472</td>\n      <td>63.034276</td>\n      <td>31.372146</td>\n      <td>18695.509975</td>\n    </tr>\n    <tr>\n      <th rowspan=\"3\" valign=\"top\">male</th>\n      <th>Middle Class</th>\n      <td>165.372985</td>\n      <td>60.127408</td>\n      <td>32.789981</td>\n      <td>18463.622883</td>\n    </tr>\n    <tr>\n      <th>Poor</th>\n      <td>154.159463</td>\n      <td>60.326770</td>\n      <td>31.902826</td>\n      <td>18075.592248</td>\n    </tr>\n    <tr>\n      <th>Rich</th>\n      <td>167.527475</td>\n      <td>60.885082</td>\n      <td>29.906172</td>\n      <td>17507.438577</td>\n    </tr>\n  </tbody>\n</table>\n</div>"
     },
     "execution_count": 18,
     "metadata": {},
     "output_type": "execute_result"
    }
   ],
   "source": [
    "double_group.mean()"
   ],
   "metadata": {
    "collapsed": false
   }
  },
  {
   "cell_type": "code",
   "execution_count": 19,
   "outputs": [
    {
     "data": {
      "text/plain": "gender  Economic Status\nfemale  Middle Class       82\n        Poor               70\n        Rich               89\nmale    Middle Class       92\n        Poor               92\n        Rich               75\ndtype: int64"
     },
     "execution_count": 19,
     "metadata": {},
     "output_type": "execute_result"
    }
   ],
   "source": [
    "double_group.size()"
   ],
   "metadata": {
    "collapsed": false
   }
  },
  {
   "cell_type": "code",
   "execution_count": 20,
   "outputs": [
    {
     "data": {
      "text/plain": "                       Height                                                 \\\n                        count        mean        std         min         25%   \ngender Economic Status                                                         \nfemale Middle Class      82.0  166.157766  28.455442   96.594410  147.766914   \n       Poor              70.0  161.185743  29.915690   84.132910  141.284644   \n       Rich              89.0  156.169472  25.233383   81.914447  136.279833   \nmale   Middle Class      92.0  165.372985  29.826666   93.745048  145.408941   \n       Poor              92.0  154.159463  30.100475   92.876575  128.518728   \n       Rich              75.0  167.527475  26.387816  103.335859  144.870592   \n\n                                                           Weight             \\\n                               50%         75%         max  count       mean   \ngender Economic Status                                                         \nfemale Middle Class     163.221193  184.570110  234.279052   82.0  61.464516   \n       Poor             157.521383  182.356343  231.988176   70.0  59.568956   \n       Rich             154.187684  169.310057  213.131626   89.0  63.034276   \nmale   Middle Class     169.785691  183.645334  230.014585   92.0  60.127408   \n       Poor             156.481344  175.695277  222.536340   92.0  60.326770   \n       Rich             172.562207  185.765325  246.700016   75.0  60.885082   \n\n                        ...        Age            Income                \\\n                        ...        75%        max  count          mean   \ngender Economic Status  ...                                              \nfemale Middle Class     ...  35.838690  61.024285   82.0  17927.070310   \n       Poor             ...  37.356804  50.498865   70.0  18178.166974   \n       Rich             ...  39.749463  61.702441   89.0  18695.509975   \nmale   Middle Class     ...  38.458792  60.928322   92.0  18463.622883   \n       Poor             ...  43.268051  58.589967   92.0  18075.592248   \n       Rich             ...  38.415311  55.949730   75.0  17507.438577   \n\n                                                                               \\\n                                std           min           25%           50%   \ngender Economic Status                                                          \nfemale Middle Class     3541.503948   8882.344432  15134.146014  18260.218188   \n       Poor             3463.073347  10596.669679  15903.473086  18269.262489   \n       Rich             3479.786023  11591.649288  15996.188234  19281.419799   \nmale   Middle Class     3427.672065   9728.817215  16500.065773  19375.630466   \n       Poor             3610.767002   9222.771187  15816.920681  18247.715505   \n       Rich             3449.462247   8289.241738  15378.523259  17475.055702   \n\n                                                    \n                                 75%           max  \ngender Economic Status                              \nfemale Middle Class     20782.197400  24571.690246  \n       Poor             20142.658524  25434.335140  \n       Rich             21320.510794  26914.412612  \nmale   Middle Class     20673.632489  25985.857726  \n       Poor             20406.386835  28045.357360  \n       Rich             19791.160645  25853.058342  \n\n[6 rows x 32 columns]",
      "text/html": "<div>\n<style scoped>\n    .dataframe tbody tr th:only-of-type {\n        vertical-align: middle;\n    }\n\n    .dataframe tbody tr th {\n        vertical-align: top;\n    }\n\n    .dataframe thead tr th {\n        text-align: left;\n    }\n\n    .dataframe thead tr:last-of-type th {\n        text-align: right;\n    }\n</style>\n<table border=\"1\" class=\"dataframe\">\n  <thead>\n    <tr>\n      <th></th>\n      <th></th>\n      <th colspan=\"8\" halign=\"left\">Height</th>\n      <th colspan=\"2\" halign=\"left\">Weight</th>\n      <th>...</th>\n      <th colspan=\"2\" halign=\"left\">Age</th>\n      <th colspan=\"8\" halign=\"left\">Income</th>\n    </tr>\n    <tr>\n      <th></th>\n      <th></th>\n      <th>count</th>\n      <th>mean</th>\n      <th>std</th>\n      <th>min</th>\n      <th>25%</th>\n      <th>50%</th>\n      <th>75%</th>\n      <th>max</th>\n      <th>count</th>\n      <th>mean</th>\n      <th>...</th>\n      <th>75%</th>\n      <th>max</th>\n      <th>count</th>\n      <th>mean</th>\n      <th>std</th>\n      <th>min</th>\n      <th>25%</th>\n      <th>50%</th>\n      <th>75%</th>\n      <th>max</th>\n    </tr>\n    <tr>\n      <th>gender</th>\n      <th>Economic Status</th>\n      <th></th>\n      <th></th>\n      <th></th>\n      <th></th>\n      <th></th>\n      <th></th>\n      <th></th>\n      <th></th>\n      <th></th>\n      <th></th>\n      <th></th>\n      <th></th>\n      <th></th>\n      <th></th>\n      <th></th>\n      <th></th>\n      <th></th>\n      <th></th>\n      <th></th>\n      <th></th>\n      <th></th>\n    </tr>\n  </thead>\n  <tbody>\n    <tr>\n      <th rowspan=\"3\" valign=\"top\">female</th>\n      <th>Middle Class</th>\n      <td>82.0</td>\n      <td>166.157766</td>\n      <td>28.455442</td>\n      <td>96.594410</td>\n      <td>147.766914</td>\n      <td>163.221193</td>\n      <td>184.570110</td>\n      <td>234.279052</td>\n      <td>82.0</td>\n      <td>61.464516</td>\n      <td>...</td>\n      <td>35.838690</td>\n      <td>61.024285</td>\n      <td>82.0</td>\n      <td>17927.070310</td>\n      <td>3541.503948</td>\n      <td>8882.344432</td>\n      <td>15134.146014</td>\n      <td>18260.218188</td>\n      <td>20782.197400</td>\n      <td>24571.690246</td>\n    </tr>\n    <tr>\n      <th>Poor</th>\n      <td>70.0</td>\n      <td>161.185743</td>\n      <td>29.915690</td>\n      <td>84.132910</td>\n      <td>141.284644</td>\n      <td>157.521383</td>\n      <td>182.356343</td>\n      <td>231.988176</td>\n      <td>70.0</td>\n      <td>59.568956</td>\n      <td>...</td>\n      <td>37.356804</td>\n      <td>50.498865</td>\n      <td>70.0</td>\n      <td>18178.166974</td>\n      <td>3463.073347</td>\n      <td>10596.669679</td>\n      <td>15903.473086</td>\n      <td>18269.262489</td>\n      <td>20142.658524</td>\n      <td>25434.335140</td>\n    </tr>\n    <tr>\n      <th>Rich</th>\n      <td>89.0</td>\n      <td>156.169472</td>\n      <td>25.233383</td>\n      <td>81.914447</td>\n      <td>136.279833</td>\n      <td>154.187684</td>\n      <td>169.310057</td>\n      <td>213.131626</td>\n      <td>89.0</td>\n      <td>63.034276</td>\n      <td>...</td>\n      <td>39.749463</td>\n      <td>61.702441</td>\n      <td>89.0</td>\n      <td>18695.509975</td>\n      <td>3479.786023</td>\n      <td>11591.649288</td>\n      <td>15996.188234</td>\n      <td>19281.419799</td>\n      <td>21320.510794</td>\n      <td>26914.412612</td>\n    </tr>\n    <tr>\n      <th rowspan=\"3\" valign=\"top\">male</th>\n      <th>Middle Class</th>\n      <td>92.0</td>\n      <td>165.372985</td>\n      <td>29.826666</td>\n      <td>93.745048</td>\n      <td>145.408941</td>\n      <td>169.785691</td>\n      <td>183.645334</td>\n      <td>230.014585</td>\n      <td>92.0</td>\n      <td>60.127408</td>\n      <td>...</td>\n      <td>38.458792</td>\n      <td>60.928322</td>\n      <td>92.0</td>\n      <td>18463.622883</td>\n      <td>3427.672065</td>\n      <td>9728.817215</td>\n      <td>16500.065773</td>\n      <td>19375.630466</td>\n      <td>20673.632489</td>\n      <td>25985.857726</td>\n    </tr>\n    <tr>\n      <th>Poor</th>\n      <td>92.0</td>\n      <td>154.159463</td>\n      <td>30.100475</td>\n      <td>92.876575</td>\n      <td>128.518728</td>\n      <td>156.481344</td>\n      <td>175.695277</td>\n      <td>222.536340</td>\n      <td>92.0</td>\n      <td>60.326770</td>\n      <td>...</td>\n      <td>43.268051</td>\n      <td>58.589967</td>\n      <td>92.0</td>\n      <td>18075.592248</td>\n      <td>3610.767002</td>\n      <td>9222.771187</td>\n      <td>15816.920681</td>\n      <td>18247.715505</td>\n      <td>20406.386835</td>\n      <td>28045.357360</td>\n    </tr>\n    <tr>\n      <th>Rich</th>\n      <td>75.0</td>\n      <td>167.527475</td>\n      <td>26.387816</td>\n      <td>103.335859</td>\n      <td>144.870592</td>\n      <td>172.562207</td>\n      <td>185.765325</td>\n      <td>246.700016</td>\n      <td>75.0</td>\n      <td>60.885082</td>\n      <td>...</td>\n      <td>38.415311</td>\n      <td>55.949730</td>\n      <td>75.0</td>\n      <td>17507.438577</td>\n      <td>3449.462247</td>\n      <td>8289.241738</td>\n      <td>15378.523259</td>\n      <td>17475.055702</td>\n      <td>19791.160645</td>\n      <td>25853.058342</td>\n    </tr>\n  </tbody>\n</table>\n<p>6 rows × 32 columns</p>\n</div>"
     },
     "execution_count": 20,
     "metadata": {},
     "output_type": "execute_result"
    }
   ],
   "source": [
    "double_group.describe()"
   ],
   "metadata": {
    "collapsed": false
   }
  },
  {
   "cell_type": "code",
   "execution_count": 21,
   "outputs": [
    {
     "data": {
      "text/plain": "                        count          mean          std           min  \\\ngender Economic Status                                                   \nfemale Middle Class      82.0  17927.070310  3541.503948   8882.344432   \n       Poor              70.0  18178.166974  3463.073347  10596.669679   \n       Rich              89.0  18695.509975  3479.786023  11591.649288   \nmale   Middle Class      92.0  18463.622883  3427.672065   9728.817215   \n       Poor              92.0  18075.592248  3610.767002   9222.771187   \n       Rich              75.0  17507.438577  3449.462247   8289.241738   \n\n                                 25%           50%           75%           max  \ngender Economic Status                                                          \nfemale Middle Class     15134.146014  18260.218188  20782.197400  24571.690246  \n       Poor             15903.473086  18269.262489  20142.658524  25434.335140  \n       Rich             15996.188234  19281.419799  21320.510794  26914.412612  \nmale   Middle Class     16500.065773  19375.630466  20673.632489  25985.857726  \n       Poor             15816.920681  18247.715505  20406.386835  28045.357360  \n       Rich             15378.523259  17475.055702  19791.160645  25853.058342  ",
      "text/html": "<div>\n<style scoped>\n    .dataframe tbody tr th:only-of-type {\n        vertical-align: middle;\n    }\n\n    .dataframe tbody tr th {\n        vertical-align: top;\n    }\n\n    .dataframe thead th {\n        text-align: right;\n    }\n</style>\n<table border=\"1\" class=\"dataframe\">\n  <thead>\n    <tr style=\"text-align: right;\">\n      <th></th>\n      <th></th>\n      <th>count</th>\n      <th>mean</th>\n      <th>std</th>\n      <th>min</th>\n      <th>25%</th>\n      <th>50%</th>\n      <th>75%</th>\n      <th>max</th>\n    </tr>\n    <tr>\n      <th>gender</th>\n      <th>Economic Status</th>\n      <th></th>\n      <th></th>\n      <th></th>\n      <th></th>\n      <th></th>\n      <th></th>\n      <th></th>\n      <th></th>\n    </tr>\n  </thead>\n  <tbody>\n    <tr>\n      <th rowspan=\"3\" valign=\"top\">female</th>\n      <th>Middle Class</th>\n      <td>82.0</td>\n      <td>17927.070310</td>\n      <td>3541.503948</td>\n      <td>8882.344432</td>\n      <td>15134.146014</td>\n      <td>18260.218188</td>\n      <td>20782.197400</td>\n      <td>24571.690246</td>\n    </tr>\n    <tr>\n      <th>Poor</th>\n      <td>70.0</td>\n      <td>18178.166974</td>\n      <td>3463.073347</td>\n      <td>10596.669679</td>\n      <td>15903.473086</td>\n      <td>18269.262489</td>\n      <td>20142.658524</td>\n      <td>25434.335140</td>\n    </tr>\n    <tr>\n      <th>Rich</th>\n      <td>89.0</td>\n      <td>18695.509975</td>\n      <td>3479.786023</td>\n      <td>11591.649288</td>\n      <td>15996.188234</td>\n      <td>19281.419799</td>\n      <td>21320.510794</td>\n      <td>26914.412612</td>\n    </tr>\n    <tr>\n      <th rowspan=\"3\" valign=\"top\">male</th>\n      <th>Middle Class</th>\n      <td>92.0</td>\n      <td>18463.622883</td>\n      <td>3427.672065</td>\n      <td>9728.817215</td>\n      <td>16500.065773</td>\n      <td>19375.630466</td>\n      <td>20673.632489</td>\n      <td>25985.857726</td>\n    </tr>\n    <tr>\n      <th>Poor</th>\n      <td>92.0</td>\n      <td>18075.592248</td>\n      <td>3610.767002</td>\n      <td>9222.771187</td>\n      <td>15816.920681</td>\n      <td>18247.715505</td>\n      <td>20406.386835</td>\n      <td>28045.357360</td>\n    </tr>\n    <tr>\n      <th>Rich</th>\n      <td>75.0</td>\n      <td>17507.438577</td>\n      <td>3449.462247</td>\n      <td>8289.241738</td>\n      <td>15378.523259</td>\n      <td>17475.055702</td>\n      <td>19791.160645</td>\n      <td>25853.058342</td>\n    </tr>\n  </tbody>\n</table>\n</div>"
     },
     "execution_count": 21,
     "metadata": {},
     "output_type": "execute_result"
    }
   ],
   "source": [
    "grouped_income = double_group['Income']\n",
    "grouped_income.describe()"
   ],
   "metadata": {
    "collapsed": false
   }
  },
  {
   "cell_type": "markdown",
   "source": [
    "En pandas existe el método agregate para calcular conjuntamente funciones que nos interesa sobre valores agregados:"
   ],
   "metadata": {
    "collapsed": false
   }
  },
  {
   "cell_type": "code",
   "execution_count": 22,
   "outputs": [
    {
     "data": {
      "text/plain": "                              Income     Height        Age\ngender Economic Status                                    \nfemale Middle Class     1.470020e+06  28.455442  29.250323\n       Poor             1.272472e+06  29.915690  28.278490\n       Rich             1.663900e+06  25.233383  31.372146\nmale   Middle Class     1.698653e+06  29.826666  32.789981\n       Poor             1.662954e+06  30.100475  31.902826\n       Rich             1.313058e+06  26.387816  29.906172",
      "text/html": "<div>\n<style scoped>\n    .dataframe tbody tr th:only-of-type {\n        vertical-align: middle;\n    }\n\n    .dataframe tbody tr th {\n        vertical-align: top;\n    }\n\n    .dataframe thead th {\n        text-align: right;\n    }\n</style>\n<table border=\"1\" class=\"dataframe\">\n  <thead>\n    <tr style=\"text-align: right;\">\n      <th></th>\n      <th></th>\n      <th>Income</th>\n      <th>Height</th>\n      <th>Age</th>\n    </tr>\n    <tr>\n      <th>gender</th>\n      <th>Economic Status</th>\n      <th></th>\n      <th></th>\n      <th></th>\n    </tr>\n  </thead>\n  <tbody>\n    <tr>\n      <th rowspan=\"3\" valign=\"top\">female</th>\n      <th>Middle Class</th>\n      <td>1.470020e+06</td>\n      <td>28.455442</td>\n      <td>29.250323</td>\n    </tr>\n    <tr>\n      <th>Poor</th>\n      <td>1.272472e+06</td>\n      <td>29.915690</td>\n      <td>28.278490</td>\n    </tr>\n    <tr>\n      <th>Rich</th>\n      <td>1.663900e+06</td>\n      <td>25.233383</td>\n      <td>31.372146</td>\n    </tr>\n    <tr>\n      <th rowspan=\"3\" valign=\"top\">male</th>\n      <th>Middle Class</th>\n      <td>1.698653e+06</td>\n      <td>29.826666</td>\n      <td>32.789981</td>\n    </tr>\n    <tr>\n      <th>Poor</th>\n      <td>1.662954e+06</td>\n      <td>30.100475</td>\n      <td>31.902826</td>\n    </tr>\n    <tr>\n      <th>Rich</th>\n      <td>1.313058e+06</td>\n      <td>26.387816</td>\n      <td>29.906172</td>\n    </tr>\n  </tbody>\n</table>\n</div>"
     },
     "execution_count": 22,
     "metadata": {},
     "output_type": "execute_result"
    }
   ],
   "source": [
    "double_group.aggregate({\n",
    "    'Income': np.sum,\n",
    "    'Height': np.std,\n",
    "    'Age': np.mean\n",
    "})"
   ],
   "metadata": {
    "collapsed": false
   }
  },
  {
   "cell_type": "markdown",
   "source": [
    "En caso de que queramos usar una función totalmente nuestra, utilizaremos la función lambda. En este caso, tipificaremos la variable 'Age':"
   ],
   "metadata": {
    "collapsed": false
   }
  },
  {
   "cell_type": "code",
   "execution_count": 23,
   "outputs": [
    {
     "data": {
      "text/plain": "                              Age    Height\ngender Economic Status                     \nfemale Middle Class     29.250323  5.875160\n       Poor             28.278490  5.426903\n       Rich             31.372146  6.224068\nmale   Middle Class     32.789981  5.574849\n       Poor             31.902826  5.149559\n       Rich             29.906172  6.391420",
      "text/html": "<div>\n<style scoped>\n    .dataframe tbody tr th:only-of-type {\n        vertical-align: middle;\n    }\n\n    .dataframe tbody tr th {\n        vertical-align: top;\n    }\n\n    .dataframe thead th {\n        text-align: right;\n    }\n</style>\n<table border=\"1\" class=\"dataframe\">\n  <thead>\n    <tr style=\"text-align: right;\">\n      <th></th>\n      <th></th>\n      <th>Age</th>\n      <th>Height</th>\n    </tr>\n    <tr>\n      <th>gender</th>\n      <th>Economic Status</th>\n      <th></th>\n      <th></th>\n    </tr>\n  </thead>\n  <tbody>\n    <tr>\n      <th rowspan=\"3\" valign=\"top\">female</th>\n      <th>Middle Class</th>\n      <td>29.250323</td>\n      <td>5.875160</td>\n    </tr>\n    <tr>\n      <th>Poor</th>\n      <td>28.278490</td>\n      <td>5.426903</td>\n    </tr>\n    <tr>\n      <th>Rich</th>\n      <td>31.372146</td>\n      <td>6.224068</td>\n    </tr>\n    <tr>\n      <th rowspan=\"3\" valign=\"top\">male</th>\n      <th>Middle Class</th>\n      <td>32.789981</td>\n      <td>5.574849</td>\n    </tr>\n    <tr>\n      <th>Poor</th>\n      <td>31.902826</td>\n      <td>5.149559</td>\n    </tr>\n    <tr>\n      <th>Rich</th>\n      <td>29.906172</td>\n      <td>6.391420</td>\n    </tr>\n  </tbody>\n</table>\n</div>"
     },
     "execution_count": 23,
     "metadata": {},
     "output_type": "execute_result"
    }
   ],
   "source": [
    "double_group.aggregate({\n",
    "    'Age': np.mean,\n",
    "    'Height': lambda h: np.mean(h)/np.std(h)\n",
    "})"
   ],
   "metadata": {
    "collapsed": false
   }
  },
  {
   "cell_type": "code",
   "execution_count": 24,
   "outputs": [
    {
     "data": {
      "text/plain": "                              Height                              Weight  \\\n                                 sum        mean        std          sum   \ngender Economic Status                                                     \nfemale Middle Class     13624.936824  166.157766  28.455442  5040.090292   \n       Poor             11283.002028  161.185743  29.915690  4169.826909   \n       Rich             13899.083000  156.169472  25.233383  5610.050522   \nmale   Middle Class     15214.314625  165.372985  29.826666  5531.721497   \n       Poor             14182.670608  154.159463  30.100475  5550.062855   \n       Rich             12564.560635  167.527475  26.387816  4566.381139   \n\n                                                      Age             \\\n                             mean        std          sum       mean   \ngender Economic Status                                                 \nfemale Middle Class     61.464516  24.169760  2398.526464  29.250323   \n       Poor             59.568956  28.529189  1979.494329  28.278490   \n       Rich             63.034276  28.136116  2792.121000  31.372146   \nmale   Middle Class     60.127408  23.215383  3016.678232  32.789981   \n       Poor             60.326770  28.222049  2935.060001  31.902826   \n       Rich             60.885082  27.983704  2242.962907  29.906172   \n\n                                         Income                             \n                              std           sum          mean          std  \ngender Economic Status                                                      \nfemale Middle Class     10.732686  1.470020e+06  17927.070310  3541.503948  \n       Poor             11.804940  1.272472e+06  18178.166974  3463.073347  \n       Rich             12.391117  1.663900e+06  18695.509975  3479.786023  \nmale   Middle Class     10.846680  1.698653e+06  18463.622883  3427.672065  \n       Poor             13.907949  1.662954e+06  18075.592248  3610.767002  \n       Rich             12.336905  1.313058e+06  17507.438577  3449.462247  ",
      "text/html": "<div>\n<style scoped>\n    .dataframe tbody tr th:only-of-type {\n        vertical-align: middle;\n    }\n\n    .dataframe tbody tr th {\n        vertical-align: top;\n    }\n\n    .dataframe thead tr th {\n        text-align: left;\n    }\n\n    .dataframe thead tr:last-of-type th {\n        text-align: right;\n    }\n</style>\n<table border=\"1\" class=\"dataframe\">\n  <thead>\n    <tr>\n      <th></th>\n      <th></th>\n      <th colspan=\"3\" halign=\"left\">Height</th>\n      <th colspan=\"3\" halign=\"left\">Weight</th>\n      <th colspan=\"3\" halign=\"left\">Age</th>\n      <th colspan=\"3\" halign=\"left\">Income</th>\n    </tr>\n    <tr>\n      <th></th>\n      <th></th>\n      <th>sum</th>\n      <th>mean</th>\n      <th>std</th>\n      <th>sum</th>\n      <th>mean</th>\n      <th>std</th>\n      <th>sum</th>\n      <th>mean</th>\n      <th>std</th>\n      <th>sum</th>\n      <th>mean</th>\n      <th>std</th>\n    </tr>\n    <tr>\n      <th>gender</th>\n      <th>Economic Status</th>\n      <th></th>\n      <th></th>\n      <th></th>\n      <th></th>\n      <th></th>\n      <th></th>\n      <th></th>\n      <th></th>\n      <th></th>\n      <th></th>\n      <th></th>\n      <th></th>\n    </tr>\n  </thead>\n  <tbody>\n    <tr>\n      <th rowspan=\"3\" valign=\"top\">female</th>\n      <th>Middle Class</th>\n      <td>13624.936824</td>\n      <td>166.157766</td>\n      <td>28.455442</td>\n      <td>5040.090292</td>\n      <td>61.464516</td>\n      <td>24.169760</td>\n      <td>2398.526464</td>\n      <td>29.250323</td>\n      <td>10.732686</td>\n      <td>1.470020e+06</td>\n      <td>17927.070310</td>\n      <td>3541.503948</td>\n    </tr>\n    <tr>\n      <th>Poor</th>\n      <td>11283.002028</td>\n      <td>161.185743</td>\n      <td>29.915690</td>\n      <td>4169.826909</td>\n      <td>59.568956</td>\n      <td>28.529189</td>\n      <td>1979.494329</td>\n      <td>28.278490</td>\n      <td>11.804940</td>\n      <td>1.272472e+06</td>\n      <td>18178.166974</td>\n      <td>3463.073347</td>\n    </tr>\n    <tr>\n      <th>Rich</th>\n      <td>13899.083000</td>\n      <td>156.169472</td>\n      <td>25.233383</td>\n      <td>5610.050522</td>\n      <td>63.034276</td>\n      <td>28.136116</td>\n      <td>2792.121000</td>\n      <td>31.372146</td>\n      <td>12.391117</td>\n      <td>1.663900e+06</td>\n      <td>18695.509975</td>\n      <td>3479.786023</td>\n    </tr>\n    <tr>\n      <th rowspan=\"3\" valign=\"top\">male</th>\n      <th>Middle Class</th>\n      <td>15214.314625</td>\n      <td>165.372985</td>\n      <td>29.826666</td>\n      <td>5531.721497</td>\n      <td>60.127408</td>\n      <td>23.215383</td>\n      <td>3016.678232</td>\n      <td>32.789981</td>\n      <td>10.846680</td>\n      <td>1.698653e+06</td>\n      <td>18463.622883</td>\n      <td>3427.672065</td>\n    </tr>\n    <tr>\n      <th>Poor</th>\n      <td>14182.670608</td>\n      <td>154.159463</td>\n      <td>30.100475</td>\n      <td>5550.062855</td>\n      <td>60.326770</td>\n      <td>28.222049</td>\n      <td>2935.060001</td>\n      <td>31.902826</td>\n      <td>13.907949</td>\n      <td>1.662954e+06</td>\n      <td>18075.592248</td>\n      <td>3610.767002</td>\n    </tr>\n    <tr>\n      <th>Rich</th>\n      <td>12564.560635</td>\n      <td>167.527475</td>\n      <td>26.387816</td>\n      <td>4566.381139</td>\n      <td>60.885082</td>\n      <td>27.983704</td>\n      <td>2242.962907</td>\n      <td>29.906172</td>\n      <td>12.336905</td>\n      <td>1.313058e+06</td>\n      <td>17507.438577</td>\n      <td>3449.462247</td>\n    </tr>\n  </tbody>\n</table>\n</div>"
     },
     "execution_count": 24,
     "metadata": {},
     "output_type": "execute_result"
    }
   ],
   "source": [
    "double_group.aggregate([\n",
    "    np.sum, np.mean, np.std\n",
    "])"
   ],
   "metadata": {
    "collapsed": false
   }
  },
  {
   "cell_type": "code",
   "execution_count": 25,
   "outputs": [
    {
     "data": {
      "text/plain": "                              Height                                    \\\n                                 sum        mean        std <lambda_0>   \ngender Economic Status                                                   \nfemale Middle Class     13624.936824  166.157766  28.455442   5.875160   \n       Poor             11283.002028  161.185743  29.915690   5.426903   \n       Rich             13899.083000  156.169472  25.233383   6.224068   \nmale   Middle Class     15214.314625  165.372985  29.826666   5.574849   \n       Poor             14182.670608  154.159463  30.100475   5.149559   \n       Rich             12564.560635  167.527475  26.387816   6.391420   \n\n                             Weight                                   \\\n                                sum       mean        std <lambda_0>   \ngender Economic Status                                                 \nfemale Middle Class     5040.090292  61.464516  24.169760   2.558683   \n       Poor             4169.826909  59.568956  28.529189   2.103076   \n       Rich             5610.050522  63.034276  28.136116   2.253026   \nmale   Middle Class     5531.721497  60.127408  23.215383   2.604173   \n       Poor             5550.062855  60.326770  28.222049   2.149289   \n       Rich             4566.381139  60.885082  27.983704   2.190385   \n\n                                Age                                   \\\n                                sum       mean        std <lambda_0>   \ngender Economic Status                                                 \nfemale Middle Class     2398.526464  29.250323  10.732686   2.742121   \n       Poor             1979.494329  28.278490  11.804940   2.412775   \n       Rich             2792.121000  31.372146  12.391117   2.546170   \nmale   Middle Class     3016.678232  32.789981  10.846680   3.039608   \n       Poor             2935.060001  31.902826  13.907949   2.306425   \n       Rich             2242.962907  29.906172  12.336905   2.440447   \n\n                              Income                                        \n                                 sum          mean          std <lambda_0>  \ngender Economic Status                                                      \nfemale Middle Class     1.470020e+06  17927.070310  3541.503948   5.093145  \n       Poor             1.272472e+06  18178.166974  3463.073347   5.287043  \n       Rich             1.663900e+06  18695.509975  3479.786023   5.403043  \nmale   Middle Class     1.698653e+06  18463.622883  3427.672065   5.416152  \n       Poor             1.662954e+06  18075.592248  3610.767002   5.033456  \n       Rich             1.313058e+06  17507.438577  3449.462247   5.109589  ",
      "text/html": "<div>\n<style scoped>\n    .dataframe tbody tr th:only-of-type {\n        vertical-align: middle;\n    }\n\n    .dataframe tbody tr th {\n        vertical-align: top;\n    }\n\n    .dataframe thead tr th {\n        text-align: left;\n    }\n\n    .dataframe thead tr:last-of-type th {\n        text-align: right;\n    }\n</style>\n<table border=\"1\" class=\"dataframe\">\n  <thead>\n    <tr>\n      <th></th>\n      <th></th>\n      <th colspan=\"4\" halign=\"left\">Height</th>\n      <th colspan=\"4\" halign=\"left\">Weight</th>\n      <th colspan=\"4\" halign=\"left\">Age</th>\n      <th colspan=\"4\" halign=\"left\">Income</th>\n    </tr>\n    <tr>\n      <th></th>\n      <th></th>\n      <th>sum</th>\n      <th>mean</th>\n      <th>std</th>\n      <th>&lt;lambda_0&gt;</th>\n      <th>sum</th>\n      <th>mean</th>\n      <th>std</th>\n      <th>&lt;lambda_0&gt;</th>\n      <th>sum</th>\n      <th>mean</th>\n      <th>std</th>\n      <th>&lt;lambda_0&gt;</th>\n      <th>sum</th>\n      <th>mean</th>\n      <th>std</th>\n      <th>&lt;lambda_0&gt;</th>\n    </tr>\n    <tr>\n      <th>gender</th>\n      <th>Economic Status</th>\n      <th></th>\n      <th></th>\n      <th></th>\n      <th></th>\n      <th></th>\n      <th></th>\n      <th></th>\n      <th></th>\n      <th></th>\n      <th></th>\n      <th></th>\n      <th></th>\n      <th></th>\n      <th></th>\n      <th></th>\n      <th></th>\n    </tr>\n  </thead>\n  <tbody>\n    <tr>\n      <th rowspan=\"3\" valign=\"top\">female</th>\n      <th>Middle Class</th>\n      <td>13624.936824</td>\n      <td>166.157766</td>\n      <td>28.455442</td>\n      <td>5.875160</td>\n      <td>5040.090292</td>\n      <td>61.464516</td>\n      <td>24.169760</td>\n      <td>2.558683</td>\n      <td>2398.526464</td>\n      <td>29.250323</td>\n      <td>10.732686</td>\n      <td>2.742121</td>\n      <td>1.470020e+06</td>\n      <td>17927.070310</td>\n      <td>3541.503948</td>\n      <td>5.093145</td>\n    </tr>\n    <tr>\n      <th>Poor</th>\n      <td>11283.002028</td>\n      <td>161.185743</td>\n      <td>29.915690</td>\n      <td>5.426903</td>\n      <td>4169.826909</td>\n      <td>59.568956</td>\n      <td>28.529189</td>\n      <td>2.103076</td>\n      <td>1979.494329</td>\n      <td>28.278490</td>\n      <td>11.804940</td>\n      <td>2.412775</td>\n      <td>1.272472e+06</td>\n      <td>18178.166974</td>\n      <td>3463.073347</td>\n      <td>5.287043</td>\n    </tr>\n    <tr>\n      <th>Rich</th>\n      <td>13899.083000</td>\n      <td>156.169472</td>\n      <td>25.233383</td>\n      <td>6.224068</td>\n      <td>5610.050522</td>\n      <td>63.034276</td>\n      <td>28.136116</td>\n      <td>2.253026</td>\n      <td>2792.121000</td>\n      <td>31.372146</td>\n      <td>12.391117</td>\n      <td>2.546170</td>\n      <td>1.663900e+06</td>\n      <td>18695.509975</td>\n      <td>3479.786023</td>\n      <td>5.403043</td>\n    </tr>\n    <tr>\n      <th rowspan=\"3\" valign=\"top\">male</th>\n      <th>Middle Class</th>\n      <td>15214.314625</td>\n      <td>165.372985</td>\n      <td>29.826666</td>\n      <td>5.574849</td>\n      <td>5531.721497</td>\n      <td>60.127408</td>\n      <td>23.215383</td>\n      <td>2.604173</td>\n      <td>3016.678232</td>\n      <td>32.789981</td>\n      <td>10.846680</td>\n      <td>3.039608</td>\n      <td>1.698653e+06</td>\n      <td>18463.622883</td>\n      <td>3427.672065</td>\n      <td>5.416152</td>\n    </tr>\n    <tr>\n      <th>Poor</th>\n      <td>14182.670608</td>\n      <td>154.159463</td>\n      <td>30.100475</td>\n      <td>5.149559</td>\n      <td>5550.062855</td>\n      <td>60.326770</td>\n      <td>28.222049</td>\n      <td>2.149289</td>\n      <td>2935.060001</td>\n      <td>31.902826</td>\n      <td>13.907949</td>\n      <td>2.306425</td>\n      <td>1.662954e+06</td>\n      <td>18075.592248</td>\n      <td>3610.767002</td>\n      <td>5.033456</td>\n    </tr>\n    <tr>\n      <th>Rich</th>\n      <td>12564.560635</td>\n      <td>167.527475</td>\n      <td>26.387816</td>\n      <td>6.391420</td>\n      <td>4566.381139</td>\n      <td>60.885082</td>\n      <td>27.983704</td>\n      <td>2.190385</td>\n      <td>2242.962907</td>\n      <td>29.906172</td>\n      <td>12.336905</td>\n      <td>2.440447</td>\n      <td>1.313058e+06</td>\n      <td>17507.438577</td>\n      <td>3449.462247</td>\n      <td>5.109589</td>\n    </tr>\n  </tbody>\n</table>\n</div>"
     },
     "execution_count": 25,
     "metadata": {},
     "output_type": "execute_result"
    }
   ],
   "source": [
    "double_group.aggregate([\n",
    "    np.sum, np.mean, np.std, lambda x: np.mean(x)/np.std(x)\n",
    "])"
   ],
   "metadata": {
    "collapsed": false
   }
  },
  {
   "cell_type": "markdown",
   "source": [
    "## Filtrado de los datos"
   ],
   "metadata": {
    "collapsed": false
   }
  },
  {
   "cell_type": "markdown",
   "source": [
    "Supongamos que queremos elegir que la columna agregada de la edad sumados es superior a 2400:"
   ],
   "metadata": {
    "collapsed": false
   }
  },
  {
   "cell_type": "code",
   "execution_count": 26,
   "outputs": [
    {
     "data": {
      "text/plain": "0      39.652301\n1      12.164417\n2      47.636092\n3      31.818498\n5      15.338597\n         ...    \n489    27.629998\n493    31.142468\n496    48.104534\n498    27.452783\n499    30.998459\nName: Age, Length: 273, dtype: float64"
     },
     "execution_count": 26,
     "metadata": {},
     "output_type": "execute_result"
    }
   ],
   "source": [
    "double_group['Age'].filter(lambda x : x.sum() > 2400)"
   ],
   "metadata": {
    "collapsed": false
   }
  },
  {
   "cell_type": "markdown",
   "source": [],
   "metadata": {
    "collapsed": false
   }
  },
  {
   "cell_type": "markdown",
   "source": [
    "## Transformación de variables\n",
    "Podemos utilizar la funcion transform para definir la z-score:\n"
   ],
   "metadata": {
    "collapsed": false
   }
  },
  {
   "cell_type": "code",
   "execution_count": 27,
   "outputs": [],
   "source": [
    "z_score = lambda x: (x-x.mean())/x.std()"
   ],
   "metadata": {
    "collapsed": false
   }
  },
  {
   "cell_type": "code",
   "execution_count": 28,
   "outputs": [],
   "source": [
    "z_gruop = double_group.transform(z_score)"
   ],
   "metadata": {
    "collapsed": false
   }
  },
  {
   "cell_type": "code",
   "execution_count": 29,
   "outputs": [
    {
     "data": {
      "text/plain": "(array([  1.,   1.,  22.,  58., 107., 129.,  94.,  60.,  25.,   3.]),\n array([-3.60571544, -2.94909535, -2.29247525, -1.63585516, -0.97923506,\n        -0.32261497,  0.33400513,  0.99062522,  1.64724532,  2.30386541,\n         2.96048551]),\n <BarContainer object of 10 artists>)"
     },
     "execution_count": 29,
     "metadata": {},
     "output_type": "execute_result"
    },
    {
     "data": {
      "text/plain": "<Figure size 640x480 with 1 Axes>",
      "image/png": "[encoded data removed]"
     },
     "metadata": {},
     "output_type": "display_data"
    }
   ],
   "source": [
    "plt.hist(z_gruop['Age'])"
   ],
   "metadata": {
    "collapsed": false
   }
  },
  {
   "cell_type": "markdown",
   "source": [
    "Esta función es una función muy útil, sobre todo cuando en el dataset existen variables con datos vacios y tenemos que rellenar dichos huecos. De hecho, esta operación se realizaría de la siguiente forma:"
   ],
   "metadata": {
    "collapsed": false
   }
  },
  {
   "cell_type": "code",
   "execution_count": 30,
   "outputs": [],
   "source": [
    "fill_na_mean = lambda x: x.fillna(x.mean())"
   ],
   "metadata": {
    "collapsed": false
   }
  },
  {
   "cell_type": "code",
   "execution_count": 31,
   "outputs": [
    {
     "data": {
      "text/plain": "         Height      Weight        Age        Income\n0    187.400352  100.525714  39.652301  14766.345719\n1    208.274377   70.009311  12.164417  20039.623517\n2    154.695262   55.054796  47.636092  23082.904902\n3    153.274326   46.044348  31.818498  16178.471758\n4    144.197292   72.570988  35.220431  20679.051169\n..          ...         ...        ...           ...\n495  170.205510   92.647577  41.008380  20740.741639\n496  198.120466   65.855149  48.104534  18565.450027\n497  146.880521   64.184242  15.719935  18656.925705\n498  189.193907   52.427101  27.452783  19379.379483\n499  178.501571   25.569500  30.998459  15127.541568\n\n[500 rows x 4 columns]",
      "text/html": "<div>\n<style scoped>\n    .dataframe tbody tr th:only-of-type {\n        vertical-align: middle;\n    }\n\n    .dataframe tbody tr th {\n        vertical-align: top;\n    }\n\n    .dataframe thead th {\n        text-align: right;\n    }\n</style>\n<table border=\"1\" class=\"dataframe\">\n  <thead>\n    <tr style=\"text-align: right;\">\n      <th></th>\n      <th>Height</th>\n      <th>Weight</th>\n      <th>Age</th>\n      <th>Income</th>\n    </tr>\n  </thead>\n  <tbody>\n    <tr>\n      <th>0</th>\n      <td>187.400352</td>\n      <td>100.525714</td>\n      <td>39.652301</td>\n      <td>14766.345719</td>\n    </tr>\n    <tr>\n      <th>1</th>\n      <td>208.274377</td>\n      <td>70.009311</td>\n      <td>12.164417</td>\n      <td>20039.623517</td>\n    </tr>\n    <tr>\n      <th>2</th>\n      <td>154.695262</td>\n      <td>55.054796</td>\n      <td>47.636092</td>\n      <td>23082.904902</td>\n    </tr>\n    <tr>\n      <th>3</th>\n      <td>153.274326</td>\n      <td>46.044348</td>\n      <td>31.818498</td>\n      <td>16178.471758</td>\n    </tr>\n    <tr>\n      <th>4</th>\n      <td>144.197292</td>\n      <td>72.570988</td>\n      <td>35.220431</td>\n      <td>20679.051169</td>\n    </tr>\n    <tr>\n      <th>...</th>\n      <td>...</td>\n      <td>...</td>\n      <td>...</td>\n      <td>...</td>\n    </tr>\n    <tr>\n      <th>495</th>\n      <td>170.205510</td>\n      <td>92.647577</td>\n      <td>41.008380</td>\n      <td>20740.741639</td>\n    </tr>\n    <tr>\n      <th>496</th>\n      <td>198.120466</td>\n      <td>65.855149</td>\n      <td>48.104534</td>\n      <td>18565.450027</td>\n    </tr>\n    <tr>\n      <th>497</th>\n      <td>146.880521</td>\n      <td>64.184242</td>\n      <td>15.719935</td>\n      <td>18656.925705</td>\n    </tr>\n    <tr>\n      <th>498</th>\n      <td>189.193907</td>\n      <td>52.427101</td>\n      <td>27.452783</td>\n      <td>19379.379483</td>\n    </tr>\n    <tr>\n      <th>499</th>\n      <td>178.501571</td>\n      <td>25.569500</td>\n      <td>30.998459</td>\n      <td>15127.541568</td>\n    </tr>\n  </tbody>\n</table>\n<p>500 rows × 4 columns</p>\n</div>"
     },
     "execution_count": 31,
     "metadata": {},
     "output_type": "execute_result"
    }
   ],
   "source": [
    "double_group.transform(fill_na_mean)"
   ],
   "metadata": {
    "collapsed": false
   }
  },
  {
   "cell_type": "markdown",
   "source": [
    "## Otras operaciones diversas de alta ultilidad"
   ],
   "metadata": {
    "collapsed": false
   }
  },
  {
   "cell_type": "markdown",
   "source": [
    "Selección de una fila n-esima de un conjunto de datos agrupado:"
   ],
   "metadata": {
    "collapsed": false
   }
  },
  {
   "cell_type": "code",
   "execution_count": 32,
   "outputs": [
    {
     "data": {
      "text/plain": "    gender Economic Status      Height      Weight        Age        Income\n0     male    Middle Class  187.400352  100.525714  39.652301  14766.345719\n2   female            Rich  154.695262   55.054796  47.636092  23082.904902\n4   female    Middle Class  144.197292   72.570988  35.220431  20679.051169\n5     male            Poor  162.158989   45.024294  15.338597  19437.528956\n9     male            Rich  177.993166   59.133404  42.984342  14089.175685\n10  female            Poor  133.690562   72.858753  28.878183  24576.219405",
      "text/html": "<div>\n<style scoped>\n    .dataframe tbody tr th:only-of-type {\n        vertical-align: middle;\n    }\n\n    .dataframe tbody tr th {\n        vertical-align: top;\n    }\n\n    .dataframe thead th {\n        text-align: right;\n    }\n</style>\n<table border=\"1\" class=\"dataframe\">\n  <thead>\n    <tr style=\"text-align: right;\">\n      <th></th>\n      <th>gender</th>\n      <th>Economic Status</th>\n      <th>Height</th>\n      <th>Weight</th>\n      <th>Age</th>\n      <th>Income</th>\n    </tr>\n  </thead>\n  <tbody>\n    <tr>\n      <th>0</th>\n      <td>male</td>\n      <td>Middle Class</td>\n      <td>187.400352</td>\n      <td>100.525714</td>\n      <td>39.652301</td>\n      <td>14766.345719</td>\n    </tr>\n    <tr>\n      <th>2</th>\n      <td>female</td>\n      <td>Rich</td>\n      <td>154.695262</td>\n      <td>55.054796</td>\n      <td>47.636092</td>\n      <td>23082.904902</td>\n    </tr>\n    <tr>\n      <th>4</th>\n      <td>female</td>\n      <td>Middle Class</td>\n      <td>144.197292</td>\n      <td>72.570988</td>\n      <td>35.220431</td>\n      <td>20679.051169</td>\n    </tr>\n    <tr>\n      <th>5</th>\n      <td>male</td>\n      <td>Poor</td>\n      <td>162.158989</td>\n      <td>45.024294</td>\n      <td>15.338597</td>\n      <td>19437.528956</td>\n    </tr>\n    <tr>\n      <th>9</th>\n      <td>male</td>\n      <td>Rich</td>\n      <td>177.993166</td>\n      <td>59.133404</td>\n      <td>42.984342</td>\n      <td>14089.175685</td>\n    </tr>\n    <tr>\n      <th>10</th>\n      <td>female</td>\n      <td>Poor</td>\n      <td>133.690562</td>\n      <td>72.858753</td>\n      <td>28.878183</td>\n      <td>24576.219405</td>\n    </tr>\n  </tbody>\n</table>\n</div>"
     },
     "execution_count": 32,
     "metadata": {},
     "output_type": "execute_result"
    }
   ],
   "source": [
    "double_group.head(1) # nos devuelve el primer valor"
   ],
   "metadata": {
    "collapsed": false
   }
  },
  {
   "cell_type": "code",
   "execution_count": 33,
   "outputs": [
    {
     "data": {
      "text/plain": "     gender Economic Status      Height     Weight        Age        Income\n493  female            Rich  134.243128  91.190068  31.142468  17238.533324\n494    male            Rich  186.056514  78.129525  32.739831  16351.167384\n495  female    Middle Class  170.205510  92.647577  41.008380  20740.741639\n496    male            Poor  198.120466  65.855149  48.104534  18565.450027\n497  female            Poor  146.880521  64.184242  15.719935  18656.925705\n499    male    Middle Class  178.501571  25.569500  30.998459  15127.541568",
      "text/html": "<div>\n<style scoped>\n    .dataframe tbody tr th:only-of-type {\n        vertical-align: middle;\n    }\n\n    .dataframe tbody tr th {\n        vertical-align: top;\n    }\n\n    .dataframe thead th {\n        text-align: right;\n    }\n</style>\n<table border=\"1\" class=\"dataframe\">\n  <thead>\n    <tr style=\"text-align: right;\">\n      <th></th>\n      <th>gender</th>\n      <th>Economic Status</th>\n      <th>Height</th>\n      <th>Weight</th>\n      <th>Age</th>\n      <th>Income</th>\n    </tr>\n  </thead>\n  <tbody>\n    <tr>\n      <th>493</th>\n      <td>female</td>\n      <td>Rich</td>\n      <td>134.243128</td>\n      <td>91.190068</td>\n      <td>31.142468</td>\n      <td>17238.533324</td>\n    </tr>\n    <tr>\n      <th>494</th>\n      <td>male</td>\n      <td>Rich</td>\n      <td>186.056514</td>\n      <td>78.129525</td>\n      <td>32.739831</td>\n      <td>16351.167384</td>\n    </tr>\n    <tr>\n      <th>495</th>\n      <td>female</td>\n      <td>Middle Class</td>\n      <td>170.205510</td>\n      <td>92.647577</td>\n      <td>41.008380</td>\n      <td>20740.741639</td>\n    </tr>\n    <tr>\n      <th>496</th>\n      <td>male</td>\n      <td>Poor</td>\n      <td>198.120466</td>\n      <td>65.855149</td>\n      <td>48.104534</td>\n      <td>18565.450027</td>\n    </tr>\n    <tr>\n      <th>497</th>\n      <td>female</td>\n      <td>Poor</td>\n      <td>146.880521</td>\n      <td>64.184242</td>\n      <td>15.719935</td>\n      <td>18656.925705</td>\n    </tr>\n    <tr>\n      <th>499</th>\n      <td>male</td>\n      <td>Middle Class</td>\n      <td>178.501571</td>\n      <td>25.569500</td>\n      <td>30.998459</td>\n      <td>15127.541568</td>\n    </tr>\n  </tbody>\n</table>\n</div>"
     },
     "execution_count": 33,
     "metadata": {},
     "output_type": "execute_result"
    }
   ],
   "source": [
    "double_group.tail (1) # Nos devuelve el ultimo valor"
   ],
   "metadata": {
    "collapsed": false
   }
  },
  {
   "cell_type": "code",
   "execution_count": 34,
   "outputs": [
    {
     "data": {
      "text/plain": "                            Height      Weight        Age        Income\ngender Economic Status                                                 \nfemale Middle Class     184.872266   42.069285  33.517553  22604.108197\n       Poor             214.993399   45.497420  28.602154  20203.908210\n       Rich             144.406616   39.429825  23.788187  20120.362704\nmale   Middle Class     157.409805  100.966173  55.528975  20587.149951\n       Poor             181.525273   17.011526  48.204175  18738.378042\n       Rich             144.382498   52.701468  31.541457  19916.390944",
      "text/html": "<div>\n<style scoped>\n    .dataframe tbody tr th:only-of-type {\n        vertical-align: middle;\n    }\n\n    .dataframe tbody tr th {\n        vertical-align: top;\n    }\n\n    .dataframe thead th {\n        text-align: right;\n    }\n</style>\n<table border=\"1\" class=\"dataframe\">\n  <thead>\n    <tr style=\"text-align: right;\">\n      <th></th>\n      <th></th>\n      <th>Height</th>\n      <th>Weight</th>\n      <th>Age</th>\n      <th>Income</th>\n    </tr>\n    <tr>\n      <th>gender</th>\n      <th>Economic Status</th>\n      <th></th>\n      <th></th>\n      <th></th>\n      <th></th>\n    </tr>\n  </thead>\n  <tbody>\n    <tr>\n      <th rowspan=\"3\" valign=\"top\">female</th>\n      <th>Middle Class</th>\n      <td>184.872266</td>\n      <td>42.069285</td>\n      <td>33.517553</td>\n      <td>22604.108197</td>\n    </tr>\n    <tr>\n      <th>Poor</th>\n      <td>214.993399</td>\n      <td>45.497420</td>\n      <td>28.602154</td>\n      <td>20203.908210</td>\n    </tr>\n    <tr>\n      <th>Rich</th>\n      <td>144.406616</td>\n      <td>39.429825</td>\n      <td>23.788187</td>\n      <td>20120.362704</td>\n    </tr>\n    <tr>\n      <th rowspan=\"3\" valign=\"top\">male</th>\n      <th>Middle Class</th>\n      <td>157.409805</td>\n      <td>100.966173</td>\n      <td>55.528975</td>\n      <td>20587.149951</td>\n    </tr>\n    <tr>\n      <th>Poor</th>\n      <td>181.525273</td>\n      <td>17.011526</td>\n      <td>48.204175</td>\n      <td>18738.378042</td>\n    </tr>\n    <tr>\n      <th>Rich</th>\n      <td>144.382498</td>\n      <td>52.701468</td>\n      <td>31.541457</td>\n      <td>19916.390944</td>\n    </tr>\n  </tbody>\n</table>\n</div>"
     },
     "execution_count": 34,
     "metadata": {},
     "output_type": "execute_result"
    }
   ],
   "source": [
    "double_group.nth(32) # Obtener la fila 32 de cada una de las categorías. Todas las filas deben tener dicho número de filas"
   ],
   "metadata": {
    "collapsed": false
   }
  },
  {
   "cell_type": "code",
   "execution_count": 35,
   "outputs": [
    {
     "data": {
      "text/plain": "                            Height     Weight        Age        Income\ngender Economic Status                                                \nfemale Rich             129.390238  58.106113  27.061466  14763.755849\nmale   Middle Class     132.218451  47.955040  36.821691  16481.383577\n       Poor             176.765302  70.710640  26.857511  19360.509336",
      "text/html": "<div>\n<style scoped>\n    .dataframe tbody tr th:only-of-type {\n        vertical-align: middle;\n    }\n\n    .dataframe tbody tr th {\n        vertical-align: top;\n    }\n\n    .dataframe thead th {\n        text-align: right;\n    }\n</style>\n<table border=\"1\" class=\"dataframe\">\n  <thead>\n    <tr style=\"text-align: right;\">\n      <th></th>\n      <th></th>\n      <th>Height</th>\n      <th>Weight</th>\n      <th>Age</th>\n      <th>Income</th>\n    </tr>\n    <tr>\n      <th>gender</th>\n      <th>Economic Status</th>\n      <th></th>\n      <th></th>\n      <th></th>\n      <th></th>\n    </tr>\n  </thead>\n  <tbody>\n    <tr>\n      <th>female</th>\n      <th>Rich</th>\n      <td>129.390238</td>\n      <td>58.106113</td>\n      <td>27.061466</td>\n      <td>14763.755849</td>\n    </tr>\n    <tr>\n      <th rowspan=\"2\" valign=\"top\">male</th>\n      <th>Middle Class</th>\n      <td>132.218451</td>\n      <td>47.955040</td>\n      <td>36.821691</td>\n      <td>16481.383577</td>\n    </tr>\n    <tr>\n      <th>Poor</th>\n      <td>176.765302</td>\n      <td>70.710640</td>\n      <td>26.857511</td>\n      <td>19360.509336</td>\n    </tr>\n  </tbody>\n</table>\n</div>"
     },
     "execution_count": 35,
     "metadata": {},
     "output_type": "execute_result"
    }
   ],
   "source": [
    "double_group.nth(82) # Para el caso de que no haya datos para alguna de las filas"
   ],
   "metadata": {
    "collapsed": false
   }
  },
  {
   "cell_type": "markdown",
   "source": [
    "TAmbién es interesante ordenar el dataframe antes de generar el objeto group by:"
   ],
   "metadata": {
    "collapsed": false
   }
  },
  {
   "cell_type": "code",
   "execution_count": 36,
   "outputs": [],
   "source": [
    "data_sorted = data.sort_values(['Age', 'Income'])"
   ],
   "metadata": {
    "collapsed": false
   }
  },
  {
   "cell_type": "code",
   "execution_count": 37,
   "outputs": [
    {
     "data": {
      "text/plain": "     gender Economic Status      Height     Weight        Age        Income\n34   female            Rich  136.095865  80.794310 -13.306697  18916.332970\n101    male            Poor  195.421339  76.687563  -7.651734  15619.725517\n125    male            Poor  179.400269  80.339528   0.114097  19114.285690\n197    male            Poor  157.912273  28.568781   2.731186  20387.593661\n357  female            Poor  151.521374  53.780594   3.294707  16669.290911",
      "text/html": "<div>\n<style scoped>\n    .dataframe tbody tr th:only-of-type {\n        vertical-align: middle;\n    }\n\n    .dataframe tbody tr th {\n        vertical-align: top;\n    }\n\n    .dataframe thead th {\n        text-align: right;\n    }\n</style>\n<table border=\"1\" class=\"dataframe\">\n  <thead>\n    <tr style=\"text-align: right;\">\n      <th></th>\n      <th>gender</th>\n      <th>Economic Status</th>\n      <th>Height</th>\n      <th>Weight</th>\n      <th>Age</th>\n      <th>Income</th>\n    </tr>\n  </thead>\n  <tbody>\n    <tr>\n      <th>34</th>\n      <td>female</td>\n      <td>Rich</td>\n      <td>136.095865</td>\n      <td>80.794310</td>\n      <td>-13.306697</td>\n      <td>18916.332970</td>\n    </tr>\n    <tr>\n      <th>101</th>\n      <td>male</td>\n      <td>Poor</td>\n      <td>195.421339</td>\n      <td>76.687563</td>\n      <td>-7.651734</td>\n      <td>15619.725517</td>\n    </tr>\n    <tr>\n      <th>125</th>\n      <td>male</td>\n      <td>Poor</td>\n      <td>179.400269</td>\n      <td>80.339528</td>\n      <td>0.114097</td>\n      <td>19114.285690</td>\n    </tr>\n    <tr>\n      <th>197</th>\n      <td>male</td>\n      <td>Poor</td>\n      <td>157.912273</td>\n      <td>28.568781</td>\n      <td>2.731186</td>\n      <td>20387.593661</td>\n    </tr>\n    <tr>\n      <th>357</th>\n      <td>female</td>\n      <td>Poor</td>\n      <td>151.521374</td>\n      <td>53.780594</td>\n      <td>3.294707</td>\n      <td>16669.290911</td>\n    </tr>\n  </tbody>\n</table>\n</div>"
     },
     "execution_count": 37,
     "metadata": {},
     "output_type": "execute_result"
    }
   ],
   "source": [
    "data_sorted.head()"
   ],
   "metadata": {
    "collapsed": false
   }
  },
  {
   "cell_type": "code",
   "execution_count": 38,
   "outputs": [],
   "source": [
    "age_grouped = data_sorted.groupby('gender')"
   ],
   "metadata": {
    "collapsed": false
   }
  },
  {
   "cell_type": "code",
   "execution_count": 39,
   "outputs": [
    {
     "data": {
      "text/plain": "     gender Economic Status      Height     Weight        Age        Income\n34   female            Rich  136.095865  80.794310 -13.306697  18916.332970\n101    male            Poor  195.421339  76.687563  -7.651734  15619.725517\n125    male            Poor  179.400269  80.339528   0.114097  19114.285690\n197    male            Poor  157.912273  28.568781   2.731186  20387.593661\n357  female            Poor  151.521374  53.780594   3.294707  16669.290911\n354    male            Poor  102.630446  25.720271   5.658117  18825.381803\n313  female    Middle Class  196.964241  98.262434   5.870689  20354.587893\n377    male            Rich  154.904499  49.927488   6.561824  22864.413407\n341  female    Middle Class  218.247483  44.082529   8.318078  19632.934822\n409  female            Poor  123.432335  78.707148   8.340277  21438.588232",
      "text/html": "<div>\n<style scoped>\n    .dataframe tbody tr th:only-of-type {\n        vertical-align: middle;\n    }\n\n    .dataframe tbody tr th {\n        vertical-align: top;\n    }\n\n    .dataframe thead th {\n        text-align: right;\n    }\n</style>\n<table border=\"1\" class=\"dataframe\">\n  <thead>\n    <tr style=\"text-align: right;\">\n      <th></th>\n      <th>gender</th>\n      <th>Economic Status</th>\n      <th>Height</th>\n      <th>Weight</th>\n      <th>Age</th>\n      <th>Income</th>\n    </tr>\n  </thead>\n  <tbody>\n    <tr>\n      <th>34</th>\n      <td>female</td>\n      <td>Rich</td>\n      <td>136.095865</td>\n      <td>80.794310</td>\n      <td>-13.306697</td>\n      <td>18916.332970</td>\n    </tr>\n    <tr>\n      <th>101</th>\n      <td>male</td>\n      <td>Poor</td>\n      <td>195.421339</td>\n      <td>76.687563</td>\n      <td>-7.651734</td>\n      <td>15619.725517</td>\n    </tr>\n    <tr>\n      <th>125</th>\n      <td>male</td>\n      <td>Poor</td>\n      <td>179.400269</td>\n      <td>80.339528</td>\n      <td>0.114097</td>\n      <td>19114.285690</td>\n    </tr>\n    <tr>\n      <th>197</th>\n      <td>male</td>\n      <td>Poor</td>\n      <td>157.912273</td>\n      <td>28.568781</td>\n      <td>2.731186</td>\n      <td>20387.593661</td>\n    </tr>\n    <tr>\n      <th>357</th>\n      <td>female</td>\n      <td>Poor</td>\n      <td>151.521374</td>\n      <td>53.780594</td>\n      <td>3.294707</td>\n      <td>16669.290911</td>\n    </tr>\n    <tr>\n      <th>354</th>\n      <td>male</td>\n      <td>Poor</td>\n      <td>102.630446</td>\n      <td>25.720271</td>\n      <td>5.658117</td>\n      <td>18825.381803</td>\n    </tr>\n    <tr>\n      <th>313</th>\n      <td>female</td>\n      <td>Middle Class</td>\n      <td>196.964241</td>\n      <td>98.262434</td>\n      <td>5.870689</td>\n      <td>20354.587893</td>\n    </tr>\n    <tr>\n      <th>377</th>\n      <td>male</td>\n      <td>Rich</td>\n      <td>154.904499</td>\n      <td>49.927488</td>\n      <td>6.561824</td>\n      <td>22864.413407</td>\n    </tr>\n    <tr>\n      <th>341</th>\n      <td>female</td>\n      <td>Middle Class</td>\n      <td>218.247483</td>\n      <td>44.082529</td>\n      <td>8.318078</td>\n      <td>19632.934822</td>\n    </tr>\n    <tr>\n      <th>409</th>\n      <td>female</td>\n      <td>Poor</td>\n      <td>123.432335</td>\n      <td>78.707148</td>\n      <td>8.340277</td>\n      <td>21438.588232</td>\n    </tr>\n  </tbody>\n</table>\n</div>"
     },
     "execution_count": 39,
     "metadata": {},
     "output_type": "execute_result"
    }
   ],
   "source": [
    "age_grouped.head()"
   ],
   "metadata": {
    "collapsed": false
   }
  },
  {
   "cell_type": "code",
   "execution_count": 40,
   "outputs": [
    {
     "data": {
      "text/plain": "     gender Economic Status      Height     Weight        Age        Income\n34   female            Rich  136.095865  80.794310 -13.306697  18916.332970\n101    male            Poor  195.421339  76.687563  -7.651734  15619.725517",
      "text/html": "<div>\n<style scoped>\n    .dataframe tbody tr th:only-of-type {\n        vertical-align: middle;\n    }\n\n    .dataframe tbody tr th {\n        vertical-align: top;\n    }\n\n    .dataframe thead th {\n        text-align: right;\n    }\n</style>\n<table border=\"1\" class=\"dataframe\">\n  <thead>\n    <tr style=\"text-align: right;\">\n      <th></th>\n      <th>gender</th>\n      <th>Economic Status</th>\n      <th>Height</th>\n      <th>Weight</th>\n      <th>Age</th>\n      <th>Income</th>\n    </tr>\n  </thead>\n  <tbody>\n    <tr>\n      <th>34</th>\n      <td>female</td>\n      <td>Rich</td>\n      <td>136.095865</td>\n      <td>80.794310</td>\n      <td>-13.306697</td>\n      <td>18916.332970</td>\n    </tr>\n    <tr>\n      <th>101</th>\n      <td>male</td>\n      <td>Poor</td>\n      <td>195.421339</td>\n      <td>76.687563</td>\n      <td>-7.651734</td>\n      <td>15619.725517</td>\n    </tr>\n  </tbody>\n</table>\n</div>"
     },
     "execution_count": 40,
     "metadata": {},
     "output_type": "execute_result"
    }
   ],
   "source": [
    "age_grouped.head(1)"
   ],
   "metadata": {
    "collapsed": false
   }
  },
  {
   "cell_type": "code",
   "execution_count": 41,
   "outputs": [
    {
     "data": {
      "text/plain": "     gender Economic Status      Height     Weight        Age        Income\n374    male    Middle Class  180.441388  32.666794  60.928322  18392.353863\n238  female            Rich  131.415149  39.653516  61.702441  19306.407837",
      "text/html": "<div>\n<style scoped>\n    .dataframe tbody tr th:only-of-type {\n        vertical-align: middle;\n    }\n\n    .dataframe tbody tr th {\n        vertical-align: top;\n    }\n\n    .dataframe thead th {\n        text-align: right;\n    }\n</style>\n<table border=\"1\" class=\"dataframe\">\n  <thead>\n    <tr style=\"text-align: right;\">\n      <th></th>\n      <th>gender</th>\n      <th>Economic Status</th>\n      <th>Height</th>\n      <th>Weight</th>\n      <th>Age</th>\n      <th>Income</th>\n    </tr>\n  </thead>\n  <tbody>\n    <tr>\n      <th>374</th>\n      <td>male</td>\n      <td>Middle Class</td>\n      <td>180.441388</td>\n      <td>32.666794</td>\n      <td>60.928322</td>\n      <td>18392.353863</td>\n    </tr>\n    <tr>\n      <th>238</th>\n      <td>female</td>\n      <td>Rich</td>\n      <td>131.415149</td>\n      <td>39.653516</td>\n      <td>61.702441</td>\n      <td>19306.407837</td>\n    </tr>\n  </tbody>\n</table>\n</div>"
     },
     "execution_count": 41,
     "metadata": {},
     "output_type": "execute_result"
    }
   ],
   "source": [
    "age_grouped.tail(1)"
   ],
   "metadata": {
    "collapsed": false
   }
  },
  {
   "cell_type": "markdown",
   "source": [
    "## Conjunto de entrenamiento y de testing"
   ],
   "metadata": {
    "collapsed": false
   }
  },
  {
   "cell_type": "markdown",
   "source": [
    "Los datasets originales se suelen dividir en conjunto de entrenamiento y, conjunto de testing. El training es el dataset con el que se construye el modelo. Por otro lado, el conjunto de testing se usan para ver el resultado de dicho modelo y ver la eficacia del modelo."
   ],
   "metadata": {
    "collapsed": false
   }
  },
  {
   "cell_type": "code",
   "execution_count": 42,
   "outputs": [],
   "source": [
    "data = pd.read_csv('../data/customer-churn-model/Customer Churn Model.txt')"
   ],
   "metadata": {
    "collapsed": false
   }
  },
  {
   "cell_type": "code",
   "execution_count": 43,
   "outputs": [
    {
     "data": {
      "text/plain": "       Account Length    Area Code  VMail Message     Day Mins    Day Calls  \\\ncount     3333.000000  3333.000000    3333.000000  3333.000000  3333.000000   \nmean       101.064806   437.182418       8.099010   179.775098   100.435644   \nstd         39.822106    42.371290      13.688365    54.467389    20.069084   \nmin          1.000000   408.000000       0.000000     0.000000     0.000000   \n25%         74.000000   408.000000       0.000000   143.700000    87.000000   \n50%        101.000000   415.000000       0.000000   179.400000   101.000000   \n75%        127.000000   510.000000      20.000000   216.400000   114.000000   \nmax        243.000000   510.000000      51.000000   350.800000   165.000000   \n\n        Day Charge     Eve Mins    Eve Calls   Eve Charge   Night Mins  \\\ncount  3333.000000  3333.000000  3333.000000  3333.000000  3333.000000   \nmean     30.562307   200.980348   100.114311    17.083540   200.872037   \nstd       9.259435    50.713844    19.922625     4.310668    50.573847   \nmin       0.000000     0.000000     0.000000     0.000000    23.200000   \n25%      24.430000   166.600000    87.000000    14.160000   167.000000   \n50%      30.500000   201.400000   100.000000    17.120000   201.200000   \n75%      36.790000   235.300000   114.000000    20.000000   235.300000   \nmax      59.640000   363.700000   170.000000    30.910000   395.000000   \n\n       Night Calls  Night Charge    Intl Mins   Intl Calls  Intl Charge  \\\ncount  3333.000000   3333.000000  3333.000000  3333.000000  3333.000000   \nmean    100.107711      9.039325    10.237294     4.479448     2.764581   \nstd      19.568609      2.275873     2.791840     2.461214     0.753773   \nmin      33.000000      1.040000     0.000000     0.000000     0.000000   \n25%      87.000000      7.520000     8.500000     3.000000     2.300000   \n50%     100.000000      9.050000    10.300000     4.000000     2.780000   \n75%     113.000000     10.590000    12.100000     6.000000     3.270000   \nmax     175.000000     17.770000    20.000000    20.000000     5.400000   \n\n       CustServ Calls  \ncount     3333.000000  \nmean         1.562856  \nstd          1.315491  \nmin          0.000000  \n25%          1.000000  \n50%          1.000000  \n75%          2.000000  \nmax          9.000000  ",
      "text/html": "<div>\n<style scoped>\n    .dataframe tbody tr th:only-of-type {\n        vertical-align: middle;\n    }\n\n    .dataframe tbody tr th {\n        vertical-align: top;\n    }\n\n    .dataframe thead th {\n        text-align: right;\n    }\n</style>\n<table border=\"1\" class=\"dataframe\">\n  <thead>\n    <tr style=\"text-align: right;\">\n      <th></th>\n      <th>Account Length</th>\n      <th>Area Code</th>\n      <th>VMail Message</th>\n      <th>Day Mins</th>\n      <th>Day Calls</th>\n      <th>Day Charge</th>\n      <th>Eve Mins</th>\n      <th>Eve Calls</th>\n      <th>Eve Charge</th>\n      <th>Night Mins</th>\n      <th>Night Calls</th>\n      <th>Night Charge</th>\n      <th>Intl Mins</th>\n      <th>Intl Calls</th>\n      <th>Intl Charge</th>\n      <th>CustServ Calls</th>\n    </tr>\n  </thead>\n  <tbody>\n    <tr>\n      <th>count</th>\n      <td>3333.000000</td>\n      <td>3333.000000</td>\n      <td>3333.000000</td>\n      <td>3333.000000</td>\n      <td>3333.000000</td>\n      <td>3333.000000</td>\n      <td>3333.000000</td>\n      <td>3333.000000</td>\n      <td>3333.000000</td>\n      <td>3333.000000</td>\n      <td>3333.000000</td>\n      <td>3333.000000</td>\n      <td>3333.000000</td>\n      <td>3333.000000</td>\n      <td>3333.000000</td>\n      <td>3333.000000</td>\n    </tr>\n    <tr>\n      <th>mean</th>\n      <td>101.064806</td>\n      <td>437.182418</td>\n      <td>8.099010</td>\n      <td>179.775098</td>\n      <td>100.435644</td>\n      <td>30.562307</td>\n      <td>200.980348</td>\n      <td>100.114311</td>\n      <td>17.083540</td>\n      <td>200.872037</td>\n      <td>100.107711</td>\n      <td>9.039325</td>\n      <td>10.237294</td>\n      <td>4.479448</td>\n      <td>2.764581</td>\n      <td>1.562856</td>\n    </tr>\n    <tr>\n      <th>std</th>\n      <td>39.822106</td>\n      <td>42.371290</td>\n      <td>13.688365</td>\n      <td>54.467389</td>\n      <td>20.069084</td>\n      <td>9.259435</td>\n      <td>50.713844</td>\n      <td>19.922625</td>\n      <td>4.310668</td>\n      <td>50.573847</td>\n      <td>19.568609</td>\n      <td>2.275873</td>\n      <td>2.791840</td>\n      <td>2.461214</td>\n      <td>0.753773</td>\n      <td>1.315491</td>\n    </tr>\n    <tr>\n      <th>min</th>\n      <td>1.000000</td>\n      <td>408.000000</td>\n      <td>0.000000</td>\n      <td>0.000000</td>\n      <td>0.000000</td>\n      <td>0.000000</td>\n      <td>0.000000</td>\n      <td>0.000000</td>\n      <td>0.000000</td>\n      <td>23.200000</td>\n      <td>33.000000</td>\n      <td>1.040000</td>\n      <td>0.000000</td>\n      <td>0.000000</td>\n      <td>0.000000</td>\n      <td>0.000000</td>\n    </tr>\n    <tr>\n      <th>25%</th>\n      <td>74.000000</td>\n      <td>408.000000</td>\n      <td>0.000000</td>\n      <td>143.700000</td>\n      <td>87.000000</td>\n      <td>24.430000</td>\n      <td>166.600000</td>\n      <td>87.000000</td>\n      <td>14.160000</td>\n      <td>167.000000</td>\n      <td>87.000000</td>\n      <td>7.520000</td>\n      <td>8.500000</td>\n      <td>3.000000</td>\n      <td>2.300000</td>\n      <td>1.000000</td>\n    </tr>\n    <tr>\n      <th>50%</th>\n      <td>101.000000</td>\n      <td>415.000000</td>\n      <td>0.000000</td>\n      <td>179.400000</td>\n      <td>101.000000</td>\n      <td>30.500000</td>\n      <td>201.400000</td>\n      <td>100.000000</td>\n      <td>17.120000</td>\n      <td>201.200000</td>\n      <td>100.000000</td>\n      <td>9.050000</td>\n      <td>10.300000</td>\n      <td>4.000000</td>\n      <td>2.780000</td>\n      <td>1.000000</td>\n    </tr>\n    <tr>\n      <th>75%</th>\n      <td>127.000000</td>\n      <td>510.000000</td>\n      <td>20.000000</td>\n      <td>216.400000</td>\n      <td>114.000000</td>\n      <td>36.790000</td>\n      <td>235.300000</td>\n      <td>114.000000</td>\n      <td>20.000000</td>\n      <td>235.300000</td>\n      <td>113.000000</td>\n      <td>10.590000</td>\n      <td>12.100000</td>\n      <td>6.000000</td>\n      <td>3.270000</td>\n      <td>2.000000</td>\n    </tr>\n    <tr>\n      <th>max</th>\n      <td>243.000000</td>\n      <td>510.000000</td>\n      <td>51.000000</td>\n      <td>350.800000</td>\n      <td>165.000000</td>\n      <td>59.640000</td>\n      <td>363.700000</td>\n      <td>170.000000</td>\n      <td>30.910000</td>\n      <td>395.000000</td>\n      <td>175.000000</td>\n      <td>17.770000</td>\n      <td>20.000000</td>\n      <td>20.000000</td>\n      <td>5.400000</td>\n      <td>9.000000</td>\n    </tr>\n  </tbody>\n</table>\n</div>"
     },
     "execution_count": 43,
     "metadata": {},
     "output_type": "execute_result"
    }
   ],
   "source": [
    "data.describe()"
   ],
   "metadata": {
    "collapsed": false
   }
  },
  {
   "cell_type": "markdown",
   "source": [
    "### Dividir utilizando la distribucion normal"
   ],
   "metadata": {
    "collapsed": false
   }
  },
  {
   "cell_type": "markdown",
   "source": [
    "Este métodolo primero es la distrubución estática básica de 80-20:"
   ],
   "metadata": {
    "collapsed": false
   }
  },
  {
   "cell_type": "code",
   "execution_count": 44,
   "outputs": [],
   "source": [
    "a = np.random.randn(len(data))"
   ],
   "metadata": {
    "collapsed": false
   }
  },
  {
   "cell_type": "code",
   "execution_count": 45,
   "outputs": [
    {
     "data": {
      "text/plain": "(array([ 12.,  54., 215., 486., 811., 845., 588., 242.,  65.,  15.]),\n array([-3.43925331, -2.76632777, -2.09340223, -1.42047669, -0.74755114,\n        -0.0746256 ,  0.59829994,  1.27122548,  1.94415102,  2.61707656,\n         3.2900021 ]),\n <BarContainer object of 10 artists>)"
     },
     "execution_count": 45,
     "metadata": {},
     "output_type": "execute_result"
    },
    {
     "data": {
      "text/plain": "<Figure size 640x480 with 1 Axes>",
      "image/png": "[encoded data removed]"
     },
     "metadata": {},
     "output_type": "display_data"
    }
   ],
   "source": [
    "plt.hist(a)"
   ],
   "metadata": {
    "collapsed": false
   }
  },
  {
   "cell_type": "code",
   "execution_count": 46,
   "outputs": [],
   "source": [
    "check = a < 0.8"
   ],
   "metadata": {
    "collapsed": false
   }
  },
  {
   "cell_type": "code",
   "execution_count": 47,
   "outputs": [
    {
     "data": {
      "text/plain": "array([ True, False,  True, ...,  True,  True,  True])"
     },
     "execution_count": 47,
     "metadata": {},
     "output_type": "execute_result"
    }
   ],
   "source": [
    "check"
   ],
   "metadata": {
    "collapsed": false
   }
  },
  {
   "cell_type": "code",
   "execution_count": 48,
   "outputs": [
    {
     "data": {
      "text/plain": "(array([ 710.,    0.,    0.,    0.,    0.,    0.,    0.,    0.,    0.,\n        2623.]),\n array([0. , 0.1, 0.2, 0.3, 0.4, 0.5, 0.6, 0.7, 0.8, 0.9, 1. ]),\n <BarContainer object of 10 artists>)"
     },
     "execution_count": 48,
     "metadata": {},
     "output_type": "execute_result"
    },
    {
     "data": {
      "text/plain": "<Figure size 640x480 with 1 Axes>",
      "image/png": "[encoded data removed]"
     },
     "metadata": {},
     "output_type": "display_data"
    }
   ],
   "source": [
    "plt.hist(check.astype(int))"
   ],
   "metadata": {
    "collapsed": false
   }
  },
  {
   "cell_type": "markdown",
   "source": [
    "training = data [check]\n",
    "testing = data [~check]"
   ],
   "metadata": {
    "collapsed": false
   }
  },
  {
   "cell_type": "code",
   "execution_count": 49,
   "outputs": [
    {
     "ename": "NameError",
     "evalue": "name 'training' is not defined",
     "output_type": "error",
     "traceback": [
      "\u001B[0;31m---------------------------------------------------------------------------\u001B[0m",
      "\u001B[0;31mNameError\u001B[0m                                 Traceback (most recent call last)",
      "Cell \u001B[0;32mIn[49], line 1\u001B[0m\n\u001B[0;32m----> 1\u001B[0m \u001B[38;5;28mprint\u001B[39m(\u001B[38;5;28mlen\u001B[39m(\u001B[43mtraining\u001B[49m))\n\u001B[1;32m      2\u001B[0m \u001B[38;5;28mprint\u001B[39m(\u001B[38;5;28mlen\u001B[39m(testing))\n",
      "\u001B[0;31mNameError\u001B[0m: name 'training' is not defined"
     ]
    }
   ],
   "source": [
    "print(len(training))\n",
    "print(len(testing))"
   ],
   "metadata": {
    "collapsed": false
   }
  },
  {
   "cell_type": "markdown",
   "source": [
    "La siguiente operación que vamos a ver es la division del dataset utilizando la validación cruzada:"
   ],
   "metadata": {
    "collapsed": false
   }
  },
  {
   "cell_type": "code",
   "execution_count": 50,
   "outputs": [],
   "source": [
    "train, test = train_test_split(data, test_size= 0.2)"
   ],
   "metadata": {
    "collapsed": false
   }
  },
  {
   "cell_type": "code",
   "execution_count": 51,
   "outputs": [
    {
     "data": {
      "text/plain": "2666"
     },
     "execution_count": 51,
     "metadata": {},
     "output_type": "execute_result"
    }
   ],
   "source": [
    "len(train)"
   ],
   "metadata": {
    "collapsed": false
   }
  },
  {
   "cell_type": "code",
   "execution_count": 52,
   "outputs": [
    {
     "data": {
      "text/plain": "667"
     },
     "execution_count": 52,
     "metadata": {},
     "output_type": "execute_result"
    }
   ],
   "source": [
    "len(test)"
   ],
   "metadata": {
    "collapsed": false
   }
  },
  {
   "cell_type": "markdown",
   "source": [
    "El tercer método es usando una función de mezclado de datos:"
   ],
   "metadata": {
    "collapsed": false
   }
  },
  {
   "cell_type": "code",
   "execution_count": 53,
   "outputs": [
    {
     "data": {
      "text/plain": "  State  Account Length  Area Code     Phone Int'l Plan VMail Plan  \\\n0    KS             128        415  382-4657         no        yes   \n1    OH             107        415  371-7191         no        yes   \n2    NJ             137        415  358-1921         no         no   \n3    OH              84        408  375-9999        yes         no   \n4    OK              75        415  330-6626        yes         no   \n\n   VMail Message  Day Mins  Day Calls  Day Charge  ...  Eve Calls  Eve Charge  \\\n0             25     265.1        110       45.07  ...         99       16.78   \n1             26     161.6        123       27.47  ...        103       16.62   \n2              0     243.4        114       41.38  ...        110       10.30   \n3              0     299.4         71       50.90  ...         88        5.26   \n4              0     166.7        113       28.34  ...        122       12.61   \n\n   Night Mins  Night Calls  Night Charge  Intl Mins  Intl Calls  Intl Charge  \\\n0       244.7           91         11.01       10.0           3         2.70   \n1       254.4          103         11.45       13.7           3         3.70   \n2       162.6          104          7.32       12.2           5         3.29   \n3       196.9           89          8.86        6.6           7         1.78   \n4       186.9          121          8.41       10.1           3         2.73   \n\n   CustServ Calls  Churn?  \n0               1  False.  \n1               1  False.  \n2               0  False.  \n3               2  False.  \n4               3  False.  \n\n[5 rows x 21 columns]",
      "text/html": "<div>\n<style scoped>\n    .dataframe tbody tr th:only-of-type {\n        vertical-align: middle;\n    }\n\n    .dataframe tbody tr th {\n        vertical-align: top;\n    }\n\n    .dataframe thead th {\n        text-align: right;\n    }\n</style>\n<table border=\"1\" class=\"dataframe\">\n  <thead>\n    <tr style=\"text-align: right;\">\n      <th></th>\n      <th>State</th>\n      <th>Account Length</th>\n      <th>Area Code</th>\n      <th>Phone</th>\n      <th>Int'l Plan</th>\n      <th>VMail Plan</th>\n      <th>VMail Message</th>\n      <th>Day Mins</th>\n      <th>Day Calls</th>\n      <th>Day Charge</th>\n      <th>...</th>\n      <th>Eve Calls</th>\n      <th>Eve Charge</th>\n      <th>Night Mins</th>\n      <th>Night Calls</th>\n      <th>Night Charge</th>\n      <th>Intl Mins</th>\n      <th>Intl Calls</th>\n      <th>Intl Charge</th>\n      <th>CustServ Calls</th>\n      <th>Churn?</th>\n    </tr>\n  </thead>\n  <tbody>\n    <tr>\n      <th>0</th>\n      <td>KS</td>\n      <td>128</td>\n      <td>415</td>\n      <td>382-4657</td>\n      <td>no</td>\n      <td>yes</td>\n      <td>25</td>\n      <td>265.1</td>\n      <td>110</td>\n      <td>45.07</td>\n      <td>...</td>\n      <td>99</td>\n      <td>16.78</td>\n      <td>244.7</td>\n      <td>91</td>\n      <td>11.01</td>\n      <td>10.0</td>\n      <td>3</td>\n      <td>2.70</td>\n      <td>1</td>\n      <td>False.</td>\n    </tr>\n    <tr>\n      <th>1</th>\n      <td>OH</td>\n      <td>107</td>\n      <td>415</td>\n      <td>371-7191</td>\n      <td>no</td>\n      <td>yes</td>\n      <td>26</td>\n      <td>161.6</td>\n      <td>123</td>\n      <td>27.47</td>\n      <td>...</td>\n      <td>103</td>\n      <td>16.62</td>\n      <td>254.4</td>\n      <td>103</td>\n      <td>11.45</td>\n      <td>13.7</td>\n      <td>3</td>\n      <td>3.70</td>\n      <td>1</td>\n      <td>False.</td>\n    </tr>\n    <tr>\n      <th>2</th>\n      <td>NJ</td>\n      <td>137</td>\n      <td>415</td>\n      <td>358-1921</td>\n      <td>no</td>\n      <td>no</td>\n      <td>0</td>\n      <td>243.4</td>\n      <td>114</td>\n      <td>41.38</td>\n      <td>...</td>\n      <td>110</td>\n      <td>10.30</td>\n      <td>162.6</td>\n      <td>104</td>\n      <td>7.32</td>\n      <td>12.2</td>\n      <td>5</td>\n      <td>3.29</td>\n      <td>0</td>\n      <td>False.</td>\n    </tr>\n    <tr>\n      <th>3</th>\n      <td>OH</td>\n      <td>84</td>\n      <td>408</td>\n      <td>375-9999</td>\n      <td>yes</td>\n      <td>no</td>\n      <td>0</td>\n      <td>299.4</td>\n      <td>71</td>\n      <td>50.90</td>\n      <td>...</td>\n      <td>88</td>\n      <td>5.26</td>\n      <td>196.9</td>\n      <td>89</td>\n      <td>8.86</td>\n      <td>6.6</td>\n      <td>7</td>\n      <td>1.78</td>\n      <td>2</td>\n      <td>False.</td>\n    </tr>\n    <tr>\n      <th>4</th>\n      <td>OK</td>\n      <td>75</td>\n      <td>415</td>\n      <td>330-6626</td>\n      <td>yes</td>\n      <td>no</td>\n      <td>0</td>\n      <td>166.7</td>\n      <td>113</td>\n      <td>28.34</td>\n      <td>...</td>\n      <td>122</td>\n      <td>12.61</td>\n      <td>186.9</td>\n      <td>121</td>\n      <td>8.41</td>\n      <td>10.1</td>\n      <td>3</td>\n      <td>2.73</td>\n      <td>3</td>\n      <td>False.</td>\n    </tr>\n  </tbody>\n</table>\n<p>5 rows × 21 columns</p>\n</div>"
     },
     "execution_count": 53,
     "metadata": {},
     "output_type": "execute_result"
    }
   ],
   "source": [
    "data.head()"
   ],
   "metadata": {
    "collapsed": false
   }
  },
  {
   "cell_type": "code",
   "execution_count": 58,
   "outputs": [
    {
     "data": {
      "text/plain": "     State  Account Length  Area Code     Phone Int'l Plan VMail Plan  \\\n2597    ND             120        415  369-5810         no         no   \n2625    AR              88        408  348-7448         no         no   \n3180    AL              91        408  348-9383        yes         no   \n493     RI             129        415  366-7360         no        yes   \n3151    ME              56        408  385-5688         no         no   \n...    ...             ...        ...       ...        ...        ...   \n1682    AK              96        408  334-4506         no        yes   \n2922    OH             162        415  328-8747         no         no   \n443     MO             135        510  376-1713         no         no   \n2325    UT             110        415  375-3826         no         no   \n451     KS              86        408  339-2616         no        yes   \n\n      VMail Message  Day Mins  Day Calls  Day Charge  ...  Eve Calls  \\\n2597              0     177.2         88       30.12  ...         99   \n2625              0     152.9        119       25.99  ...        107   \n3180              0     151.8        115       25.81  ...        116   \n493              33     119.6        104       20.33  ...         88   \n3151              0     221.9        112       37.72  ...        122   \n...             ...       ...        ...         ...  ...        ...   \n1682             29     150.0         91       25.50  ...         75   \n2922              0     135.2         98       22.98  ...        107   \n443               0     246.8        129       41.96  ...        121   \n2325              0     271.1        108       46.09  ...        122   \n451              23     225.5        107       38.34  ...        105   \n\n      Eve Charge  Night Mins  Night Calls  Night Charge  Intl Mins  \\\n2597       22.98       231.5           90         10.42       14.0   \n2625       14.55       257.0          106         11.57       12.0   \n3180        8.81       156.3           86          7.03       12.2   \n493        23.69       263.4          175         11.85        5.9   \n3151       23.65       288.1           85         12.96        7.1   \n...          ...         ...          ...           ...        ...   \n1682       13.55       228.1           55         10.26        8.5   \n2922       20.57       246.9           96         11.11       10.2   \n443        15.96       154.5          109          6.95       12.6   \n2325       20.15       239.9          122         10.80        9.8   \n451        20.94       245.7           81         11.06        9.8   \n\n      Intl Calls  Intl Charge  CustServ Calls  Churn?  \n2597           2         3.78               2  False.  \n2625           5         3.24               2  False.  \n3180           4         3.29               1  False.  \n493            2         1.59               2  False.  \n3151           5         1.92               0   True.  \n...          ...          ...             ...     ...  \n1682           3         2.30               1  False.  \n2922           2         2.75               2  False.  \n443            5         3.40               1  False.  \n2325           5         2.65               2   True.  \n451            2         2.65               0  False.  \n\n[3333 rows x 21 columns]",
      "text/html": "<div>\n<style scoped>\n    .dataframe tbody tr th:only-of-type {\n        vertical-align: middle;\n    }\n\n    .dataframe tbody tr th {\n        vertical-align: top;\n    }\n\n    .dataframe thead th {\n        text-align: right;\n    }\n</style>\n<table border=\"1\" class=\"dataframe\">\n  <thead>\n    <tr style=\"text-align: right;\">\n      <th></th>\n      <th>State</th>\n      <th>Account Length</th>\n      <th>Area Code</th>\n      <th>Phone</th>\n      <th>Int'l Plan</th>\n      <th>VMail Plan</th>\n      <th>VMail Message</th>\n      <th>Day Mins</th>\n      <th>Day Calls</th>\n      <th>Day Charge</th>\n      <th>...</th>\n      <th>Eve Calls</th>\n      <th>Eve Charge</th>\n      <th>Night Mins</th>\n      <th>Night Calls</th>\n      <th>Night Charge</th>\n      <th>Intl Mins</th>\n      <th>Intl Calls</th>\n      <th>Intl Charge</th>\n      <th>CustServ Calls</th>\n      <th>Churn?</th>\n    </tr>\n  </thead>\n  <tbody>\n    <tr>\n      <th>2597</th>\n      <td>ND</td>\n      <td>120</td>\n      <td>415</td>\n      <td>369-5810</td>\n      <td>no</td>\n      <td>no</td>\n      <td>0</td>\n      <td>177.2</td>\n      <td>88</td>\n      <td>30.12</td>\n      <td>...</td>\n      <td>99</td>\n      <td>22.98</td>\n      <td>231.5</td>\n      <td>90</td>\n      <td>10.42</td>\n      <td>14.0</td>\n      <td>2</td>\n      <td>3.78</td>\n      <td>2</td>\n      <td>False.</td>\n    </tr>\n    <tr>\n      <th>2625</th>\n      <td>AR</td>\n      <td>88</td>\n      <td>408</td>\n      <td>348-7448</td>\n      <td>no</td>\n      <td>no</td>\n      <td>0</td>\n      <td>152.9</td>\n      <td>119</td>\n      <td>25.99</td>\n      <td>...</td>\n      <td>107</td>\n      <td>14.55</td>\n      <td>257.0</td>\n      <td>106</td>\n      <td>11.57</td>\n      <td>12.0</td>\n      <td>5</td>\n      <td>3.24</td>\n      <td>2</td>\n      <td>False.</td>\n    </tr>\n    <tr>\n      <th>3180</th>\n      <td>AL</td>\n      <td>91</td>\n      <td>408</td>\n      <td>348-9383</td>\n      <td>yes</td>\n      <td>no</td>\n      <td>0</td>\n      <td>151.8</td>\n      <td>115</td>\n      <td>25.81</td>\n      <td>...</td>\n      <td>116</td>\n      <td>8.81</td>\n      <td>156.3</td>\n      <td>86</td>\n      <td>7.03</td>\n      <td>12.2</td>\n      <td>4</td>\n      <td>3.29</td>\n      <td>1</td>\n      <td>False.</td>\n    </tr>\n    <tr>\n      <th>493</th>\n      <td>RI</td>\n      <td>129</td>\n      <td>415</td>\n      <td>366-7360</td>\n      <td>no</td>\n      <td>yes</td>\n      <td>33</td>\n      <td>119.6</td>\n      <td>104</td>\n      <td>20.33</td>\n      <td>...</td>\n      <td>88</td>\n      <td>23.69</td>\n      <td>263.4</td>\n      <td>175</td>\n      <td>11.85</td>\n      <td>5.9</td>\n      <td>2</td>\n      <td>1.59</td>\n      <td>2</td>\n      <td>False.</td>\n    </tr>\n    <tr>\n      <th>3151</th>\n      <td>ME</td>\n      <td>56</td>\n      <td>408</td>\n      <td>385-5688</td>\n      <td>no</td>\n      <td>no</td>\n      <td>0</td>\n      <td>221.9</td>\n      <td>112</td>\n      <td>37.72</td>\n      <td>...</td>\n      <td>122</td>\n      <td>23.65</td>\n      <td>288.1</td>\n      <td>85</td>\n      <td>12.96</td>\n      <td>7.1</td>\n      <td>5</td>\n      <td>1.92</td>\n      <td>0</td>\n      <td>True.</td>\n    </tr>\n    <tr>\n      <th>...</th>\n      <td>...</td>\n      <td>...</td>\n      <td>...</td>\n      <td>...</td>\n      <td>...</td>\n      <td>...</td>\n      <td>...</td>\n      <td>...</td>\n      <td>...</td>\n      <td>...</td>\n      <td>...</td>\n      <td>...</td>\n      <td>...</td>\n      <td>...</td>\n      <td>...</td>\n      <td>...</td>\n      <td>...</td>\n      <td>...</td>\n      <td>...</td>\n      <td>...</td>\n      <td>...</td>\n    </tr>\n    <tr>\n      <th>1682</th>\n      <td>AK</td>\n      <td>96</td>\n      <td>408</td>\n      <td>334-4506</td>\n      <td>no</td>\n      <td>yes</td>\n      <td>29</td>\n      <td>150.0</td>\n      <td>91</td>\n      <td>25.50</td>\n      <td>...</td>\n      <td>75</td>\n      <td>13.55</td>\n      <td>228.1</td>\n      <td>55</td>\n      <td>10.26</td>\n      <td>8.5</td>\n      <td>3</td>\n      <td>2.30</td>\n      <td>1</td>\n      <td>False.</td>\n    </tr>\n    <tr>\n      <th>2922</th>\n      <td>OH</td>\n      <td>162</td>\n      <td>415</td>\n      <td>328-8747</td>\n      <td>no</td>\n      <td>no</td>\n      <td>0</td>\n      <td>135.2</td>\n      <td>98</td>\n      <td>22.98</td>\n      <td>...</td>\n      <td>107</td>\n      <td>20.57</td>\n      <td>246.9</td>\n      <td>96</td>\n      <td>11.11</td>\n      <td>10.2</td>\n      <td>2</td>\n      <td>2.75</td>\n      <td>2</td>\n      <td>False.</td>\n    </tr>\n    <tr>\n      <th>443</th>\n      <td>MO</td>\n      <td>135</td>\n      <td>510</td>\n      <td>376-1713</td>\n      <td>no</td>\n      <td>no</td>\n      <td>0</td>\n      <td>246.8</td>\n      <td>129</td>\n      <td>41.96</td>\n      <td>...</td>\n      <td>121</td>\n      <td>15.96</td>\n      <td>154.5</td>\n      <td>109</td>\n      <td>6.95</td>\n      <td>12.6</td>\n      <td>5</td>\n      <td>3.40</td>\n      <td>1</td>\n      <td>False.</td>\n    </tr>\n    <tr>\n      <th>2325</th>\n      <td>UT</td>\n      <td>110</td>\n      <td>415</td>\n      <td>375-3826</td>\n      <td>no</td>\n      <td>no</td>\n      <td>0</td>\n      <td>271.1</td>\n      <td>108</td>\n      <td>46.09</td>\n      <td>...</td>\n      <td>122</td>\n      <td>20.15</td>\n      <td>239.9</td>\n      <td>122</td>\n      <td>10.80</td>\n      <td>9.8</td>\n      <td>5</td>\n      <td>2.65</td>\n      <td>2</td>\n      <td>True.</td>\n    </tr>\n    <tr>\n      <th>451</th>\n      <td>KS</td>\n      <td>86</td>\n      <td>408</td>\n      <td>339-2616</td>\n      <td>no</td>\n      <td>yes</td>\n      <td>23</td>\n      <td>225.5</td>\n      <td>107</td>\n      <td>38.34</td>\n      <td>...</td>\n      <td>105</td>\n      <td>20.94</td>\n      <td>245.7</td>\n      <td>81</td>\n      <td>11.06</td>\n      <td>9.8</td>\n      <td>2</td>\n      <td>2.65</td>\n      <td>0</td>\n      <td>False.</td>\n    </tr>\n  </tbody>\n</table>\n<p>3333 rows × 21 columns</p>\n</div>"
     },
     "execution_count": 58,
     "metadata": {},
     "output_type": "execute_result"
    }
   ],
   "source": [
    "shuffle(data)"
   ],
   "metadata": {
    "collapsed": false
   }
  },
  {
   "cell_type": "code",
   "execution_count": 59,
   "outputs": [],
   "source": [
    "data_shuffle = shuffle(data)"
   ],
   "metadata": {
    "collapsed": false
   }
  },
  {
   "cell_type": "code",
   "execution_count": 60,
   "outputs": [],
   "source": [
    "train_data = data_shuffle[:int(0.75 * len(data))]"
   ],
   "metadata": {
    "collapsed": false
   }
  },
  {
   "cell_type": "code",
   "execution_count": 61,
   "outputs": [],
   "source": [
    "test_data = data_shuffle[int(0.75 * len(data))+1:]"
   ],
   "metadata": {
    "collapsed": false
   }
  },
  {
   "cell_type": "code",
   "execution_count": 62,
   "outputs": [
    {
     "data": {
      "text/plain": "2499"
     },
     "execution_count": 62,
     "metadata": {},
     "output_type": "execute_result"
    }
   ],
   "source": [
    "len(train_data)"
   ],
   "metadata": {
    "collapsed": false
   }
  },
  {
   "cell_type": "code",
   "execution_count": 63,
   "outputs": [
    {
     "data": {
      "text/plain": "833"
     },
     "execution_count": 63,
     "metadata": {},
     "output_type": "execute_result"
    }
   ],
   "source": [
    "len(test_data)"
   ],
   "metadata": {
    "collapsed": false
   }
  },
  {
   "cell_type": "code",
   "execution_count": null,
   "outputs": [],
   "source": [],
   "metadata": {
    "collapsed": false
   }
  }
 ],
 "metadata": {
  "kernelspec": {
   "display_name": "Python 3",
   "language": "python",
   "name": "python3"
  },
  "language_info": {
   "codemirror_mode": {
    "name": "ipython",
    "version": 2
   },
   "file_extension": ".py",
   "mimetype": "text/x-python",
   "name": "python",
   "nbconvert_exporter": "python",
   "pygments_lexer": "ipython2",
   "version": "2.7.6"
  }
 },
 "nbformat": 4,
 "nbformat_minor": 0
}
